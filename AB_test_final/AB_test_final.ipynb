{
 "cells": [
  {
   "cell_type": "markdown",
   "metadata": {},
   "source": [
    "## Содержание\n",
    "\n",
    "- [Цели исследования](#шаг1)\n",
    "- [Исследование данных:](#шаг2)\n",
    "    - [Требуется ли преобразование типов?](#шаг2.1)\n",
    "    - [Природа пропущенных значений и дубликатов](#шаг2.2)\n",
    "- [Исследовательский анализ данных:](#шаг3)\n",
    "    - [Как меняется конверсия в воронке на разных этапах?](#шаг3.1)\n",
    "    - [Количество событий на пользователя одинаково распределены в выборках?](#шаг3.2)\n",
    "    - [В выборках встречаются одни и те же пользователи?](#шаг3.3)\n",
    "    - [Как число событий распределено по дням?](#шаг3.4)\n",
    "    - [Какие особенности данных нужно учесть, прежде чем приступать к A/B-тестированию?](#шаг3.5)\n",
    "- [Результаты A/B-тестирования](#шаг4)\n",
    "- [Выводы](#шаг5)\n",
    "\n",
    "## Цели исследования<a id='шаг1'></a>\n",
    "\n",
    "Задача: исследовать эффективность внедрения новой рекомендательной системы.\n",
    "\n",
    "**Данные:**\n",
    "\n",
    "`ab_project_marketing_events.csv` — календарь маркетинговых событий на 2020 год.\n",
    "\n",
    "Структура файла:\n",
    "\n",
    "- `name` — название маркетингового события;\n",
    "- `regions` — регионы, в которых будет проводиться рекламная кампания;\n",
    "- `start_dt` — дата начала кампании;\n",
    "- `finish_dt` — дата завершения кампании.\n",
    "\n",
    "`final_ab_new_users.csv` — пользователи, зарегистрировавшиеся с 7 по 21 декабря 2020 года.\n",
    "\n",
    "Структура файла:\n",
    "\n",
    "- `user_id` — идентификатор пользователя;\n",
    "- `first_date` — дата регистрации;\n",
    "- `region` — регион пользователя;\n",
    "- `device` — устройство, с которого происходила регистрация.\n",
    "\n",
    "`final_ab_events.csv` — действия новых пользователей в период с 7 декабря 2020 по 4 января 2021 года.\n",
    "\n",
    "Структура файла:\n",
    "\n",
    "- `user_id` — идентификатор пользователя;\n",
    "- `event_dt` — дата и время покупки;\n",
    "- `event_name` — тип события;\n",
    "- `details` — дополнительные данные о событии. Например, для покупок, `purchase,` в этом поле хранится стоимость покупки в долларах.\n",
    "\n",
    "`final_ab_participants.csv` — таблица участников тестов.\n",
    "\n",
    "Структура файла:\n",
    "\n",
    "- `user_id` — идентификатор пользователя;\n",
    "- `ab_test` — название теста;\n",
    "- `group` — группа пользователя."
   ]
  },
  {
   "cell_type": "markdown",
   "metadata": {},
   "source": [
    "### Техническое задание\n",
    "\n",
    "- Название теста: `recommender_system_test`;\n",
    "- группы: А — контрольная, B — новая платёжная воронка;\n",
    "- дата запуска: 2020-12-07;\n",
    "- дата остановки набора новых пользователей: 2020-12-21;\n",
    "- дата остановки: 2021-01-04;\n",
    "- аудитория: 15% новых пользователей из региона EU;\n",
    "- назначение теста: тестирование изменений, связанных с внедрением улучшенной рекомендательной системы;\n",
    "- ожидаемое количество участников теста: 6000.\n",
    "- ожидаемый эффект: за 14 дней с момента регистрации пользователи покажут улучшение каждой метрики не менее, чем на 10%:\n",
    "    - конверсии в просмотр карточек товаров — событие `product_page`,\n",
    "    - просмотры корзины — `product_cart`,\n",
    "    - покупки — `purchase`."
   ]
  },
  {
   "cell_type": "markdown",
   "metadata": {},
   "source": [
    "## Исследование данных:<a id='шаг2'></a>"
   ]
  },
  {
   "cell_type": "code",
   "execution_count": 1,
   "metadata": {},
   "outputs": [],
   "source": [
    "# импорт библиотек\n",
    "import pandas as pd\n",
    "import numpy as np\n",
    "import matplotlib.pyplot as plt\n",
    "import scipy.stats as st\n",
    "import seaborn as sns"
   ]
  },
  {
   "cell_type": "code",
   "execution_count": 2,
   "metadata": {},
   "outputs": [
    {
     "data": {
      "text/html": [
       "<div>\n",
       "<style scoped>\n",
       "    .dataframe tbody tr th:only-of-type {\n",
       "        vertical-align: middle;\n",
       "    }\n",
       "\n",
       "    .dataframe tbody tr th {\n",
       "        vertical-align: top;\n",
       "    }\n",
       "\n",
       "    .dataframe thead th {\n",
       "        text-align: right;\n",
       "    }\n",
       "</style>\n",
       "<table border=\"1\" class=\"dataframe\">\n",
       "  <thead>\n",
       "    <tr style=\"text-align: right;\">\n",
       "      <th></th>\n",
       "      <th>name</th>\n",
       "      <th>regions</th>\n",
       "      <th>start_dt</th>\n",
       "      <th>finish_dt</th>\n",
       "    </tr>\n",
       "  </thead>\n",
       "  <tbody>\n",
       "    <tr>\n",
       "      <th>0</th>\n",
       "      <td>Christmas&amp;New Year Promo</td>\n",
       "      <td>EU, N.America</td>\n",
       "      <td>2020-12-25</td>\n",
       "      <td>2021-01-03</td>\n",
       "    </tr>\n",
       "    <tr>\n",
       "      <th>1</th>\n",
       "      <td>St. Valentine's Day Giveaway</td>\n",
       "      <td>EU, CIS, APAC, N.America</td>\n",
       "      <td>2020-02-14</td>\n",
       "      <td>2020-02-16</td>\n",
       "    </tr>\n",
       "    <tr>\n",
       "      <th>2</th>\n",
       "      <td>St. Patric's Day Promo</td>\n",
       "      <td>EU, N.America</td>\n",
       "      <td>2020-03-17</td>\n",
       "      <td>2020-03-19</td>\n",
       "    </tr>\n",
       "    <tr>\n",
       "      <th>3</th>\n",
       "      <td>Easter Promo</td>\n",
       "      <td>EU, CIS, APAC, N.America</td>\n",
       "      <td>2020-04-12</td>\n",
       "      <td>2020-04-19</td>\n",
       "    </tr>\n",
       "    <tr>\n",
       "      <th>4</th>\n",
       "      <td>4th of July Promo</td>\n",
       "      <td>N.America</td>\n",
       "      <td>2020-07-04</td>\n",
       "      <td>2020-07-11</td>\n",
       "    </tr>\n",
       "  </tbody>\n",
       "</table>\n",
       "</div>"
      ],
      "text/plain": [
       "                           name                   regions    start_dt  \\\n",
       "0      Christmas&New Year Promo             EU, N.America  2020-12-25   \n",
       "1  St. Valentine's Day Giveaway  EU, CIS, APAC, N.America  2020-02-14   \n",
       "2        St. Patric's Day Promo             EU, N.America  2020-03-17   \n",
       "3                  Easter Promo  EU, CIS, APAC, N.America  2020-04-12   \n",
       "4             4th of July Promo                 N.America  2020-07-04   \n",
       "\n",
       "    finish_dt  \n",
       "0  2021-01-03  \n",
       "1  2020-02-16  \n",
       "2  2020-03-19  \n",
       "3  2020-04-19  \n",
       "4  2020-07-11  "
      ]
     },
     "metadata": {},
     "output_type": "display_data"
    },
    {
     "name": "stdout",
     "output_type": "stream",
     "text": [
      "<class 'pandas.core.frame.DataFrame'>\n",
      "RangeIndex: 14 entries, 0 to 13\n",
      "Data columns (total 4 columns):\n",
      " #   Column     Non-Null Count  Dtype \n",
      "---  ------     --------------  ----- \n",
      " 0   name       14 non-null     object\n",
      " 1   regions    14 non-null     object\n",
      " 2   start_dt   14 non-null     object\n",
      " 3   finish_dt  14 non-null     object\n",
      "dtypes: object(4)\n",
      "memory usage: 576.0+ bytes\n"
     ]
    },
    {
     "data": {
      "text/html": [
       "<div>\n",
       "<style scoped>\n",
       "    .dataframe tbody tr th:only-of-type {\n",
       "        vertical-align: middle;\n",
       "    }\n",
       "\n",
       "    .dataframe tbody tr th {\n",
       "        vertical-align: top;\n",
       "    }\n",
       "\n",
       "    .dataframe thead th {\n",
       "        text-align: right;\n",
       "    }\n",
       "</style>\n",
       "<table border=\"1\" class=\"dataframe\">\n",
       "  <thead>\n",
       "    <tr style=\"text-align: right;\">\n",
       "      <th></th>\n",
       "      <th>user_id</th>\n",
       "      <th>first_date</th>\n",
       "      <th>region</th>\n",
       "      <th>device</th>\n",
       "    </tr>\n",
       "  </thead>\n",
       "  <tbody>\n",
       "    <tr>\n",
       "      <th>0</th>\n",
       "      <td>D72A72121175D8BE</td>\n",
       "      <td>2020-12-07</td>\n",
       "      <td>EU</td>\n",
       "      <td>PC</td>\n",
       "    </tr>\n",
       "    <tr>\n",
       "      <th>1</th>\n",
       "      <td>F1C668619DFE6E65</td>\n",
       "      <td>2020-12-07</td>\n",
       "      <td>N.America</td>\n",
       "      <td>Android</td>\n",
       "    </tr>\n",
       "    <tr>\n",
       "      <th>2</th>\n",
       "      <td>2E1BF1D4C37EA01F</td>\n",
       "      <td>2020-12-07</td>\n",
       "      <td>EU</td>\n",
       "      <td>PC</td>\n",
       "    </tr>\n",
       "    <tr>\n",
       "      <th>3</th>\n",
       "      <td>50734A22C0C63768</td>\n",
       "      <td>2020-12-07</td>\n",
       "      <td>EU</td>\n",
       "      <td>iPhone</td>\n",
       "    </tr>\n",
       "    <tr>\n",
       "      <th>4</th>\n",
       "      <td>E1BDDCE0DAFA2679</td>\n",
       "      <td>2020-12-07</td>\n",
       "      <td>N.America</td>\n",
       "      <td>iPhone</td>\n",
       "    </tr>\n",
       "  </tbody>\n",
       "</table>\n",
       "</div>"
      ],
      "text/plain": [
       "            user_id  first_date     region   device\n",
       "0  D72A72121175D8BE  2020-12-07         EU       PC\n",
       "1  F1C668619DFE6E65  2020-12-07  N.America  Android\n",
       "2  2E1BF1D4C37EA01F  2020-12-07         EU       PC\n",
       "3  50734A22C0C63768  2020-12-07         EU   iPhone\n",
       "4  E1BDDCE0DAFA2679  2020-12-07  N.America   iPhone"
      ]
     },
     "metadata": {},
     "output_type": "display_data"
    },
    {
     "name": "stdout",
     "output_type": "stream",
     "text": [
      "<class 'pandas.core.frame.DataFrame'>\n",
      "RangeIndex: 61733 entries, 0 to 61732\n",
      "Data columns (total 4 columns):\n",
      " #   Column      Non-Null Count  Dtype \n",
      "---  ------      --------------  ----- \n",
      " 0   user_id     61733 non-null  object\n",
      " 1   first_date  61733 non-null  object\n",
      " 2   region      61733 non-null  object\n",
      " 3   device      61733 non-null  object\n",
      "dtypes: object(4)\n",
      "memory usage: 1.9+ MB\n"
     ]
    },
    {
     "data": {
      "text/html": [
       "<div>\n",
       "<style scoped>\n",
       "    .dataframe tbody tr th:only-of-type {\n",
       "        vertical-align: middle;\n",
       "    }\n",
       "\n",
       "    .dataframe tbody tr th {\n",
       "        vertical-align: top;\n",
       "    }\n",
       "\n",
       "    .dataframe thead th {\n",
       "        text-align: right;\n",
       "    }\n",
       "</style>\n",
       "<table border=\"1\" class=\"dataframe\">\n",
       "  <thead>\n",
       "    <tr style=\"text-align: right;\">\n",
       "      <th></th>\n",
       "      <th>user_id</th>\n",
       "      <th>event_dt</th>\n",
       "      <th>event_name</th>\n",
       "      <th>details</th>\n",
       "    </tr>\n",
       "  </thead>\n",
       "  <tbody>\n",
       "    <tr>\n",
       "      <th>0</th>\n",
       "      <td>E1BDDCE0DAFA2679</td>\n",
       "      <td>2020-12-07 20:22:03</td>\n",
       "      <td>purchase</td>\n",
       "      <td>99.99</td>\n",
       "    </tr>\n",
       "    <tr>\n",
       "      <th>1</th>\n",
       "      <td>7B6452F081F49504</td>\n",
       "      <td>2020-12-07 09:22:53</td>\n",
       "      <td>purchase</td>\n",
       "      <td>9.99</td>\n",
       "    </tr>\n",
       "    <tr>\n",
       "      <th>2</th>\n",
       "      <td>9CD9F34546DF254C</td>\n",
       "      <td>2020-12-07 12:59:29</td>\n",
       "      <td>purchase</td>\n",
       "      <td>4.99</td>\n",
       "    </tr>\n",
       "    <tr>\n",
       "      <th>3</th>\n",
       "      <td>96F27A054B191457</td>\n",
       "      <td>2020-12-07 04:02:40</td>\n",
       "      <td>purchase</td>\n",
       "      <td>4.99</td>\n",
       "    </tr>\n",
       "    <tr>\n",
       "      <th>4</th>\n",
       "      <td>1FD7660FDF94CA1F</td>\n",
       "      <td>2020-12-07 10:15:09</td>\n",
       "      <td>purchase</td>\n",
       "      <td>4.99</td>\n",
       "    </tr>\n",
       "  </tbody>\n",
       "</table>\n",
       "</div>"
      ],
      "text/plain": [
       "            user_id             event_dt event_name  details\n",
       "0  E1BDDCE0DAFA2679  2020-12-07 20:22:03   purchase    99.99\n",
       "1  7B6452F081F49504  2020-12-07 09:22:53   purchase     9.99\n",
       "2  9CD9F34546DF254C  2020-12-07 12:59:29   purchase     4.99\n",
       "3  96F27A054B191457  2020-12-07 04:02:40   purchase     4.99\n",
       "4  1FD7660FDF94CA1F  2020-12-07 10:15:09   purchase     4.99"
      ]
     },
     "metadata": {},
     "output_type": "display_data"
    },
    {
     "name": "stdout",
     "output_type": "stream",
     "text": [
      "<class 'pandas.core.frame.DataFrame'>\n",
      "RangeIndex: 440317 entries, 0 to 440316\n",
      "Data columns (total 4 columns):\n",
      " #   Column      Non-Null Count   Dtype  \n",
      "---  ------      --------------   -----  \n",
      " 0   user_id     440317 non-null  object \n",
      " 1   event_dt    440317 non-null  object \n",
      " 2   event_name  440317 non-null  object \n",
      " 3   details     62740 non-null   float64\n",
      "dtypes: float64(1), object(3)\n",
      "memory usage: 13.4+ MB\n"
     ]
    },
    {
     "data": {
      "text/html": [
       "<div>\n",
       "<style scoped>\n",
       "    .dataframe tbody tr th:only-of-type {\n",
       "        vertical-align: middle;\n",
       "    }\n",
       "\n",
       "    .dataframe tbody tr th {\n",
       "        vertical-align: top;\n",
       "    }\n",
       "\n",
       "    .dataframe thead th {\n",
       "        text-align: right;\n",
       "    }\n",
       "</style>\n",
       "<table border=\"1\" class=\"dataframe\">\n",
       "  <thead>\n",
       "    <tr style=\"text-align: right;\">\n",
       "      <th></th>\n",
       "      <th>user_id</th>\n",
       "      <th>group</th>\n",
       "      <th>ab_test</th>\n",
       "    </tr>\n",
       "  </thead>\n",
       "  <tbody>\n",
       "    <tr>\n",
       "      <th>0</th>\n",
       "      <td>D1ABA3E2887B6A73</td>\n",
       "      <td>A</td>\n",
       "      <td>recommender_system_test</td>\n",
       "    </tr>\n",
       "    <tr>\n",
       "      <th>1</th>\n",
       "      <td>A7A3664BD6242119</td>\n",
       "      <td>A</td>\n",
       "      <td>recommender_system_test</td>\n",
       "    </tr>\n",
       "    <tr>\n",
       "      <th>2</th>\n",
       "      <td>DABC14FDDFADD29E</td>\n",
       "      <td>A</td>\n",
       "      <td>recommender_system_test</td>\n",
       "    </tr>\n",
       "    <tr>\n",
       "      <th>3</th>\n",
       "      <td>04988C5DF189632E</td>\n",
       "      <td>A</td>\n",
       "      <td>recommender_system_test</td>\n",
       "    </tr>\n",
       "    <tr>\n",
       "      <th>4</th>\n",
       "      <td>482F14783456D21B</td>\n",
       "      <td>B</td>\n",
       "      <td>recommender_system_test</td>\n",
       "    </tr>\n",
       "  </tbody>\n",
       "</table>\n",
       "</div>"
      ],
      "text/plain": [
       "            user_id group                  ab_test\n",
       "0  D1ABA3E2887B6A73     A  recommender_system_test\n",
       "1  A7A3664BD6242119     A  recommender_system_test\n",
       "2  DABC14FDDFADD29E     A  recommender_system_test\n",
       "3  04988C5DF189632E     A  recommender_system_test\n",
       "4  482F14783456D21B     B  recommender_system_test"
      ]
     },
     "metadata": {},
     "output_type": "display_data"
    },
    {
     "name": "stdout",
     "output_type": "stream",
     "text": [
      "<class 'pandas.core.frame.DataFrame'>\n",
      "RangeIndex: 18268 entries, 0 to 18267\n",
      "Data columns (total 3 columns):\n",
      " #   Column   Non-Null Count  Dtype \n",
      "---  ------   --------------  ----- \n",
      " 0   user_id  18268 non-null  object\n",
      " 1   group    18268 non-null  object\n",
      " 2   ab_test  18268 non-null  object\n",
      "dtypes: object(3)\n",
      "memory usage: 428.3+ KB\n"
     ]
    }
   ],
   "source": [
    "# загрузка данных\n",
    "try:\n",
    "    mark = pd.read_csv(\"/datasets/ab_project_marketing_events.csv\")\n",
    "    ab_new = pd.read_csv(\"/datasets/final_ab_new_users.csv\")\n",
    "    ev = pd.read_csv(\"/datasets/final_ab_events.csv\")\n",
    "    part = pd.read_csv(\"/datasets/final_ab_participants.csv\")\n",
    "except:\n",
    "    mark = pd.read_csv(\"datasets/ab_project_marketing_events.csv\")\n",
    "    ab_new = pd.read_csv(\"datasets/final_ab_new_users.csv\")\n",
    "    ev = pd.read_csv(\"datasets/final_ab_events.csv\")\n",
    "    part = pd.read_csv(\"datasets/final_ab_participants.csv\")\n",
    "\n",
    "tables = [mark, ab_new, ev, part]\n",
    "\n",
    "for t in tables:\n",
    "    display(t.head())\n",
    "    t.info()"
   ]
  },
  {
   "cell_type": "markdown",
   "metadata": {},
   "source": [
    "Данные в целом полные, есть данные о проводимых маркетинговых акциях, зарегистрировавшихся пользователях, событиях пользователей и разделении их на группы теста. Данных для исследования результатов А/В тестирования достаточно.\n",
    "Пропуски есть только в дополнительном поле `details`, которое по смыслу не всегда заполнено, так что потери данных нет.\n",
    "\n",
    "### Требуется ли преобразование типов?<a id='шаг2.1'></a>\n",
    "\n",
    "Преобразования требуют только даты - например, маркетинговых акций и сессий (дата и время)."
   ]
  },
  {
   "cell_type": "code",
   "execution_count": 3,
   "metadata": {},
   "outputs": [
    {
     "data": {
      "text/html": [
       "<div>\n",
       "<style scoped>\n",
       "    .dataframe tbody tr th:only-of-type {\n",
       "        vertical-align: middle;\n",
       "    }\n",
       "\n",
       "    .dataframe tbody tr th {\n",
       "        vertical-align: top;\n",
       "    }\n",
       "\n",
       "    .dataframe thead th {\n",
       "        text-align: right;\n",
       "    }\n",
       "</style>\n",
       "<table border=\"1\" class=\"dataframe\">\n",
       "  <thead>\n",
       "    <tr style=\"text-align: right;\">\n",
       "      <th></th>\n",
       "      <th>name</th>\n",
       "      <th>regions</th>\n",
       "      <th>start_dt</th>\n",
       "      <th>finish_dt</th>\n",
       "      <th>start_dt_strf</th>\n",
       "      <th>finish_dt_strf</th>\n",
       "    </tr>\n",
       "  </thead>\n",
       "  <tbody>\n",
       "    <tr>\n",
       "      <th>0</th>\n",
       "      <td>Christmas&amp;New Year Promo</td>\n",
       "      <td>EU, N.America</td>\n",
       "      <td>2020-12-25</td>\n",
       "      <td>2021-01-03</td>\n",
       "      <td>2020-12-25</td>\n",
       "      <td>2021-01-03</td>\n",
       "    </tr>\n",
       "  </tbody>\n",
       "</table>\n",
       "</div>"
      ],
      "text/plain": [
       "                       name        regions   start_dt  finish_dt  \\\n",
       "0  Christmas&New Year Promo  EU, N.America 2020-12-25 2021-01-03   \n",
       "\n",
       "  start_dt_strf finish_dt_strf  \n",
       "0    2020-12-25     2021-01-03  "
      ]
     },
     "metadata": {},
     "output_type": "display_data"
    },
    {
     "name": "stdout",
     "output_type": "stream",
     "text": [
      "<class 'pandas.core.frame.DataFrame'>\n",
      "RangeIndex: 14 entries, 0 to 13\n",
      "Data columns (total 6 columns):\n",
      " #   Column          Non-Null Count  Dtype         \n",
      "---  ------          --------------  -----         \n",
      " 0   name            14 non-null     object        \n",
      " 1   regions         14 non-null     object        \n",
      " 2   start_dt        14 non-null     datetime64[ns]\n",
      " 3   finish_dt       14 non-null     datetime64[ns]\n",
      " 4   start_dt_strf   14 non-null     object        \n",
      " 5   finish_dt_strf  14 non-null     object        \n",
      "dtypes: datetime64[ns](2), object(4)\n",
      "memory usage: 800.0+ bytes\n"
     ]
    },
    {
     "data": {
      "text/html": [
       "<div>\n",
       "<style scoped>\n",
       "    .dataframe tbody tr th:only-of-type {\n",
       "        vertical-align: middle;\n",
       "    }\n",
       "\n",
       "    .dataframe tbody tr th {\n",
       "        vertical-align: top;\n",
       "    }\n",
       "\n",
       "    .dataframe thead th {\n",
       "        text-align: right;\n",
       "    }\n",
       "</style>\n",
       "<table border=\"1\" class=\"dataframe\">\n",
       "  <thead>\n",
       "    <tr style=\"text-align: right;\">\n",
       "      <th></th>\n",
       "      <th>user_id</th>\n",
       "      <th>first_date</th>\n",
       "      <th>region</th>\n",
       "      <th>device</th>\n",
       "      <th>first_date_strf</th>\n",
       "    </tr>\n",
       "  </thead>\n",
       "  <tbody>\n",
       "    <tr>\n",
       "      <th>0</th>\n",
       "      <td>D72A72121175D8BE</td>\n",
       "      <td>2020-12-07</td>\n",
       "      <td>EU</td>\n",
       "      <td>PC</td>\n",
       "      <td>2020-12-07</td>\n",
       "    </tr>\n",
       "  </tbody>\n",
       "</table>\n",
       "</div>"
      ],
      "text/plain": [
       "            user_id first_date region device first_date_strf\n",
       "0  D72A72121175D8BE 2020-12-07     EU     PC      2020-12-07"
      ]
     },
     "metadata": {},
     "output_type": "display_data"
    },
    {
     "name": "stdout",
     "output_type": "stream",
     "text": [
      "<class 'pandas.core.frame.DataFrame'>\n",
      "RangeIndex: 61733 entries, 0 to 61732\n",
      "Data columns (total 5 columns):\n",
      " #   Column           Non-Null Count  Dtype         \n",
      "---  ------           --------------  -----         \n",
      " 0   user_id          61733 non-null  object        \n",
      " 1   first_date       61733 non-null  datetime64[ns]\n",
      " 2   region           61733 non-null  object        \n",
      " 3   device           61733 non-null  object        \n",
      " 4   first_date_strf  61733 non-null  object        \n",
      "dtypes: datetime64[ns](1), object(4)\n",
      "memory usage: 2.4+ MB\n"
     ]
    },
    {
     "data": {
      "text/html": [
       "<div>\n",
       "<style scoped>\n",
       "    .dataframe tbody tr th:only-of-type {\n",
       "        vertical-align: middle;\n",
       "    }\n",
       "\n",
       "    .dataframe tbody tr th {\n",
       "        vertical-align: top;\n",
       "    }\n",
       "\n",
       "    .dataframe thead th {\n",
       "        text-align: right;\n",
       "    }\n",
       "</style>\n",
       "<table border=\"1\" class=\"dataframe\">\n",
       "  <thead>\n",
       "    <tr style=\"text-align: right;\">\n",
       "      <th></th>\n",
       "      <th>user_id</th>\n",
       "      <th>event_dt</th>\n",
       "      <th>event_name</th>\n",
       "      <th>details</th>\n",
       "      <th>event_dt_strf</th>\n",
       "    </tr>\n",
       "  </thead>\n",
       "  <tbody>\n",
       "    <tr>\n",
       "      <th>0</th>\n",
       "      <td>E1BDDCE0DAFA2679</td>\n",
       "      <td>2020-12-07 20:22:03</td>\n",
       "      <td>purchase</td>\n",
       "      <td>99.99</td>\n",
       "      <td>2020-12-07</td>\n",
       "    </tr>\n",
       "  </tbody>\n",
       "</table>\n",
       "</div>"
      ],
      "text/plain": [
       "            user_id            event_dt event_name  details event_dt_strf\n",
       "0  E1BDDCE0DAFA2679 2020-12-07 20:22:03   purchase    99.99    2020-12-07"
      ]
     },
     "metadata": {},
     "output_type": "display_data"
    },
    {
     "name": "stdout",
     "output_type": "stream",
     "text": [
      "<class 'pandas.core.frame.DataFrame'>\n",
      "RangeIndex: 440317 entries, 0 to 440316\n",
      "Data columns (total 5 columns):\n",
      " #   Column         Non-Null Count   Dtype         \n",
      "---  ------         --------------   -----         \n",
      " 0   user_id        440317 non-null  object        \n",
      " 1   event_dt       440317 non-null  datetime64[ns]\n",
      " 2   event_name     440317 non-null  object        \n",
      " 3   details        62740 non-null   float64       \n",
      " 4   event_dt_strf  440317 non-null  object        \n",
      "dtypes: datetime64[ns](1), float64(1), object(3)\n",
      "memory usage: 16.8+ MB\n"
     ]
    },
    {
     "data": {
      "text/html": [
       "<div>\n",
       "<style scoped>\n",
       "    .dataframe tbody tr th:only-of-type {\n",
       "        vertical-align: middle;\n",
       "    }\n",
       "\n",
       "    .dataframe tbody tr th {\n",
       "        vertical-align: top;\n",
       "    }\n",
       "\n",
       "    .dataframe thead th {\n",
       "        text-align: right;\n",
       "    }\n",
       "</style>\n",
       "<table border=\"1\" class=\"dataframe\">\n",
       "  <thead>\n",
       "    <tr style=\"text-align: right;\">\n",
       "      <th></th>\n",
       "      <th>user_id</th>\n",
       "      <th>group</th>\n",
       "      <th>ab_test</th>\n",
       "    </tr>\n",
       "  </thead>\n",
       "  <tbody>\n",
       "    <tr>\n",
       "      <th>0</th>\n",
       "      <td>D1ABA3E2887B6A73</td>\n",
       "      <td>A</td>\n",
       "      <td>recommender_system_test</td>\n",
       "    </tr>\n",
       "  </tbody>\n",
       "</table>\n",
       "</div>"
      ],
      "text/plain": [
       "            user_id group                  ab_test\n",
       "0  D1ABA3E2887B6A73     A  recommender_system_test"
      ]
     },
     "metadata": {},
     "output_type": "display_data"
    },
    {
     "name": "stdout",
     "output_type": "stream",
     "text": [
      "<class 'pandas.core.frame.DataFrame'>\n",
      "RangeIndex: 18268 entries, 0 to 18267\n",
      "Data columns (total 3 columns):\n",
      " #   Column   Non-Null Count  Dtype \n",
      "---  ------   --------------  ----- \n",
      " 0   user_id  18268 non-null  object\n",
      " 1   group    18268 non-null  object\n",
      " 2   ab_test  18268 non-null  object\n",
      "dtypes: object(3)\n",
      "memory usage: 428.3+ KB\n"
     ]
    }
   ],
   "source": [
    "mark['start_dt'] = pd.to_datetime(mark['start_dt'])\n",
    "mark['finish_dt'] = pd.to_datetime(mark['finish_dt'])\n",
    "mark['start_dt_strf'] = mark['start_dt'].dt.strftime('%Y-%m-%d')\n",
    "mark['finish_dt_strf'] = mark['finish_dt'].dt.strftime('%Y-%m-%d')\n",
    "\n",
    "ab_new['first_date'] = pd.to_datetime(ab_new['first_date'])\n",
    "ab_new['first_date_strf'] = ab_new['first_date'].dt.strftime('%Y-%m-%d')\n",
    "\n",
    "ev['event_dt'] = pd.to_datetime(ev['event_dt'])\n",
    "ev['event_dt_strf'] = ev['event_dt'].dt.strftime('%Y-%m-%d')\n",
    "\n",
    "for t in tables:\n",
    "    display(t.head(1))\n",
    "    t.info()"
   ]
  },
  {
   "cell_type": "markdown",
   "metadata": {},
   "source": [
    "### Природа пропущенных значений и дубликатов<a id='шаг2.2'></a>\n",
    "\n",
    "Проверка на дубликаты:"
   ]
  },
  {
   "cell_type": "code",
   "execution_count": 4,
   "metadata": {},
   "outputs": [
    {
     "data": {
      "text/plain": [
       "0"
      ]
     },
     "execution_count": 4,
     "metadata": {},
     "output_type": "execute_result"
    }
   ],
   "source": [
    "mark.duplicated().sum()"
   ]
  },
  {
   "cell_type": "code",
   "execution_count": 5,
   "metadata": {},
   "outputs": [
    {
     "data": {
      "text/plain": [
       "0"
      ]
     },
     "execution_count": 5,
     "metadata": {},
     "output_type": "execute_result"
    }
   ],
   "source": [
    "ab_new.duplicated().sum()"
   ]
  },
  {
   "cell_type": "code",
   "execution_count": 6,
   "metadata": {},
   "outputs": [
    {
     "data": {
      "text/plain": [
       "0"
      ]
     },
     "execution_count": 6,
     "metadata": {},
     "output_type": "execute_result"
    }
   ],
   "source": [
    "ev.duplicated().sum()"
   ]
  },
  {
   "cell_type": "code",
   "execution_count": 7,
   "metadata": {},
   "outputs": [
    {
     "data": {
      "text/plain": [
       "0"
      ]
     },
     "execution_count": 7,
     "metadata": {},
     "output_type": "execute_result"
    }
   ],
   "source": [
    "part.duplicated().sum()"
   ]
  },
  {
   "cell_type": "markdown",
   "metadata": {},
   "source": [
    "Дубликаты отсутствуют\n",
    "\n",
    "**Проверка неправильных значений:**\n",
    "\n",
    "- Таблица маркетинговых акций"
   ]
  },
  {
   "cell_type": "code",
   "execution_count": 8,
   "metadata": {},
   "outputs": [
    {
     "data": {
      "text/html": [
       "<div>\n",
       "<style scoped>\n",
       "    .dataframe tbody tr th:only-of-type {\n",
       "        vertical-align: middle;\n",
       "    }\n",
       "\n",
       "    .dataframe tbody tr th {\n",
       "        vertical-align: top;\n",
       "    }\n",
       "\n",
       "    .dataframe thead th {\n",
       "        text-align: right;\n",
       "    }\n",
       "</style>\n",
       "<table border=\"1\" class=\"dataframe\">\n",
       "  <thead>\n",
       "    <tr style=\"text-align: right;\">\n",
       "      <th></th>\n",
       "      <th>name</th>\n",
       "      <th>regions</th>\n",
       "      <th>start_dt</th>\n",
       "      <th>finish_dt</th>\n",
       "      <th>start_dt_strf</th>\n",
       "      <th>finish_dt_strf</th>\n",
       "    </tr>\n",
       "  </thead>\n",
       "  <tbody>\n",
       "    <tr>\n",
       "      <th>10</th>\n",
       "      <td>CIS New Year Gift Lottery</td>\n",
       "      <td>CIS</td>\n",
       "      <td>2020-12-30</td>\n",
       "      <td>2021-01-07</td>\n",
       "      <td>2020-12-30</td>\n",
       "      <td>2021-01-07</td>\n",
       "    </tr>\n",
       "    <tr>\n",
       "      <th>0</th>\n",
       "      <td>Christmas&amp;New Year Promo</td>\n",
       "      <td>EU, N.America</td>\n",
       "      <td>2020-12-25</td>\n",
       "      <td>2021-01-03</td>\n",
       "      <td>2020-12-25</td>\n",
       "      <td>2021-01-03</td>\n",
       "    </tr>\n",
       "    <tr>\n",
       "      <th>5</th>\n",
       "      <td>Black Friday Ads Campaign</td>\n",
       "      <td>EU, CIS, APAC, N.America</td>\n",
       "      <td>2020-11-26</td>\n",
       "      <td>2020-12-01</td>\n",
       "      <td>2020-11-26</td>\n",
       "      <td>2020-12-01</td>\n",
       "    </tr>\n",
       "    <tr>\n",
       "      <th>12</th>\n",
       "      <td>Single's Day Gift Promo</td>\n",
       "      <td>APAC</td>\n",
       "      <td>2020-11-11</td>\n",
       "      <td>2020-11-12</td>\n",
       "      <td>2020-11-11</td>\n",
       "      <td>2020-11-12</td>\n",
       "    </tr>\n",
       "    <tr>\n",
       "      <th>13</th>\n",
       "      <td>Chinese Moon Festival</td>\n",
       "      <td>APAC</td>\n",
       "      <td>2020-10-01</td>\n",
       "      <td>2020-10-07</td>\n",
       "      <td>2020-10-01</td>\n",
       "      <td>2020-10-07</td>\n",
       "    </tr>\n",
       "    <tr>\n",
       "      <th>4</th>\n",
       "      <td>4th of July Promo</td>\n",
       "      <td>N.America</td>\n",
       "      <td>2020-07-04</td>\n",
       "      <td>2020-07-11</td>\n",
       "      <td>2020-07-04</td>\n",
       "      <td>2020-07-11</td>\n",
       "    </tr>\n",
       "    <tr>\n",
       "      <th>11</th>\n",
       "      <td>Dragon Boat Festival Giveaway</td>\n",
       "      <td>APAC</td>\n",
       "      <td>2020-06-25</td>\n",
       "      <td>2020-07-01</td>\n",
       "      <td>2020-06-25</td>\n",
       "      <td>2020-07-01</td>\n",
       "    </tr>\n",
       "    <tr>\n",
       "      <th>9</th>\n",
       "      <td>Victory Day CIS (May 9th) Event</td>\n",
       "      <td>CIS</td>\n",
       "      <td>2020-05-09</td>\n",
       "      <td>2020-05-11</td>\n",
       "      <td>2020-05-09</td>\n",
       "      <td>2020-05-11</td>\n",
       "    </tr>\n",
       "    <tr>\n",
       "      <th>7</th>\n",
       "      <td>Labor day (May 1st) Ads Campaign</td>\n",
       "      <td>EU, CIS, APAC</td>\n",
       "      <td>2020-05-01</td>\n",
       "      <td>2020-05-03</td>\n",
       "      <td>2020-05-01</td>\n",
       "      <td>2020-05-03</td>\n",
       "    </tr>\n",
       "    <tr>\n",
       "      <th>3</th>\n",
       "      <td>Easter Promo</td>\n",
       "      <td>EU, CIS, APAC, N.America</td>\n",
       "      <td>2020-04-12</td>\n",
       "      <td>2020-04-19</td>\n",
       "      <td>2020-04-12</td>\n",
       "      <td>2020-04-19</td>\n",
       "    </tr>\n",
       "    <tr>\n",
       "      <th>2</th>\n",
       "      <td>St. Patric's Day Promo</td>\n",
       "      <td>EU, N.America</td>\n",
       "      <td>2020-03-17</td>\n",
       "      <td>2020-03-19</td>\n",
       "      <td>2020-03-17</td>\n",
       "      <td>2020-03-19</td>\n",
       "    </tr>\n",
       "    <tr>\n",
       "      <th>8</th>\n",
       "      <td>International Women's Day Promo</td>\n",
       "      <td>EU, CIS, APAC</td>\n",
       "      <td>2020-03-08</td>\n",
       "      <td>2020-03-10</td>\n",
       "      <td>2020-03-08</td>\n",
       "      <td>2020-03-10</td>\n",
       "    </tr>\n",
       "    <tr>\n",
       "      <th>1</th>\n",
       "      <td>St. Valentine's Day Giveaway</td>\n",
       "      <td>EU, CIS, APAC, N.America</td>\n",
       "      <td>2020-02-14</td>\n",
       "      <td>2020-02-16</td>\n",
       "      <td>2020-02-14</td>\n",
       "      <td>2020-02-16</td>\n",
       "    </tr>\n",
       "    <tr>\n",
       "      <th>6</th>\n",
       "      <td>Chinese New Year Promo</td>\n",
       "      <td>APAC</td>\n",
       "      <td>2020-01-25</td>\n",
       "      <td>2020-02-07</td>\n",
       "      <td>2020-01-25</td>\n",
       "      <td>2020-02-07</td>\n",
       "    </tr>\n",
       "  </tbody>\n",
       "</table>\n",
       "</div>"
      ],
      "text/plain": [
       "                                name                   regions   start_dt  \\\n",
       "10         CIS New Year Gift Lottery                       CIS 2020-12-30   \n",
       "0           Christmas&New Year Promo             EU, N.America 2020-12-25   \n",
       "5          Black Friday Ads Campaign  EU, CIS, APAC, N.America 2020-11-26   \n",
       "12           Single's Day Gift Promo                      APAC 2020-11-11   \n",
       "13             Chinese Moon Festival                      APAC 2020-10-01   \n",
       "4                  4th of July Promo                 N.America 2020-07-04   \n",
       "11     Dragon Boat Festival Giveaway                      APAC 2020-06-25   \n",
       "9    Victory Day CIS (May 9th) Event                       CIS 2020-05-09   \n",
       "7   Labor day (May 1st) Ads Campaign             EU, CIS, APAC 2020-05-01   \n",
       "3                       Easter Promo  EU, CIS, APAC, N.America 2020-04-12   \n",
       "2             St. Patric's Day Promo             EU, N.America 2020-03-17   \n",
       "8    International Women's Day Promo             EU, CIS, APAC 2020-03-08   \n",
       "1       St. Valentine's Day Giveaway  EU, CIS, APAC, N.America 2020-02-14   \n",
       "6             Chinese New Year Promo                      APAC 2020-01-25   \n",
       "\n",
       "    finish_dt start_dt_strf finish_dt_strf  \n",
       "10 2021-01-07    2020-12-30     2021-01-07  \n",
       "0  2021-01-03    2020-12-25     2021-01-03  \n",
       "5  2020-12-01    2020-11-26     2020-12-01  \n",
       "12 2020-11-12    2020-11-11     2020-11-12  \n",
       "13 2020-10-07    2020-10-01     2020-10-07  \n",
       "4  2020-07-11    2020-07-04     2020-07-11  \n",
       "11 2020-07-01    2020-06-25     2020-07-01  \n",
       "9  2020-05-11    2020-05-09     2020-05-11  \n",
       "7  2020-05-03    2020-05-01     2020-05-03  \n",
       "3  2020-04-19    2020-04-12     2020-04-19  \n",
       "2  2020-03-19    2020-03-17     2020-03-19  \n",
       "8  2020-03-10    2020-03-08     2020-03-10  \n",
       "1  2020-02-16    2020-02-14     2020-02-16  \n",
       "6  2020-02-07    2020-01-25     2020-02-07  "
      ]
     },
     "execution_count": 8,
     "metadata": {},
     "output_type": "execute_result"
    }
   ],
   "source": [
    "mark.sort_values(by='start_dt', ascending=False)"
   ]
  },
  {
   "cell_type": "markdown",
   "metadata": {},
   "source": [
    "Всё верно, в таблице действительно содержатся данные о маркетинговых событиях за 2020 год.\n",
    "\n",
    "- Таблица пользователей, зарегистрировавшихся с 7 по 21 декабря 2020 года."
   ]
  },
  {
   "cell_type": "code",
   "execution_count": 9,
   "metadata": {},
   "outputs": [
    {
     "data": {
      "text/html": [
       "<div>\n",
       "<style scoped>\n",
       "    .dataframe tbody tr th:only-of-type {\n",
       "        vertical-align: middle;\n",
       "    }\n",
       "\n",
       "    .dataframe tbody tr th {\n",
       "        vertical-align: top;\n",
       "    }\n",
       "\n",
       "    .dataframe thead th {\n",
       "        text-align: right;\n",
       "    }\n",
       "</style>\n",
       "<table border=\"1\" class=\"dataframe\">\n",
       "  <thead>\n",
       "    <tr style=\"text-align: right;\">\n",
       "      <th></th>\n",
       "      <th>user_id</th>\n",
       "      <th>first_date</th>\n",
       "      <th>region</th>\n",
       "      <th>device</th>\n",
       "      <th>first_date_strf</th>\n",
       "    </tr>\n",
       "  </thead>\n",
       "  <tbody>\n",
       "    <tr>\n",
       "      <th>0</th>\n",
       "      <td>D72A72121175D8BE</td>\n",
       "      <td>2020-12-07</td>\n",
       "      <td>EU</td>\n",
       "      <td>PC</td>\n",
       "      <td>2020-12-07</td>\n",
       "    </tr>\n",
       "    <tr>\n",
       "      <th>1</th>\n",
       "      <td>F1C668619DFE6E65</td>\n",
       "      <td>2020-12-07</td>\n",
       "      <td>N.America</td>\n",
       "      <td>Android</td>\n",
       "      <td>2020-12-07</td>\n",
       "    </tr>\n",
       "    <tr>\n",
       "      <th>2</th>\n",
       "      <td>2E1BF1D4C37EA01F</td>\n",
       "      <td>2020-12-07</td>\n",
       "      <td>EU</td>\n",
       "      <td>PC</td>\n",
       "      <td>2020-12-07</td>\n",
       "    </tr>\n",
       "    <tr>\n",
       "      <th>3</th>\n",
       "      <td>50734A22C0C63768</td>\n",
       "      <td>2020-12-07</td>\n",
       "      <td>EU</td>\n",
       "      <td>iPhone</td>\n",
       "      <td>2020-12-07</td>\n",
       "    </tr>\n",
       "    <tr>\n",
       "      <th>4</th>\n",
       "      <td>E1BDDCE0DAFA2679</td>\n",
       "      <td>2020-12-07</td>\n",
       "      <td>N.America</td>\n",
       "      <td>iPhone</td>\n",
       "      <td>2020-12-07</td>\n",
       "    </tr>\n",
       "  </tbody>\n",
       "</table>\n",
       "</div>"
      ],
      "text/plain": [
       "            user_id first_date     region   device first_date_strf\n",
       "0  D72A72121175D8BE 2020-12-07         EU       PC      2020-12-07\n",
       "1  F1C668619DFE6E65 2020-12-07  N.America  Android      2020-12-07\n",
       "2  2E1BF1D4C37EA01F 2020-12-07         EU       PC      2020-12-07\n",
       "3  50734A22C0C63768 2020-12-07         EU   iPhone      2020-12-07\n",
       "4  E1BDDCE0DAFA2679 2020-12-07  N.America   iPhone      2020-12-07"
      ]
     },
     "execution_count": 9,
     "metadata": {},
     "output_type": "execute_result"
    }
   ],
   "source": [
    "ab_new.head()"
   ]
  },
  {
   "cell_type": "markdown",
   "metadata": {},
   "source": [
    "Уникальность пользователей:"
   ]
  },
  {
   "cell_type": "code",
   "execution_count": 10,
   "metadata": {},
   "outputs": [
    {
     "data": {
      "text/plain": [
       "True"
      ]
     },
     "execution_count": 10,
     "metadata": {},
     "output_type": "execute_result"
    }
   ],
   "source": [
    "ab_new.user_id.nunique() == ab_new.shape[0]"
   ]
  },
  {
   "cell_type": "markdown",
   "metadata": {},
   "source": [
    "Проверка значений в колонках `регион` и `устройство`:"
   ]
  },
  {
   "cell_type": "code",
   "execution_count": 11,
   "metadata": {},
   "outputs": [
    {
     "data": {
      "text/plain": [
       "Android    27520\n",
       "PC         15599\n",
       "iPhone     12530\n",
       "Mac         6084\n",
       "Name: device, dtype: int64"
      ]
     },
     "execution_count": 11,
     "metadata": {},
     "output_type": "execute_result"
    }
   ],
   "source": [
    "ab_new['region'].value_counts()\n",
    "\n",
    "ab_new['device'].value_counts()"
   ]
  },
  {
   "cell_type": "markdown",
   "metadata": {},
   "source": [
    "Верные значения\n",
    "\n",
    "- Действия новых пользователей в период с 7 декабря 2020 по 4 января 2021 года."
   ]
  },
  {
   "cell_type": "code",
   "execution_count": 12,
   "metadata": {},
   "outputs": [
    {
     "data": {
      "text/html": [
       "<div>\n",
       "<style scoped>\n",
       "    .dataframe tbody tr th:only-of-type {\n",
       "        vertical-align: middle;\n",
       "    }\n",
       "\n",
       "    .dataframe tbody tr th {\n",
       "        vertical-align: top;\n",
       "    }\n",
       "\n",
       "    .dataframe thead th {\n",
       "        text-align: right;\n",
       "    }\n",
       "</style>\n",
       "<table border=\"1\" class=\"dataframe\">\n",
       "  <thead>\n",
       "    <tr style=\"text-align: right;\">\n",
       "      <th></th>\n",
       "      <th>user_id</th>\n",
       "      <th>event_dt</th>\n",
       "      <th>event_name</th>\n",
       "      <th>details</th>\n",
       "      <th>event_dt_strf</th>\n",
       "    </tr>\n",
       "  </thead>\n",
       "  <tbody>\n",
       "    <tr>\n",
       "      <th>0</th>\n",
       "      <td>E1BDDCE0DAFA2679</td>\n",
       "      <td>2020-12-07 20:22:03</td>\n",
       "      <td>purchase</td>\n",
       "      <td>99.99</td>\n",
       "      <td>2020-12-07</td>\n",
       "    </tr>\n",
       "    <tr>\n",
       "      <th>1</th>\n",
       "      <td>7B6452F081F49504</td>\n",
       "      <td>2020-12-07 09:22:53</td>\n",
       "      <td>purchase</td>\n",
       "      <td>9.99</td>\n",
       "      <td>2020-12-07</td>\n",
       "    </tr>\n",
       "    <tr>\n",
       "      <th>2</th>\n",
       "      <td>9CD9F34546DF254C</td>\n",
       "      <td>2020-12-07 12:59:29</td>\n",
       "      <td>purchase</td>\n",
       "      <td>4.99</td>\n",
       "      <td>2020-12-07</td>\n",
       "    </tr>\n",
       "    <tr>\n",
       "      <th>3</th>\n",
       "      <td>96F27A054B191457</td>\n",
       "      <td>2020-12-07 04:02:40</td>\n",
       "      <td>purchase</td>\n",
       "      <td>4.99</td>\n",
       "      <td>2020-12-07</td>\n",
       "    </tr>\n",
       "    <tr>\n",
       "      <th>4</th>\n",
       "      <td>1FD7660FDF94CA1F</td>\n",
       "      <td>2020-12-07 10:15:09</td>\n",
       "      <td>purchase</td>\n",
       "      <td>4.99</td>\n",
       "      <td>2020-12-07</td>\n",
       "    </tr>\n",
       "  </tbody>\n",
       "</table>\n",
       "</div>"
      ],
      "text/plain": [
       "            user_id            event_dt event_name  details event_dt_strf\n",
       "0  E1BDDCE0DAFA2679 2020-12-07 20:22:03   purchase    99.99    2020-12-07\n",
       "1  7B6452F081F49504 2020-12-07 09:22:53   purchase     9.99    2020-12-07\n",
       "2  9CD9F34546DF254C 2020-12-07 12:59:29   purchase     4.99    2020-12-07\n",
       "3  96F27A054B191457 2020-12-07 04:02:40   purchase     4.99    2020-12-07\n",
       "4  1FD7660FDF94CA1F 2020-12-07 10:15:09   purchase     4.99    2020-12-07"
      ]
     },
     "execution_count": 12,
     "metadata": {},
     "output_type": "execute_result"
    }
   ],
   "source": [
    "ev.head()"
   ]
  },
  {
   "cell_type": "code",
   "execution_count": 13,
   "metadata": {},
   "outputs": [
    {
     "data": {
      "text/plain": [
       "A3917F81482141F2    36\n",
       "426330B820B8711A    32\n",
       "D6477068EF132236    32\n",
       "590DACD07A839BC3    32\n",
       "8AEB716C4CD82CA7    32\n",
       "                    ..\n",
       "F7DC611E716A9F76     1\n",
       "031060788BD3E254     1\n",
       "9EE380FE30767EA8     1\n",
       "A7F250AB66BF8AA9     1\n",
       "812A667823327EDD     1\n",
       "Name: user_id, Length: 58703, dtype: int64"
      ]
     },
     "execution_count": 13,
     "metadata": {},
     "output_type": "execute_result"
    }
   ],
   "source": [
    "ev['user_id'].value_counts()"
   ]
  },
  {
   "cell_type": "markdown",
   "metadata": {},
   "source": [
    "Типы событий:"
   ]
  },
  {
   "cell_type": "code",
   "execution_count": 14,
   "metadata": {},
   "outputs": [
    {
     "data": {
      "text/plain": [
       "login           189552\n",
       "product_page    125563\n",
       "purchase         62740\n",
       "product_cart     62462\n",
       "Name: event_name, dtype: int64"
      ]
     },
     "execution_count": 14,
     "metadata": {},
     "output_type": "execute_result"
    }
   ],
   "source": [
    "ev.event_name.value_counts()"
   ]
  },
  {
   "cell_type": "markdown",
   "metadata": {},
   "source": [
    "Детали:"
   ]
  },
  {
   "cell_type": "code",
   "execution_count": 15,
   "metadata": {},
   "outputs": [
    {
     "data": {
      "text/plain": [
       "event_name    details\n",
       "login         NaN        189552\n",
       "product_cart  NaN         62462\n",
       "product_page  NaN        125563\n",
       "purchase      4.99        46362\n",
       "              9.99         9530\n",
       "              99.99        5631\n",
       "              499.99       1217\n",
       "Name: details, dtype: int64"
      ]
     },
     "execution_count": 15,
     "metadata": {},
     "output_type": "execute_result"
    }
   ],
   "source": [
    "ev.groupby('event_name')['details'].value_counts(dropna=False)"
   ]
  },
  {
   "cell_type": "markdown",
   "metadata": {},
   "source": [
    "Есть лишь данные о стоимости покупки.\n",
    "\n",
    "- Таблица участников тестов."
   ]
  },
  {
   "cell_type": "code",
   "execution_count": 16,
   "metadata": {},
   "outputs": [
    {
     "data": {
      "text/html": [
       "<div>\n",
       "<style scoped>\n",
       "    .dataframe tbody tr th:only-of-type {\n",
       "        vertical-align: middle;\n",
       "    }\n",
       "\n",
       "    .dataframe tbody tr th {\n",
       "        vertical-align: top;\n",
       "    }\n",
       "\n",
       "    .dataframe thead th {\n",
       "        text-align: right;\n",
       "    }\n",
       "</style>\n",
       "<table border=\"1\" class=\"dataframe\">\n",
       "  <thead>\n",
       "    <tr style=\"text-align: right;\">\n",
       "      <th></th>\n",
       "      <th>user_id</th>\n",
       "      <th>group</th>\n",
       "      <th>ab_test</th>\n",
       "    </tr>\n",
       "  </thead>\n",
       "  <tbody>\n",
       "    <tr>\n",
       "      <th>0</th>\n",
       "      <td>D1ABA3E2887B6A73</td>\n",
       "      <td>A</td>\n",
       "      <td>recommender_system_test</td>\n",
       "    </tr>\n",
       "    <tr>\n",
       "      <th>1</th>\n",
       "      <td>A7A3664BD6242119</td>\n",
       "      <td>A</td>\n",
       "      <td>recommender_system_test</td>\n",
       "    </tr>\n",
       "    <tr>\n",
       "      <th>2</th>\n",
       "      <td>DABC14FDDFADD29E</td>\n",
       "      <td>A</td>\n",
       "      <td>recommender_system_test</td>\n",
       "    </tr>\n",
       "    <tr>\n",
       "      <th>3</th>\n",
       "      <td>04988C5DF189632E</td>\n",
       "      <td>A</td>\n",
       "      <td>recommender_system_test</td>\n",
       "    </tr>\n",
       "    <tr>\n",
       "      <th>4</th>\n",
       "      <td>482F14783456D21B</td>\n",
       "      <td>B</td>\n",
       "      <td>recommender_system_test</td>\n",
       "    </tr>\n",
       "  </tbody>\n",
       "</table>\n",
       "</div>"
      ],
      "text/plain": [
       "            user_id group                  ab_test\n",
       "0  D1ABA3E2887B6A73     A  recommender_system_test\n",
       "1  A7A3664BD6242119     A  recommender_system_test\n",
       "2  DABC14FDDFADD29E     A  recommender_system_test\n",
       "3  04988C5DF189632E     A  recommender_system_test\n",
       "4  482F14783456D21B     B  recommender_system_test"
      ]
     },
     "execution_count": 16,
     "metadata": {},
     "output_type": "execute_result"
    }
   ],
   "source": [
    "part.head()"
   ]
  },
  {
   "cell_type": "code",
   "execution_count": 17,
   "metadata": {},
   "outputs": [
    {
     "name": "stdout",
     "output_type": "stream",
     "text": [
      "8.8% пользователей дублируются в группах теста\n"
     ]
    },
    {
     "data": {
      "text/plain": [
       "interface_eu_test          11567\n",
       "recommender_system_test     6701\n",
       "Name: ab_test, dtype: int64"
      ]
     },
     "execution_count": 17,
     "metadata": {},
     "output_type": "execute_result"
    }
   ],
   "source": [
    "# проверка уникальности пользователей:\n",
    "part.user_id.nunique() == part.shape[0]\n",
    "\n",
    "part_users = part.user_id.value_counts()\n",
    "part_users[part_users > 1]\n",
    "\n",
    "print('{:.1%} пользователей дублируются в группах теста'.format(part_users[part_users > 1].shape[0] / part.shape[0]))\n",
    "\n",
    "part.group.value_counts()\n",
    "\n",
    "part.ab_test.value_counts()"
   ]
  },
  {
   "cell_type": "markdown",
   "metadata": {},
   "source": [
    "В данных, которые нам предоставили, оказались данные и другого теста. Отфильтрую его и проверю пересечение пользователей в группах:"
   ]
  },
  {
   "cell_type": "code",
   "execution_count": 18,
   "metadata": {},
   "outputs": [
    {
     "name": "stdout",
     "output_type": "stream",
     "text": [
      "0.0% пользователей дублируются в группах нужного нам теста\n"
     ]
    },
    {
     "data": {
      "text/html": [
       "<div>\n",
       "<style scoped>\n",
       "    .dataframe tbody tr th:only-of-type {\n",
       "        vertical-align: middle;\n",
       "    }\n",
       "\n",
       "    .dataframe tbody tr th {\n",
       "        vertical-align: top;\n",
       "    }\n",
       "\n",
       "    .dataframe thead th {\n",
       "        text-align: right;\n",
       "    }\n",
       "</style>\n",
       "<table border=\"1\" class=\"dataframe\">\n",
       "  <thead>\n",
       "    <tr style=\"text-align: right;\">\n",
       "      <th></th>\n",
       "      <th>count</th>\n",
       "      <th>%</th>\n",
       "    </tr>\n",
       "  </thead>\n",
       "  <tbody>\n",
       "    <tr>\n",
       "      <th>A</th>\n",
       "      <td>3824</td>\n",
       "      <td>57.06611</td>\n",
       "    </tr>\n",
       "    <tr>\n",
       "      <th>B</th>\n",
       "      <td>2877</td>\n",
       "      <td>42.93389</td>\n",
       "    </tr>\n",
       "  </tbody>\n",
       "</table>\n",
       "</div>"
      ],
      "text/plain": [
       "   count         %\n",
       "A   3824  57.06611\n",
       "B   2877  42.93389"
      ]
     },
     "execution_count": 18,
     "metadata": {},
     "output_type": "execute_result"
    }
   ],
   "source": [
    "part_all = part.copy()\n",
    "part = part[part.ab_test == 'recommender_system_test']\n",
    "part.shape\n",
    "\n",
    "part_users = part.user_id.value_counts()\n",
    "print('{:.1%} пользователей дублируются в группах нужного нам теста'.format(part_users[part_users > 1].shape[0] / part.shape[0]))\n",
    "\n",
    "t = part.group.value_counts().to_frame('count')\n",
    "t['%'] = t['count'] * 100 / t['count'].sum()\n",
    "t"
   ]
  },
  {
   "cell_type": "markdown",
   "metadata": {},
   "source": [
    "<a id='дубл'></a>Оказывается, дублирование было лишь за счёт другого теста, пользователи не переходили и их не перемещали из одной группы в другую. Есть некоторый перекос в данных - 57% пользователей находятся в группе А теста, и 43% в группе В.\n",
    "\n",
    "Проверка соответствия информации о пользователях группам A/B теста."
   ]
  },
  {
   "cell_type": "code",
   "execution_count": 19,
   "metadata": {},
   "outputs": [],
   "source": [
    "ev_f = ev[ev['user_id'].isin(part['user_id'])]"
   ]
  },
  {
   "cell_type": "code",
   "execution_count": 20,
   "metadata": {},
   "outputs": [
    {
     "data": {
      "image/png": "[encoded data removed]",
      "text/plain": [
       "<Figure size 432x288 with 1 Axes>"
      ]
     },
     "metadata": {
      "needs_background": "light"
     },
     "output_type": "display_data"
    }
   ],
   "source": [
    "part.merge(ab_new, how='left', on='user_id').first_date_strf.value_counts().sort_index().plot(kind='bar')\n",
    "plt.grid()\n",
    "plt.show()"
   ]
  },
  {
   "cell_type": "markdown",
   "metadata": {},
   "source": [
    "Даты теста соответствуют заявленным."
   ]
  },
  {
   "cell_type": "code",
   "execution_count": 21,
   "metadata": {},
   "outputs": [
    {
     "name": "stdout",
     "output_type": "stream",
     "text": [
      "Процент пользователей, участвующих в тесте в регионе EU: 10.9%\n",
      "Количество пользователей, участвующих в тесте: 6701\n"
     ]
    }
   ],
   "source": [
    "ab_f = ab_new[(ab_new.region == 'EU')&\n",
    "             (ab_new['first_date_strf'] >= '2020-12-07') & (ab_new['first_date_strf'] <= '2021-01-04')]\n",
    "\n",
    "print('Процент пользователей, участвующих в тесте в регионе EU: {:.1%}'.format(part.shape[0]/ ab_new.shape[0]))\n",
    "print('Количество пользователей, участвующих в тесте: {}'.format(part.shape[0]))"
   ]
  },
  {
   "cell_type": "markdown",
   "metadata": {},
   "source": [
    "По количеству пользователей тест соответствует ТЗ, но в процентном отношении на 4% меньше. Это не критично."
   ]
  },
  {
   "cell_type": "markdown",
   "metadata": {},
   "source": [
    "## Исследовательский анализ данных:<a id='шаг3'></a>\n",
    "\n",
    "### Как меняется конверсия в воронке на разных этапах?<a id='шаг3.1'></a>"
   ]
  },
  {
   "cell_type": "code",
   "execution_count": 22,
   "metadata": {},
   "outputs": [
    {
     "data": {
      "text/html": [
       "<div>\n",
       "<style scoped>\n",
       "    .dataframe tbody tr th:only-of-type {\n",
       "        vertical-align: middle;\n",
       "    }\n",
       "\n",
       "    .dataframe tbody tr th {\n",
       "        vertical-align: top;\n",
       "    }\n",
       "\n",
       "    .dataframe thead th {\n",
       "        text-align: right;\n",
       "    }\n",
       "</style>\n",
       "<table border=\"1\" class=\"dataframe\">\n",
       "  <thead>\n",
       "    <tr style=\"text-align: right;\">\n",
       "      <th></th>\n",
       "      <th>count</th>\n",
       "      <th>%</th>\n",
       "    </tr>\n",
       "  </thead>\n",
       "  <tbody>\n",
       "    <tr>\n",
       "      <th>login</th>\n",
       "      <td>11190</td>\n",
       "      <td>100.000000</td>\n",
       "    </tr>\n",
       "    <tr>\n",
       "      <th>product_page</th>\n",
       "      <td>6930</td>\n",
       "      <td>61.930295</td>\n",
       "    </tr>\n",
       "    <tr>\n",
       "      <th>purchase</th>\n",
       "      <td>3331</td>\n",
       "      <td>29.767650</td>\n",
       "    </tr>\n",
       "    <tr>\n",
       "      <th>product_cart</th>\n",
       "      <td>3247</td>\n",
       "      <td>29.016979</td>\n",
       "    </tr>\n",
       "  </tbody>\n",
       "</table>\n",
       "</div>"
      ],
      "text/plain": [
       "              count           %\n",
       "login         11190  100.000000\n",
       "product_page   6930   61.930295\n",
       "purchase       3331   29.767650\n",
       "product_cart   3247   29.016979"
      ]
     },
     "execution_count": 22,
     "metadata": {},
     "output_type": "execute_result"
    }
   ],
   "source": [
    "_conv = ev_f['event_name'].value_counts()\n",
    "_conv = _conv.to_frame('count')\n",
    "_conv['%'] = _conv.iloc[:,0] * 100 / _conv.iloc[0,0]\n",
    "_conv"
   ]
  },
  {
   "cell_type": "markdown",
   "metadata": {},
   "source": [
    "Как видно, на этапе перехода к странице продукта и нажатии на кнопку \"купить\" \"отваливается\" по трети от первоначального количества. В корзину переходят почти все из тех, кто решил \"купить\".\n",
    "\n",
    "### Количество событий на пользователя одинаково распределены в выборках?<a id='шаг3.2'></a>"
   ]
  },
  {
   "cell_type": "code",
   "execution_count": 23,
   "metadata": {},
   "outputs": [
    {
     "data": {
      "text/html": [
       "<div>\n",
       "<style scoped>\n",
       "    .dataframe tbody tr th:only-of-type {\n",
       "        vertical-align: middle;\n",
       "    }\n",
       "\n",
       "    .dataframe tbody tr th {\n",
       "        vertical-align: top;\n",
       "    }\n",
       "\n",
       "    .dataframe thead th {\n",
       "        text-align: right;\n",
       "    }\n",
       "</style>\n",
       "<table border=\"1\" class=\"dataframe\">\n",
       "  <thead>\n",
       "    <tr style=\"text-align: right;\">\n",
       "      <th></th>\n",
       "      <th>events_per_user</th>\n",
       "    </tr>\n",
       "    <tr>\n",
       "      <th>group</th>\n",
       "      <th></th>\n",
       "    </tr>\n",
       "  </thead>\n",
       "  <tbody>\n",
       "    <tr>\n",
       "      <th>A</th>\n",
       "      <td>7.027303</td>\n",
       "    </tr>\n",
       "    <tr>\n",
       "      <th>B</th>\n",
       "      <td>5.812500</td>\n",
       "    </tr>\n",
       "  </tbody>\n",
       "</table>\n",
       "</div>"
      ],
      "text/plain": [
       "       events_per_user\n",
       "group                 \n",
       "A             7.027303\n",
       "B             5.812500"
      ]
     },
     "execution_count": 23,
     "metadata": {},
     "output_type": "execute_result"
    }
   ],
   "source": [
    "# присоединить к таблице событий данные о группах (внутреннее соединение таблиц)\n",
    "ev_fg = ev_f.merge(part, how='inner', on='user_id')\n",
    "\n",
    "# данные о количестве пользователей в каждом тесте\n",
    "ab_count = ev_fg.groupby('group')['user_id'].nunique()\n",
    "\n",
    "# сортировка по группам теста количества событий\n",
    "_t = ev_fg.groupby('group')['event_name'].count()\n",
    "# деление элементов сообразно индексу\n",
    "events_per_user_by_group = _t / ab_count\n",
    "events_per_user_by_group = events_per_user_by_group.to_frame('events_per_user')\n",
    "\n",
    "events_per_user_by_group"
   ]
  },
  {
   "cell_type": "markdown",
   "metadata": {},
   "source": [
    "**Вывод**: различия есть, но не сильные."
   ]
  },
  {
   "cell_type": "markdown",
   "metadata": {},
   "source": [
    "### В выборках встречаются одни и те же пользователи?<a id='шаг3.3'></a>\n",
    "\n",
    "Нет, выборки [не пересекаются](#дубл)\n",
    "\n",
    "### Как число событий распределено по дням?<a id='шаг3.4'></a>"
   ]
  },
  {
   "cell_type": "code",
   "execution_count": 24,
   "metadata": {},
   "outputs": [
    {
     "name": "stderr",
     "output_type": "stream",
     "text": [
      "D:\\ProgramData\\Anaconda3\\lib\\site-packages\\seaborn\\_decorators.py:36: FutureWarning: Pass the following variables as keyword args: x, y. From version 0.12, the only valid positional argument will be `data`, and passing other arguments without an explicit keyword will result in an error or misinterpretation.\n",
      "  warnings.warn(\n"
     ]
    },
    {
     "data": {
      "image/png": "[encoded data removed]",
      "text/plain": [
       "<Figure size 720x504 with 1 Axes>"
      ]
     },
     "metadata": {
      "needs_background": "light"
     },
     "output_type": "display_data"
    }
   ],
   "source": [
    "fig, ax = plt.subplots(figsize=(10,7))\n",
    "ev = ev.sort_values(by='event_dt', ascending=True)\n",
    "ev['event_dt_strf'] = ev['event_dt'].dt.strftime('%Y-%m-%d')\n",
    "ev_stat_plot = ev.groupby(['event_dt_strf'])['event_name'].count()\n",
    "ev_stat_plot = ev_stat_plot.rename('count').reset_index()\n",
    "sns.barplot(ev_stat_plot['event_dt_strf'], ev_stat_plot['count'], color='tab:blue')\n",
    "plt.xticks(rotation=45, ha='right')\n",
    "plt.grid()\n",
    "plt.show()"
   ]
  },
  {
   "cell_type": "markdown",
   "metadata": {},
   "source": [
    "### Какие особенности данных нужно учесть, прежде чем приступать к A/B-тестированию?<a id='шаг3.5'></a>"
   ]
  },
  {
   "cell_type": "markdown",
   "metadata": {},
   "source": [
    "Соответствие данным ТЗ:\n",
    "\n",
    "- аудитория: 15% новых пользователей из региона EU - 11%, почти выполнено, не критично."
   ]
  },
  {
   "cell_type": "markdown",
   "metadata": {},
   "source": [
    "- ожидаемое количество участников теста: 6000 - выполнено!"
   ]
  },
  {
   "cell_type": "markdown",
   "metadata": {},
   "source": [
    "Полностью исключить отсутствие маркетинговых событий во время теста мы не можем, достаточно будет иметь группы с одинаковым составом по регионам, чтобы такие события не влияли на одну из групп больше."
   ]
  },
  {
   "cell_type": "code",
   "execution_count": 25,
   "metadata": {},
   "outputs": [
    {
     "data": {
      "text/html": [
       "<div>\n",
       "<style scoped>\n",
       "    .dataframe tbody tr th:only-of-type {\n",
       "        vertical-align: middle;\n",
       "    }\n",
       "\n",
       "    .dataframe tbody tr th {\n",
       "        vertical-align: top;\n",
       "    }\n",
       "\n",
       "    .dataframe thead th {\n",
       "        text-align: right;\n",
       "    }\n",
       "</style>\n",
       "<table border=\"1\" class=\"dataframe\">\n",
       "  <thead>\n",
       "    <tr style=\"text-align: right;\">\n",
       "      <th></th>\n",
       "      <th>name</th>\n",
       "      <th>regions</th>\n",
       "      <th>start_dt</th>\n",
       "      <th>finish_dt</th>\n",
       "      <th>start_dt_strf</th>\n",
       "      <th>finish_dt_strf</th>\n",
       "    </tr>\n",
       "  </thead>\n",
       "  <tbody>\n",
       "    <tr>\n",
       "      <th>1</th>\n",
       "      <td>St. Valentine's Day Giveaway</td>\n",
       "      <td>EU, CIS, APAC, N.America</td>\n",
       "      <td>2020-02-14</td>\n",
       "      <td>2020-02-16</td>\n",
       "      <td>2020-02-14</td>\n",
       "      <td>2020-02-16</td>\n",
       "    </tr>\n",
       "    <tr>\n",
       "      <th>8</th>\n",
       "      <td>International Women's Day Promo</td>\n",
       "      <td>EU, CIS, APAC</td>\n",
       "      <td>2020-03-08</td>\n",
       "      <td>2020-03-10</td>\n",
       "      <td>2020-03-08</td>\n",
       "      <td>2020-03-10</td>\n",
       "    </tr>\n",
       "    <tr>\n",
       "      <th>2</th>\n",
       "      <td>St. Patric's Day Promo</td>\n",
       "      <td>EU, N.America</td>\n",
       "      <td>2020-03-17</td>\n",
       "      <td>2020-03-19</td>\n",
       "      <td>2020-03-17</td>\n",
       "      <td>2020-03-19</td>\n",
       "    </tr>\n",
       "    <tr>\n",
       "      <th>3</th>\n",
       "      <td>Easter Promo</td>\n",
       "      <td>EU, CIS, APAC, N.America</td>\n",
       "      <td>2020-04-12</td>\n",
       "      <td>2020-04-19</td>\n",
       "      <td>2020-04-12</td>\n",
       "      <td>2020-04-19</td>\n",
       "    </tr>\n",
       "    <tr>\n",
       "      <th>7</th>\n",
       "      <td>Labor day (May 1st) Ads Campaign</td>\n",
       "      <td>EU, CIS, APAC</td>\n",
       "      <td>2020-05-01</td>\n",
       "      <td>2020-05-03</td>\n",
       "      <td>2020-05-01</td>\n",
       "      <td>2020-05-03</td>\n",
       "    </tr>\n",
       "    <tr>\n",
       "      <th>5</th>\n",
       "      <td>Black Friday Ads Campaign</td>\n",
       "      <td>EU, CIS, APAC, N.America</td>\n",
       "      <td>2020-11-26</td>\n",
       "      <td>2020-12-01</td>\n",
       "      <td>2020-11-26</td>\n",
       "      <td>2020-12-01</td>\n",
       "    </tr>\n",
       "    <tr>\n",
       "      <th>0</th>\n",
       "      <td>Christmas&amp;New Year Promo</td>\n",
       "      <td>EU, N.America</td>\n",
       "      <td>2020-12-25</td>\n",
       "      <td>2021-01-03</td>\n",
       "      <td>2020-12-25</td>\n",
       "      <td>2021-01-03</td>\n",
       "    </tr>\n",
       "  </tbody>\n",
       "</table>\n",
       "</div>"
      ],
      "text/plain": [
       "                               name                   regions   start_dt  \\\n",
       "1      St. Valentine's Day Giveaway  EU, CIS, APAC, N.America 2020-02-14   \n",
       "8   International Women's Day Promo             EU, CIS, APAC 2020-03-08   \n",
       "2            St. Patric's Day Promo             EU, N.America 2020-03-17   \n",
       "3                      Easter Promo  EU, CIS, APAC, N.America 2020-04-12   \n",
       "7  Labor day (May 1st) Ads Campaign             EU, CIS, APAC 2020-05-01   \n",
       "5         Black Friday Ads Campaign  EU, CIS, APAC, N.America 2020-11-26   \n",
       "0          Christmas&New Year Promo             EU, N.America 2020-12-25   \n",
       "\n",
       "   finish_dt start_dt_strf finish_dt_strf  \n",
       "1 2020-02-16    2020-02-14     2020-02-16  \n",
       "8 2020-03-10    2020-03-08     2020-03-10  \n",
       "2 2020-03-19    2020-03-17     2020-03-19  \n",
       "3 2020-04-19    2020-04-12     2020-04-19  \n",
       "7 2020-05-03    2020-05-01     2020-05-03  \n",
       "5 2020-12-01    2020-11-26     2020-12-01  \n",
       "0 2021-01-03    2020-12-25     2021-01-03  "
      ]
     },
     "execution_count": 25,
     "metadata": {},
     "output_type": "execute_result"
    }
   ],
   "source": [
    "mark[mark.regions.str.contains('EU')].sort_values(by='start_dt')"
   ]
  },
  {
   "cell_type": "markdown",
   "metadata": {},
   "source": [
    "Во время теста в целевом регионе проходит акция `Christmas&New Year Promo`"
   ]
  },
  {
   "cell_type": "code",
   "execution_count": 26,
   "metadata": {},
   "outputs": [
    {
     "data": {
      "text/plain": [
       "group  region   \n",
       "A      EU           95.031381\n",
       "       N.America     3.347280\n",
       "       APAC          0.967573\n",
       "       CIS           0.653766\n",
       "B      EU           94.438651\n",
       "       N.America     3.302051\n",
       "       APAC          1.216545\n",
       "       CIS           1.042753\n",
       "dtype: float64"
      ]
     },
     "execution_count": 26,
     "metadata": {},
     "output_type": "execute_result"
    }
   ],
   "source": [
    "users_regions = part.merge(ab_new, how='left', on='user_id')\n",
    "users_regions_by_group = users_regions.groupby('group')['region'].value_counts()\n",
    "users_groups_total = users_regions.groupby('group')['user_id'].count()\n",
    "users_regions_by_group * 100 / users_groups_total"
   ]
  },
  {
   "cell_type": "markdown",
   "metadata": {},
   "source": [
    "Состав групп по регионам практически идентичен."
   ]
  },
  {
   "cell_type": "markdown",
   "metadata": {},
   "source": [
    "#### Пересечение с другими тестами:"
   ]
  },
  {
   "cell_type": "code",
   "execution_count": 27,
   "metadata": {},
   "outputs": [],
   "source": [
    "part_other = part_all[part_all.ab_test != 'recommender_system_test']\n",
    "users_plus_other_tests_count = (part\n",
    ".merge(part_other, on='user_id', how='left', suffixes=('','_other'))\n",
    ".groupby('group')\n",
    ".ab_test_other\n",
    ".value_counts())"
   ]
  },
  {
   "cell_type": "code",
   "execution_count": 28,
   "metadata": {},
   "outputs": [
    {
     "name": "stdout",
     "output_type": "stream",
     "text": [
      "Процент пользователей в каждой группе, участвующих в других тестах:\n"
     ]
    },
    {
     "data": {
      "text/plain": [
       "group  ab_test_other    \n",
       "A      interface_eu_test    24.084728\n",
       "B      interface_eu_test    23.670490\n",
       "dtype: float64"
      ]
     },
     "execution_count": 28,
     "metadata": {},
     "output_type": "execute_result"
    }
   ],
   "source": [
    "print('Процент пользователей в каждой группе, участвующих в других тестах:')\n",
    "users_plus_other_tests_count * 100 / part.groupby('group')['user_id'].nunique()"
   ]
  },
  {
   "cell_type": "markdown",
   "metadata": {},
   "source": [
    "Различий практически нет, другие тесты не должны влиять на результат текущего.  \n",
    "**Вывод**: особенности учтены, можно анализировать результаты теста."
   ]
  },
  {
   "cell_type": "markdown",
   "metadata": {},
   "source": [
    "## Результаты A/B-тестирования<a id='шаг4'></a>"
   ]
  },
  {
   "cell_type": "code",
   "execution_count": 29,
   "metadata": {},
   "outputs": [
    {
     "data": {
      "text/html": [
       "<div>\n",
       "<style scoped>\n",
       "    .dataframe tbody tr th:only-of-type {\n",
       "        vertical-align: middle;\n",
       "    }\n",
       "\n",
       "    .dataframe tbody tr th {\n",
       "        vertical-align: top;\n",
       "    }\n",
       "\n",
       "    .dataframe thead th {\n",
       "        text-align: right;\n",
       "    }\n",
       "</style>\n",
       "<table border=\"1\" class=\"dataframe\">\n",
       "  <thead>\n",
       "    <tr style=\"text-align: right;\">\n",
       "      <th></th>\n",
       "      <th>event_dt_strf</th>\n",
       "      <th>group</th>\n",
       "      <th>event_name</th>\n",
       "      <th>count</th>\n",
       "      <th>max_count</th>\n",
       "      <th>%</th>\n",
       "    </tr>\n",
       "  </thead>\n",
       "  <tbody>\n",
       "    <tr>\n",
       "      <th>0</th>\n",
       "      <td>2020-12-07</td>\n",
       "      <td>A</td>\n",
       "      <td>login</td>\n",
       "      <td>154</td>\n",
       "      <td>154</td>\n",
       "      <td>100.000000</td>\n",
       "    </tr>\n",
       "    <tr>\n",
       "      <th>1</th>\n",
       "      <td>2020-12-07</td>\n",
       "      <td>A</td>\n",
       "      <td>product_page</td>\n",
       "      <td>96</td>\n",
       "      <td>154</td>\n",
       "      <td>62.337662</td>\n",
       "    </tr>\n",
       "    <tr>\n",
       "      <th>2</th>\n",
       "      <td>2020-12-07</td>\n",
       "      <td>A</td>\n",
       "      <td>purchase</td>\n",
       "      <td>46</td>\n",
       "      <td>154</td>\n",
       "      <td>29.870130</td>\n",
       "    </tr>\n",
       "    <tr>\n",
       "      <th>3</th>\n",
       "      <td>2020-12-07</td>\n",
       "      <td>A</td>\n",
       "      <td>product_cart</td>\n",
       "      <td>35</td>\n",
       "      <td>154</td>\n",
       "      <td>22.727273</td>\n",
       "    </tr>\n",
       "    <tr>\n",
       "      <th>4</th>\n",
       "      <td>2020-12-07</td>\n",
       "      <td>B</td>\n",
       "      <td>login</td>\n",
       "      <td>165</td>\n",
       "      <td>165</td>\n",
       "      <td>100.000000</td>\n",
       "    </tr>\n",
       "  </tbody>\n",
       "</table>\n",
       "</div>"
      ],
      "text/plain": [
       "  event_dt_strf group    event_name  count  max_count           %\n",
       "0    2020-12-07     A         login    154        154  100.000000\n",
       "1    2020-12-07     A  product_page     96        154   62.337662\n",
       "2    2020-12-07     A      purchase     46        154   29.870130\n",
       "3    2020-12-07     A  product_cart     35        154   22.727273\n",
       "4    2020-12-07     B         login    165        165  100.000000"
      ]
     },
     "execution_count": 29,
     "metadata": {},
     "output_type": "execute_result"
    }
   ],
   "source": [
    "# разбиение по группам и дням статистики\n",
    "funnel_by_days = ev_fg.groupby(['event_dt_strf','group'])['event_name'].value_counts()\n",
    "funnel_by_days = funnel_by_days.to_frame('count').reset_index()\n",
    "funnel_by_days_max = funnel_by_days.groupby(['event_dt_strf','group'])['count'].max().to_frame('max_count').reset_index()\n",
    "funnel_by_days = funnel_by_days.merge(funnel_by_days_max, how='left', on=['event_dt_strf', 'group'])\n",
    "funnel_by_days['%'] = funnel_by_days['count'] * 100 / funnel_by_days['max_count']\n",
    "funnel_by_days.head()"
   ]
  },
  {
   "cell_type": "code",
   "execution_count": 30,
   "metadata": {},
   "outputs": [
    {
     "data": {
      "text/html": [
       "<div>\n",
       "<style scoped>\n",
       "    .dataframe tbody tr th:only-of-type {\n",
       "        vertical-align: middle;\n",
       "    }\n",
       "\n",
       "    .dataframe tbody tr th {\n",
       "        vertical-align: top;\n",
       "    }\n",
       "\n",
       "    .dataframe thead th {\n",
       "        text-align: right;\n",
       "    }\n",
       "</style>\n",
       "<table border=\"1\" class=\"dataframe\">\n",
       "  <thead>\n",
       "    <tr style=\"text-align: right;\">\n",
       "      <th></th>\n",
       "      <th>event_dt_dtrf</th>\n",
       "      <th>group</th>\n",
       "      <th>login</th>\n",
       "      <th>product_cart</th>\n",
       "      <th>product_page</th>\n",
       "      <th>purchase</th>\n",
       "    </tr>\n",
       "  </thead>\n",
       "  <tbody>\n",
       "    <tr>\n",
       "      <th>0</th>\n",
       "      <td>2020-12-07</td>\n",
       "      <td>A</td>\n",
       "      <td>100.0</td>\n",
       "      <td>22.727273</td>\n",
       "      <td>62.337662</td>\n",
       "      <td>29.870130</td>\n",
       "    </tr>\n",
       "    <tr>\n",
       "      <th>1</th>\n",
       "      <td>2020-12-07</td>\n",
       "      <td>B</td>\n",
       "      <td>100.0</td>\n",
       "      <td>27.878788</td>\n",
       "      <td>65.454545</td>\n",
       "      <td>35.757576</td>\n",
       "    </tr>\n",
       "    <tr>\n",
       "      <th>2</th>\n",
       "      <td>2020-12-08</td>\n",
       "      <td>A</td>\n",
       "      <td>100.0</td>\n",
       "      <td>23.003195</td>\n",
       "      <td>65.175719</td>\n",
       "      <td>26.517572</td>\n",
       "    </tr>\n",
       "    <tr>\n",
       "      <th>3</th>\n",
       "      <td>2020-12-08</td>\n",
       "      <td>B</td>\n",
       "      <td>100.0</td>\n",
       "      <td>28.169014</td>\n",
       "      <td>60.563380</td>\n",
       "      <td>33.098592</td>\n",
       "    </tr>\n",
       "    <tr>\n",
       "      <th>4</th>\n",
       "      <td>2020-12-09</td>\n",
       "      <td>A</td>\n",
       "      <td>100.0</td>\n",
       "      <td>24.847251</td>\n",
       "      <td>63.136456</td>\n",
       "      <td>27.291242</td>\n",
       "    </tr>\n",
       "  </tbody>\n",
       "</table>\n",
       "</div>"
      ],
      "text/plain": [
       "  event_dt_dtrf group  login  product_cart  product_page   purchase\n",
       "0    2020-12-07     A  100.0     22.727273     62.337662  29.870130\n",
       "1    2020-12-07     B  100.0     27.878788     65.454545  35.757576\n",
       "2    2020-12-08     A  100.0     23.003195     65.175719  26.517572\n",
       "3    2020-12-08     B  100.0     28.169014     60.563380  33.098592\n",
       "4    2020-12-09     A  100.0     24.847251     63.136456  27.291242"
      ]
     },
     "execution_count": 30,
     "metadata": {},
     "output_type": "execute_result"
    }
   ],
   "source": [
    "# считаю воронку по каждому дню и группе\n",
    "funnel_count = (funnel_by_days\n",
    ".set_index(['event_dt_strf','group', 'event_name'])[['count']]\n",
    ".unstack(level='event_name', fill_value=0)\n",
    ".reset_index())\n",
    "funnel_count.columns = ['event_dt_dtrf', 'group', 'login', 'product_cart', 'product_page', 'purchase']\n",
    "funnel_count.head()\n",
    "funnel_count_cumulative = (\n",
    "    funnel_count\n",
    "    .sort_values(by=['event_dt_dtrf','group'])\n",
    ")\n",
    "\n",
    "funnel_count_columns = ['login', 'product_cart', 'product_page', 'purchase']\n",
    "\n",
    "funnel_count_cumulative[['login', 'product_cart', 'product_page', 'purchase']] = \\\n",
    "funnel_count_cumulative.groupby('group')[['login', 'product_cart', 'product_page', 'purchase']].cumsum()\n",
    "\n",
    "funnel_count_cumulative_pct = funnel_count_cumulative.copy()\n",
    "for col in funnel_count_columns:\n",
    "    funnel_count_cumulative_pct[col] = funnel_count_cumulative[col] * 100 / funnel_count_cumulative['login']\n",
    "funnel_count_cumulative_pct.head()"
   ]
  },
  {
   "cell_type": "code",
   "execution_count": 31,
   "metadata": {},
   "outputs": [
    {
     "data": {
      "image/png": "[encoded data removed]",
      "text/plain": [
       "<Figure size 720x504 with 1 Axes>"
      ]
     },
     "metadata": {
      "needs_background": "light"
     },
     "output_type": "display_data"
    }
   ],
   "source": [
    "import numpy as np\n",
    "def plot_AB(A, B, ycol, ax, title='', ylabel='', ls='-', ymin=None, ymax=None):\n",
    "    \"\"\"Отобразить график распределения для А/В теста\n",
    "    ycol - колонка, для оси у\n",
    "    \"\"\"\n",
    "    ax.plot(A.event_dt_dtrf, A[ycol], ls, label='A', color='orange')\n",
    "    ax.plot(B.event_dt_dtrf, B[ycol], ls, label='B', color='blue')\n",
    "    ax.set_title(title)\n",
    "    plt.xticks(rotation=45, ha='right')\n",
    "    plt.ylabel(ylabel)\n",
    "    plt.xlabel('Дата')\n",
    "    if np.logical_and(pd.notna(ymin), pd.notna(ymax)):\n",
    "        plt.ylim((ymin, ymax))\n",
    "    ax.grid()\n",
    "\n",
    "_, ax = plt.subplots(figsize=(10,7))\n",
    "plt.grid()\n",
    "A = funnel_count_cumulative_pct[funnel_count_cumulative_pct['group'] == 'A']\n",
    "B = funnel_count_cumulative_pct[funnel_count_cumulative_pct['group'] == 'B']\n",
    "for col in ['login', 'product_cart', 'product_page', 'purchase']:\n",
    "    plot_AB(A, B, col, title='Накопительная воронка событий', ylabel='Процент', ax=ax)\n",
    "plt.legend(['A','B'])\n",
    "plt.show()"
   ]
  },
  {
   "cell_type": "markdown",
   "metadata": {},
   "source": [
    "#### Вычисление относительной конверсии."
   ]
  },
  {
   "cell_type": "code",
   "execution_count": 32,
   "metadata": {},
   "outputs": [
    {
     "data": {
      "image/png": "[encoded data removed]",
      "text/plain": [
       "<Figure size 720x504 with 1 Axes>"
      ]
     },
     "metadata": {
      "needs_background": "light"
     },
     "output_type": "display_data"
    }
   ],
   "source": [
    "def plot_rel_AB(funnel_count_A, funnel_count_B, col, title='', ylabel='', second_hline=None, second_AB=None):\n",
    "    _, ax = plt.subplots(figsize=(10, 7))\n",
    "    _A = funnel_count_A.set_index('event_dt_dtrf')\n",
    "    _B = funnel_count_B.set_index('event_dt_dtrf')\n",
    "    cols = ['product_cart', 'product_page', 'purchase']\n",
    "    _funnel_rel = _A.copy()\n",
    "    for col in cols:\n",
    "        _funnel_rel[col] = _B[col] / _A[col] - 1\n",
    "    lines = []\n",
    "    for col in cols:\n",
    "        l, = plt.plot(_funnel_rel.index.tolist(), _funnel_rel[col])\n",
    "        lines.append(l)\n",
    "    plt.axhline(0, ls='--', color='black')\n",
    "    plt.legend(handles=lines, labels=cols)\n",
    "    if pd.notna(second_hline):\n",
    "        plt.axhline(second_hline, ls='--', linewidth=1, color='black')\n",
    "\n",
    "    plt.xticks(rotation=45)\n",
    "    plt.title(title)\n",
    "    plt.xlabel('Дата')\n",
    "    plt.ylabel(ylabel)\n",
    "    plt.grid()\n",
    "    plt.show()\n",
    "\n",
    "plot_rel_AB(A, B, col, title='Относительная конверсия по воронке событий', ylabel='', second_hline=None, second_AB=None)"
   ]
  },
  {
   "cell_type": "markdown",
   "metadata": {},
   "source": [
    "#### Анализ данных по дням:"
   ]
  },
  {
   "cell_type": "code",
   "execution_count": 33,
   "metadata": {},
   "outputs": [],
   "source": [
    "ev_fg['date'] = ev_fg.event_dt.astype('datetime64[D]')"
   ]
  },
  {
   "cell_type": "code",
   "execution_count": 34,
   "metadata": {},
   "outputs": [],
   "source": [
    "users_stat_by_group_and_date = (ev_fg\n",
    "        .groupby(['group','date'])\n",
    "        .user_id\n",
    "        .nunique()\n",
    "        .rename('users')\n",
    "        .reset_index())"
   ]
  },
  {
   "cell_type": "code",
   "execution_count": 35,
   "metadata": {},
   "outputs": [],
   "source": [
    "def plot_AB(A, B, ycol, title='', ylabel='', ls='-', ymin=None, ymax=None):\n",
    "    \"\"\"Отобразить график распределения для А/В теста\n",
    "    ycol - колонка, для оси у\n",
    "    \"\"\"\n",
    "    _, ax = plt.subplots(figsize=(10,7))\n",
    "    plt.plot(A.date, A[ycol], ls, label='A')\n",
    "    plt.plot(B.date, B[ycol], ls, label='B')\n",
    "    plt.title(title)\n",
    "    plt.xticks(rotation=45)\n",
    "    plt.ylabel(ylabel)\n",
    "    plt.xlabel('Дата')\n",
    "    if np.logical_and(pd.notna(ymin), pd.notna(ymax)):\n",
    "        plt.ylim((ymin, ymax))\n",
    "    plt.grid()\n",
    "    plt.legend()\n",
    "    plt.show()"
   ]
  },
  {
   "cell_type": "code",
   "execution_count": 36,
   "metadata": {},
   "outputs": [
    {
     "data": {
      "image/png": "[encoded data removed]",
      "text/plain": [
       "<Figure size 720x504 with 1 Axes>"
      ]
     },
     "metadata": {
      "needs_background": "light"
     },
     "output_type": "display_data"
    }
   ],
   "source": [
    "users_A = users_stat_by_group_and_date[users_stat_by_group_and_date.group == 'A']\n",
    "users_B = users_stat_by_group_and_date[users_stat_by_group_and_date.group == 'B']\n",
    "plot_AB(users_A, users_B, 'users', title='Количество пользователей в группах по дням',\n",
    "        ylabel='Количество пользователей', ls='-o')"
   ]
  },
  {
   "cell_type": "code",
   "execution_count": 37,
   "metadata": {},
   "outputs": [
    {
     "data": {
      "text/plain": [
       "B    24\n",
       "A    23\n",
       "Name: group, dtype: int64"
      ]
     },
     "execution_count": 37,
     "metadata": {},
     "output_type": "execute_result"
    }
   ],
   "source": [
    "# количество данных в группах по дням\n",
    "users_stat_by_group_and_date.group.value_counts()"
   ]
  },
  {
   "cell_type": "markdown",
   "metadata": {},
   "source": [
    "##### Таблица с заказами:"
   ]
  },
  {
   "cell_type": "code",
   "execution_count": 38,
   "metadata": {},
   "outputs": [],
   "source": [
    "users_stat = (ev_fg\n",
    " .groupby(['group','date'])\n",
    " .agg({\n",
    "     'user_id':'nunique',\n",
    "      }, axis=1)\n",
    " .rename({'user_id':'users'},axis=1)\n",
    " .reset_index()\n",
    ")\n",
    "\n",
    "purchases_stat = (ev_fg[ev_fg.event_name == 'purchase']\n",
    " .groupby(['date','group'])\n",
    " .agg({'user_id':'count',\n",
    "      'details':'sum'}, axis=1)\n",
    " .rename({'user_id':'purchases',\n",
    "         'details':'revenue'}, axis=1)\n",
    " .reset_index()\n",
    ")\n",
    "groups_stat = users_stat.merge(purchases_stat, on=['date','group'], how='left')"
   ]
  },
  {
   "cell_type": "code",
   "execution_count": 39,
   "metadata": {},
   "outputs": [
    {
     "data": {
      "text/html": [
       "<div>\n",
       "<style scoped>\n",
       "    .dataframe tbody tr th:only-of-type {\n",
       "        vertical-align: middle;\n",
       "    }\n",
       "\n",
       "    .dataframe tbody tr th {\n",
       "        vertical-align: top;\n",
       "    }\n",
       "\n",
       "    .dataframe thead th {\n",
       "        text-align: right;\n",
       "    }\n",
       "</style>\n",
       "<table border=\"1\" class=\"dataframe\">\n",
       "  <thead>\n",
       "    <tr style=\"text-align: right;\">\n",
       "      <th></th>\n",
       "      <th>group</th>\n",
       "      <th>date</th>\n",
       "      <th>users</th>\n",
       "      <th>purchases</th>\n",
       "      <th>revenue</th>\n",
       "    </tr>\n",
       "  </thead>\n",
       "  <tbody>\n",
       "    <tr>\n",
       "      <th>0</th>\n",
       "      <td>A</td>\n",
       "      <td>2020-12-07</td>\n",
       "      <td>154</td>\n",
       "      <td>46.0</td>\n",
       "      <td>1214.54</td>\n",
       "    </tr>\n",
       "    <tr>\n",
       "      <th>1</th>\n",
       "      <td>A</td>\n",
       "      <td>2020-12-08</td>\n",
       "      <td>160</td>\n",
       "      <td>37.0</td>\n",
       "      <td>779.63</td>\n",
       "    </tr>\n",
       "    <tr>\n",
       "      <th>2</th>\n",
       "      <td>A</td>\n",
       "      <td>2020-12-09</td>\n",
       "      <td>178</td>\n",
       "      <td>51.0</td>\n",
       "      <td>1369.49</td>\n",
       "    </tr>\n",
       "    <tr>\n",
       "      <th>3</th>\n",
       "      <td>A</td>\n",
       "      <td>2020-12-10</td>\n",
       "      <td>165</td>\n",
       "      <td>46.0</td>\n",
       "      <td>1329.54</td>\n",
       "    </tr>\n",
       "    <tr>\n",
       "      <th>4</th>\n",
       "      <td>A</td>\n",
       "      <td>2020-12-11</td>\n",
       "      <td>185</td>\n",
       "      <td>42.0</td>\n",
       "      <td>1099.58</td>\n",
       "    </tr>\n",
       "  </tbody>\n",
       "</table>\n",
       "</div>"
      ],
      "text/plain": [
       "  group       date  users  purchases  revenue\n",
       "0     A 2020-12-07    154       46.0  1214.54\n",
       "1     A 2020-12-08    160       37.0   779.63\n",
       "2     A 2020-12-09    178       51.0  1369.49\n",
       "3     A 2020-12-10    165       46.0  1329.54\n",
       "4     A 2020-12-11    185       42.0  1099.58"
      ]
     },
     "execution_count": 39,
     "metadata": {},
     "output_type": "execute_result"
    }
   ],
   "source": [
    "groups_stat.head()"
   ]
  },
  {
   "cell_type": "code",
   "execution_count": 40,
   "metadata": {},
   "outputs": [],
   "source": [
    "groups_stat_A = groups_stat[groups_stat.group == 'A']\n",
    "groups_stat_B = groups_stat[groups_stat.group == 'B']"
   ]
  },
  {
   "cell_type": "code",
   "execution_count": 41,
   "metadata": {},
   "outputs": [
    {
     "name": "stdout",
     "output_type": "stream",
     "text": [
      "Распределение по дням для purchases\n"
     ]
    },
    {
     "data": {
      "image/png": "[encoded data removed]",
      "text/plain": [
       "<Figure size 720x504 with 1 Axes>"
      ]
     },
     "metadata": {
      "needs_background": "light"
     },
     "output_type": "display_data"
    },
    {
     "name": "stdout",
     "output_type": "stream",
     "text": [
      "Распределение по дням для users\n"
     ]
    },
    {
     "data": {
      "image/png": "[encoded data removed]",
      "text/plain": [
       "<Figure size 720x504 with 1 Axes>"
      ]
     },
     "metadata": {
      "needs_background": "light"
     },
     "output_type": "display_data"
    },
    {
     "name": "stdout",
     "output_type": "stream",
     "text": [
      "Распределение по дням для revenue\n"
     ]
    },
    {
     "data": {
      "image/png": "[encoded data removed]",
      "text/plain": [
       "<Figure size 720x504 with 1 Axes>"
      ]
     },
     "metadata": {
      "needs_background": "light"
     },
     "output_type": "display_data"
    }
   ],
   "source": [
    "for col in ['purchases', 'users', 'revenue']:\n",
    "\n",
    "    print('Распределение по дням для', col)\n",
    "    plot_AB(groups_stat_A, groups_stat_B, ycol=col, ls='-o')"
   ]
  },
  {
   "cell_type": "markdown",
   "metadata": {},
   "source": [
    "#### Подготовка данных"
   ]
  },
  {
   "cell_type": "code",
   "execution_count": 42,
   "metadata": {},
   "outputs": [],
   "source": [
    "def get_data_events(users, events):\n",
    "# агрегация обычных и кумулятивных данных\n",
    "    users_a_daily = users[users['group']=='A'][['date', 'users']]\n",
    "    users_a_daily.columns = ['date', 'users_per_date_a']\n",
    "\n",
    "    users_a_cumulative = users_a_daily.apply(lambda x: users_a_daily[users_a_daily['date'] <= x['date']].agg({'date' : 'max', 'users_per_date_a' : 'sum'}), axis=1)\n",
    "    users_a_cumulative.columns = ['date', 'users_cumulative_a']\n",
    "\n",
    "    users_b_daily = users[users['group']=='B'][['date', 'users']]\n",
    "    users_b_daily.columns = ['date', 'users_per_date_b']\n",
    "\n",
    "    users_b_cumulative = users_b_daily.apply(lambda x: users_b_daily[users_b_daily['date'] <= x['date']].agg({'date' : 'max', 'users_per_date_b' : 'sum'}), axis=1)\n",
    "    users_b_cumulative.columns = ['date', 'users_cumulative_b']\n",
    "\n",
    "    events_a_daily = events[events['group']=='A'][['date', 'transaction_id', 'visitor_id', 'event_name']]\\\n",
    "        .groupby('date', as_index=False)\\\n",
    "        .agg({'transaction_id' : pd.Series.nunique, 'event_name' : 'count'})\n",
    "    events_a_daily.columns = ['date', 'events_per_date_a', 'count_per_date_a']\n",
    "\n",
    "    events_a_cumulative = events_a_daily.apply(\n",
    "        lambda x: \\\n",
    "            events_a_daily[events_a_daily['date'] <= x['date']]\\\n",
    "                .agg({\n",
    "                    'date' : 'max',\n",
    "                    'events_per_date_a' : 'sum',\n",
    "                    'count_per_date_a' : 'sum'}), axis=1).sort_values(by=['date'])\n",
    "    events_a_cumulative.columns = ['date', 'events_cumulative_a', 'count_cumulative_a']\n",
    "\n",
    "    events_b_daily = events[events['group']=='B'][['date', 'transaction_id', 'visitor_id', 'event_name']]\\\n",
    "        .groupby('date', as_index=False)\\\n",
    "        .agg({'transaction_id' : pd.Series.nunique, 'event_name' : 'count'})\n",
    "    events_b_daily.columns = ['date', 'events_per_date_b', 'count_per_date_b']\n",
    "\n",
    "    events_b_cumulative = events_b_daily.apply(\n",
    "        lambda x: \\\n",
    "            events_b_daily[events_b_daily['date'] <= x['date']]\\\n",
    "                .agg({\n",
    "                    'date' : 'max',\n",
    "                    'events_per_date_b' : 'sum',\n",
    "                    'count_per_date_b' : 'sum'}), axis=1).sort_values(by=['date'])\n",
    "    events_b_cumulative.columns = ['date', 'events_cumulative_b', 'count_cumulative_b']\n",
    "\n",
    "    data = events_a_daily.merge(events_b_daily, left_on='date', right_on='date', how='left')\\\n",
    "        .merge(events_a_cumulative, left_on='date', right_on='date', how='left')\\\n",
    "        .merge(events_b_cumulative, left_on='date', right_on='date', how='left')\\\n",
    "        .merge(users_a_daily, left_on='date', right_on='date', how='left')\\\n",
    "        .merge(users_b_daily, left_on='date', right_on='date', how='left')\\\n",
    "        .merge(users_a_cumulative, left_on='date', right_on='date', how='left')\\\n",
    "        .merge(users_b_cumulative, left_on='date', right_on='date', how='left')\n",
    "    data.head()\n",
    "    return data\n",
    "\n",
    "def get_data(users, purchases):\n",
    "# агрегация обычных и кумулятивных данных\n",
    "    users_a_daily = users[users['group']=='A'][['date', 'users']]\n",
    "    users_a_daily.columns = ['date', 'users_per_date_a']\n",
    "\n",
    "    users_a_cumulative = users_a_daily.apply(lambda x: users_a_daily[users_a_daily['date'] <= x['date']].agg({'date' : 'max', 'users_per_date_a' : 'sum'}), axis=1)\n",
    "    users_a_cumulative.columns = ['date', 'users_cumulative_a']\n",
    "\n",
    "    users_b_daily = users[users['group']=='B'][['date', 'users']]\n",
    "    users_b_daily.columns = ['date', 'users_per_date_b']\n",
    "\n",
    "    users_b_cumulative = users_b_daily.apply(lambda x: users_b_daily[users_b_daily['date'] <= x['date']].agg({'date' : 'max', 'users_per_date_b' : 'sum'}), axis=1)\n",
    "    users_b_cumulative.columns = ['date', 'users_cumulative_b']\n",
    "\n",
    "    purchases_a_daily = purchases[purchases['group']=='A'][['date', 'transaction_id', 'visitor_id', 'revenue']]\\\n",
    "        .groupby('date', as_index=False)\\\n",
    "        .agg({'transaction_id' : pd.Series.nunique, 'revenue' : 'sum'})\n",
    "    purchases_a_daily.columns = ['date', 'purchases_per_date_a', 'revenue_per_date_a']\n",
    "\n",
    "    purchases_a_cumulative = purchases_a_daily.apply(\n",
    "        lambda x: \\\n",
    "            purchases_a_daily[purchases_a_daily['date'] <= x['date']]\\\n",
    "                .agg({\n",
    "                    'date' : 'max',\n",
    "                    'purchases_per_date_a' : 'sum',\n",
    "                    'revenue_per_date_a' : 'sum'}), axis=1).sort_values(by=['date'])\n",
    "    purchases_a_cumulative.columns = ['date', 'purchases_cumulative_a', 'revenue_cumulative_a']\n",
    "\n",
    "    purchases_b_daily = purchases[purchases['group']=='B'][['date', 'transaction_id', 'visitor_id', 'revenue']]\\\n",
    "        .groupby('date', as_index=False)\\\n",
    "        .agg({'transaction_id' : pd.Series.nunique, 'revenue' : 'sum'})\n",
    "    purchases_b_daily.columns = ['date', 'purchases_per_date_b', 'revenue_per_date_b']\n",
    "\n",
    "    purchases_b_cumulative = purchases_b_daily.apply(\n",
    "        lambda x: \\\n",
    "            purchases_b_daily[purchases_b_daily['date'] <= x['date']]\\\n",
    "                .agg({\n",
    "                    'date' : 'max',\n",
    "                    'purchases_per_date_b' : 'sum',\n",
    "                    'revenue_per_date_b' : 'sum'}), axis=1).sort_values(by=['date'])\n",
    "    purchases_b_cumulative.columns = ['date', 'purchases_cumulative_b', 'revenue_cumulative_b']\n",
    "\n",
    "    data = purchases_a_daily.merge(purchases_b_daily, left_on='date', right_on='date', how='left')\\\n",
    "        .merge(purchases_a_cumulative, left_on='date', right_on='date', how='left')\\\n",
    "        .merge(purchases_b_cumulative, left_on='date', right_on='date', how='left')\\\n",
    "        .merge(users_a_daily, left_on='date', right_on='date', how='left')\\\n",
    "        .merge(users_b_daily, left_on='date', right_on='date', how='left')\\\n",
    "        .merge(users_a_cumulative, left_on='date', right_on='date', how='left')\\\n",
    "        .merge(users_b_cumulative, left_on='date', right_on='date', how='left')\n",
    "    data.head()\n",
    "    return data"
   ]
  },
  {
   "cell_type": "code",
   "execution_count": 43,
   "metadata": {},
   "outputs": [],
   "source": [
    "purchases = (ev_fg[ev_fg.event_name == 'purchase']\n",
    "             .rename({'user_id':'visitor_id','event_dt':'transaction_id','details':'revenue'}, axis=1))\n",
    "product_carts = (ev_fg[ev_fg.event_name == 'product_cart']\n",
    "             .rename({'user_id':'visitor_id','event_dt':'transaction_id'}, axis=1))\n",
    "product_pages = (ev_fg[ev_fg.event_name == 'product_page']\n",
    "             .rename({'user_id':'visitor_id','event_dt':'transaction_id'}, axis=1))"
   ]
  },
  {
   "cell_type": "code",
   "execution_count": 44,
   "metadata": {},
   "outputs": [],
   "source": [
    "# исходные и кумулятивные данные в одной таблице по просмотру страницы товара и корзины перед покупкой\n",
    "conv_data_product_cart = get_data_events(users_stat_by_group_and_date, product_carts)\n",
    "conv_data_product_page = get_data_events(users_stat_by_group_and_date, product_pages)"
   ]
  },
  {
   "cell_type": "code",
   "execution_count": 45,
   "metadata": {},
   "outputs": [],
   "source": [
    "# исходные и кумулятивные данные в одной таблице\n",
    "data = get_data(users_stat_by_group_and_date, purchases)"
   ]
  },
  {
   "cell_type": "code",
   "execution_count": 46,
   "metadata": {},
   "outputs": [
    {
     "data": {
      "text/html": [
       "<div>\n",
       "<style scoped>\n",
       "    .dataframe tbody tr th:only-of-type {\n",
       "        vertical-align: middle;\n",
       "    }\n",
       "\n",
       "    .dataframe tbody tr th {\n",
       "        vertical-align: top;\n",
       "    }\n",
       "\n",
       "    .dataframe thead th {\n",
       "        text-align: right;\n",
       "    }\n",
       "</style>\n",
       "<table border=\"1\" class=\"dataframe\">\n",
       "  <thead>\n",
       "    <tr style=\"text-align: right;\">\n",
       "      <th></th>\n",
       "      <th>date</th>\n",
       "      <th>purchases_per_date_a</th>\n",
       "      <th>revenue_per_date_a</th>\n",
       "      <th>purchases_per_date_b</th>\n",
       "      <th>revenue_per_date_b</th>\n",
       "      <th>purchases_cumulative_a</th>\n",
       "      <th>revenue_cumulative_a</th>\n",
       "      <th>purchases_cumulative_b</th>\n",
       "      <th>revenue_cumulative_b</th>\n",
       "      <th>users_per_date_a</th>\n",
       "      <th>users_per_date_b</th>\n",
       "      <th>users_cumulative_a</th>\n",
       "      <th>users_cumulative_b</th>\n",
       "    </tr>\n",
       "  </thead>\n",
       "  <tbody>\n",
       "    <tr>\n",
       "      <th>0</th>\n",
       "      <td>2020-12-07</td>\n",
       "      <td>45</td>\n",
       "      <td>1214.54</td>\n",
       "      <td>59</td>\n",
       "      <td>704.41</td>\n",
       "      <td>45</td>\n",
       "      <td>1214.54</td>\n",
       "      <td>59</td>\n",
       "      <td>704.41</td>\n",
       "      <td>154</td>\n",
       "      <td>173</td>\n",
       "      <td>154</td>\n",
       "      <td>173</td>\n",
       "    </tr>\n",
       "    <tr>\n",
       "      <th>1</th>\n",
       "      <td>2020-12-08</td>\n",
       "      <td>37</td>\n",
       "      <td>779.63</td>\n",
       "      <td>35</td>\n",
       "      <td>494.65</td>\n",
       "      <td>82</td>\n",
       "      <td>1994.17</td>\n",
       "      <td>94</td>\n",
       "      <td>1199.06</td>\n",
       "      <td>160</td>\n",
       "      <td>120</td>\n",
       "      <td>314</td>\n",
       "      <td>293</td>\n",
       "    </tr>\n",
       "    <tr>\n",
       "      <th>2</th>\n",
       "      <td>2020-12-09</td>\n",
       "      <td>51</td>\n",
       "      <td>1369.49</td>\n",
       "      <td>40</td>\n",
       "      <td>419.60</td>\n",
       "      <td>133</td>\n",
       "      <td>3363.66</td>\n",
       "      <td>134</td>\n",
       "      <td>1618.66</td>\n",
       "      <td>178</td>\n",
       "      <td>172</td>\n",
       "      <td>492</td>\n",
       "      <td>465</td>\n",
       "    </tr>\n",
       "    <tr>\n",
       "      <th>3</th>\n",
       "      <td>2020-12-10</td>\n",
       "      <td>46</td>\n",
       "      <td>1329.54</td>\n",
       "      <td>26</td>\n",
       "      <td>639.74</td>\n",
       "      <td>179</td>\n",
       "      <td>4693.20</td>\n",
       "      <td>160</td>\n",
       "      <td>2258.40</td>\n",
       "      <td>165</td>\n",
       "      <td>131</td>\n",
       "      <td>657</td>\n",
       "      <td>596</td>\n",
       "    </tr>\n",
       "    <tr>\n",
       "      <th>4</th>\n",
       "      <td>2020-12-11</td>\n",
       "      <td>42</td>\n",
       "      <td>1099.58</td>\n",
       "      <td>16</td>\n",
       "      <td>94.84</td>\n",
       "      <td>221</td>\n",
       "      <td>5792.78</td>\n",
       "      <td>176</td>\n",
       "      <td>2353.24</td>\n",
       "      <td>185</td>\n",
       "      <td>89</td>\n",
       "      <td>842</td>\n",
       "      <td>685</td>\n",
       "    </tr>\n",
       "  </tbody>\n",
       "</table>\n",
       "</div>"
      ],
      "text/plain": [
       "        date  purchases_per_date_a  revenue_per_date_a  purchases_per_date_b  \\\n",
       "0 2020-12-07                    45             1214.54                    59   \n",
       "1 2020-12-08                    37              779.63                    35   \n",
       "2 2020-12-09                    51             1369.49                    40   \n",
       "3 2020-12-10                    46             1329.54                    26   \n",
       "4 2020-12-11                    42             1099.58                    16   \n",
       "\n",
       "   revenue_per_date_b  purchases_cumulative_a  revenue_cumulative_a  \\\n",
       "0              704.41                      45               1214.54   \n",
       "1              494.65                      82               1994.17   \n",
       "2              419.60                     133               3363.66   \n",
       "3              639.74                     179               4693.20   \n",
       "4               94.84                     221               5792.78   \n",
       "\n",
       "   purchases_cumulative_b  revenue_cumulative_b  users_per_date_a  \\\n",
       "0                      59                704.41               154   \n",
       "1                      94               1199.06               160   \n",
       "2                     134               1618.66               178   \n",
       "3                     160               2258.40               165   \n",
       "4                     176               2353.24               185   \n",
       "\n",
       "   users_per_date_b  users_cumulative_a  users_cumulative_b  \n",
       "0               173                 154                 173  \n",
       "1               120                 314                 293  \n",
       "2               172                 492                 465  \n",
       "3               131                 657                 596  \n",
       "4                89                 842                 685  "
      ]
     },
     "metadata": {},
     "output_type": "display_data"
    },
    {
     "name": "stdout",
     "output_type": "stream",
     "text": [
      "<class 'pandas.core.frame.DataFrame'>\n",
      "Int64Index: 23 entries, 0 to 22\n",
      "Data columns (total 13 columns):\n",
      " #   Column                  Non-Null Count  Dtype         \n",
      "---  ------                  --------------  -----         \n",
      " 0   date                    23 non-null     datetime64[ns]\n",
      " 1   purchases_per_date_a    23 non-null     int64         \n",
      " 2   revenue_per_date_a      23 non-null     float64       \n",
      " 3   purchases_per_date_b    23 non-null     int64         \n",
      " 4   revenue_per_date_b      23 non-null     float64       \n",
      " 5   purchases_cumulative_a  23 non-null     int64         \n",
      " 6   revenue_cumulative_a    23 non-null     float64       \n",
      " 7   purchases_cumulative_b  23 non-null     int64         \n",
      " 8   revenue_cumulative_b    23 non-null     float64       \n",
      " 9   users_per_date_a        23 non-null     int64         \n",
      " 10  users_per_date_b        23 non-null     int64         \n",
      " 11  users_cumulative_a      23 non-null     int64         \n",
      " 12  users_cumulative_b      23 non-null     int64         \n",
      "dtypes: datetime64[ns](1), float64(4), int64(8)\n",
      "memory usage: 2.5 KB\n"
     ]
    }
   ],
   "source": [
    "display(data.head())\n",
    "data.info()"
   ]
  },
  {
   "cell_type": "markdown",
   "metadata": {},
   "source": [
    "## Проанализирую A/B-тест:"
   ]
  },
  {
   "cell_type": "markdown",
   "metadata": {},
   "source": [
    "#### <a id='шаг2.6'></a>Определю наличие выбросов для заказов пользователей"
   ]
  },
  {
   "cell_type": "code",
   "execution_count": 47,
   "metadata": {},
   "outputs": [
    {
     "data": {
      "image/png": "[encoded data removed]",
      "text/plain": [
       "<Figure size 720x504 with 1 Axes>"
      ]
     },
     "metadata": {
      "needs_background": "light"
     },
     "output_type": "display_data"
    }
   ],
   "source": [
    "_, ax = plt.subplots(figsize=(10,7))\n",
    "users_purchases_num_A = purchases[purchases.group=='A'].groupby('visitor_id')['transaction_id'].nunique()\n",
    "plt.scatter(users_purchases_num_A.index, users_purchases_num_A, color='green', label='A', alpha=0.5)\n",
    "users_purchases_num_B = purchases[purchases.group=='B'].groupby('visitor_id')['transaction_id'].nunique()\n",
    "plt.scatter(users_purchases_num_B.index, users_purchases_num_B, color='blue', label='B', alpha=0.5)\n",
    "plt.title('Точечный график количества заказов по пользователям')\n",
    "plt.ylabel('Количество заказов пользователя')\n",
    "plt.xlabel('Пользователи')\n",
    "plt.xticks('')\n",
    "plt.legend()\n",
    "plt.show()"
   ]
  },
  {
   "cell_type": "markdown",
   "metadata": {},
   "source": [
    "Вывод: состав групп по характеру покупок одинаковый - не более 7 шт. Фильтрация не требуется."
   ]
  },
  {
   "cell_type": "markdown",
   "metadata": {},
   "source": [
    "#### <a id='шаг2.8'></a>Распределение стоимости заказов на пользователя"
   ]
  },
  {
   "cell_type": "code",
   "execution_count": 48,
   "metadata": {},
   "outputs": [
    {
     "data": {
      "image/png": "[encoded data removed]",
      "text/plain": [
       "<Figure size 720x504 with 1 Axes>"
      ]
     },
     "metadata": {
      "needs_background": "light"
     },
     "output_type": "display_data"
    }
   ],
   "source": [
    "_, ax = plt.subplots(figsize=(10,7))\n",
    "users_purchases_num_A = purchases[purchases.group=='A'].groupby('visitor_id')['revenue'].sum()\n",
    "plt.scatter(users_purchases_num_A.index, users_purchases_num_A, color='green', label='A', alpha=0.5)\n",
    "users_purchases_num_B = purchases[purchases.group=='B'].groupby('visitor_id')['revenue'].sum()\n",
    "plt.scatter(users_purchases_num_B.index, users_purchases_num_B, color='blue', label='B', alpha=0.5)\n",
    "plt.title('Все данные')\n",
    "plt.xlabel('Заказы')\n",
    "plt.xticks('')\n",
    "plt.ylabel('Стоимость заказа, руб.')\n",
    "plt.title('Распределение стоимостей заказов')\n",
    "plt.grid()\n",
    "plt.show()"
   ]
  },
  {
   "cell_type": "markdown",
   "metadata": {},
   "source": [
    "Вывод: заказы стоимостью до 1000 рублей, аномальных нет."
   ]
  },
  {
   "cell_type": "markdown",
   "metadata": {},
   "source": [
    "#### <a id='шаг2.1'></a> Построю график кумулятивной выручки по группам"
   ]
  },
  {
   "cell_type": "code",
   "execution_count": 49,
   "metadata": {},
   "outputs": [],
   "source": [
    "def get_cumulative_data_AB(data):\n",
    "    cumulative_A = data[['date', \n",
    "                         'revenue_cumulative_a',\n",
    "                         'purchases_cumulative_a',\n",
    "                        'users_cumulative_a']].rename(columns={'revenue_cumulative_a': 'revenue_cumulative',\n",
    "                                                                  'purchases_cumulative_a': 'purchases_cumulative',\n",
    "                                                                 'users_cumulative_a': 'users_cumulative'})\n",
    "    cumulative_B = data[['date', \n",
    "                         'revenue_cumulative_b',\n",
    "                         'purchases_cumulative_b',\n",
    "                         'users_cumulative_b'\n",
    "                        ]].rename(columns={'revenue_cumulative_b': 'revenue_cumulative',\n",
    "                                           'purchases_cumulative_b': 'purchases_cumulative',\n",
    "                                          'users_cumulative_b': 'users_cumulative'})\n",
    "    cumulative_A['mean_check_cumulative'] = cumulative_A.revenue_cumulative / cumulative_A.purchases_cumulative\n",
    "    cumulative_B['mean_check_cumulative'] = cumulative_B.revenue_cumulative / cumulative_B.purchases_cumulative\n",
    "    cumulative_A['conversion_cumulative'] = cumulative_A.purchases_cumulative / cumulative_A.users_cumulative\n",
    "    cumulative_B['conversion_cumulative'] = cumulative_B.purchases_cumulative / cumulative_B.users_cumulative\n",
    "    print('Первые строки таблицы накопительных данных группы А')\n",
    "    display(cumulative_A.head())\n",
    "    print('Первые строки таблицы накопительных данных группы В')\n",
    "    display(cumulative_B.head())\n",
    "    return cumulative_A, cumulative_B"
   ]
  },
  {
   "cell_type": "code",
   "execution_count": 50,
   "metadata": {},
   "outputs": [
    {
     "name": "stdout",
     "output_type": "stream",
     "text": [
      "Первые строки таблицы накопительных данных группы А\n"
     ]
    },
    {
     "data": {
      "text/html": [
       "<div>\n",
       "<style scoped>\n",
       "    .dataframe tbody tr th:only-of-type {\n",
       "        vertical-align: middle;\n",
       "    }\n",
       "\n",
       "    .dataframe tbody tr th {\n",
       "        vertical-align: top;\n",
       "    }\n",
       "\n",
       "    .dataframe thead th {\n",
       "        text-align: right;\n",
       "    }\n",
       "</style>\n",
       "<table border=\"1\" class=\"dataframe\">\n",
       "  <thead>\n",
       "    <tr style=\"text-align: right;\">\n",
       "      <th></th>\n",
       "      <th>date</th>\n",
       "      <th>revenue_cumulative</th>\n",
       "      <th>purchases_cumulative</th>\n",
       "      <th>users_cumulative</th>\n",
       "      <th>mean_check_cumulative</th>\n",
       "      <th>conversion_cumulative</th>\n",
       "    </tr>\n",
       "  </thead>\n",
       "  <tbody>\n",
       "    <tr>\n",
       "      <th>0</th>\n",
       "      <td>2020-12-07</td>\n",
       "      <td>1214.54</td>\n",
       "      <td>45</td>\n",
       "      <td>154</td>\n",
       "      <td>26.989778</td>\n",
       "      <td>0.292208</td>\n",
       "    </tr>\n",
       "    <tr>\n",
       "      <th>1</th>\n",
       "      <td>2020-12-08</td>\n",
       "      <td>1994.17</td>\n",
       "      <td>82</td>\n",
       "      <td>314</td>\n",
       "      <td>24.319146</td>\n",
       "      <td>0.261146</td>\n",
       "    </tr>\n",
       "    <tr>\n",
       "      <th>2</th>\n",
       "      <td>2020-12-09</td>\n",
       "      <td>3363.66</td>\n",
       "      <td>133</td>\n",
       "      <td>492</td>\n",
       "      <td>25.290677</td>\n",
       "      <td>0.270325</td>\n",
       "    </tr>\n",
       "    <tr>\n",
       "      <th>3</th>\n",
       "      <td>2020-12-10</td>\n",
       "      <td>4693.20</td>\n",
       "      <td>179</td>\n",
       "      <td>657</td>\n",
       "      <td>26.218994</td>\n",
       "      <td>0.272451</td>\n",
       "    </tr>\n",
       "    <tr>\n",
       "      <th>4</th>\n",
       "      <td>2020-12-11</td>\n",
       "      <td>5792.78</td>\n",
       "      <td>221</td>\n",
       "      <td>842</td>\n",
       "      <td>26.211674</td>\n",
       "      <td>0.262470</td>\n",
       "    </tr>\n",
       "  </tbody>\n",
       "</table>\n",
       "</div>"
      ],
      "text/plain": [
       "        date  revenue_cumulative  purchases_cumulative  users_cumulative  \\\n",
       "0 2020-12-07             1214.54                    45               154   \n",
       "1 2020-12-08             1994.17                    82               314   \n",
       "2 2020-12-09             3363.66                   133               492   \n",
       "3 2020-12-10             4693.20                   179               657   \n",
       "4 2020-12-11             5792.78                   221               842   \n",
       "\n",
       "   mean_check_cumulative  conversion_cumulative  \n",
       "0              26.989778               0.292208  \n",
       "1              24.319146               0.261146  \n",
       "2              25.290677               0.270325  \n",
       "3              26.218994               0.272451  \n",
       "4              26.211674               0.262470  "
      ]
     },
     "metadata": {},
     "output_type": "display_data"
    },
    {
     "name": "stdout",
     "output_type": "stream",
     "text": [
      "Первые строки таблицы накопительных данных группы В\n"
     ]
    },
    {
     "data": {
      "text/html": [
       "<div>\n",
       "<style scoped>\n",
       "    .dataframe tbody tr th:only-of-type {\n",
       "        vertical-align: middle;\n",
       "    }\n",
       "\n",
       "    .dataframe tbody tr th {\n",
       "        vertical-align: top;\n",
       "    }\n",
       "\n",
       "    .dataframe thead th {\n",
       "        text-align: right;\n",
       "    }\n",
       "</style>\n",
       "<table border=\"1\" class=\"dataframe\">\n",
       "  <thead>\n",
       "    <tr style=\"text-align: right;\">\n",
       "      <th></th>\n",
       "      <th>date</th>\n",
       "      <th>revenue_cumulative</th>\n",
       "      <th>purchases_cumulative</th>\n",
       "      <th>users_cumulative</th>\n",
       "      <th>mean_check_cumulative</th>\n",
       "      <th>conversion_cumulative</th>\n",
       "    </tr>\n",
       "  </thead>\n",
       "  <tbody>\n",
       "    <tr>\n",
       "      <th>0</th>\n",
       "      <td>2020-12-07</td>\n",
       "      <td>704.41</td>\n",
       "      <td>59</td>\n",
       "      <td>173</td>\n",
       "      <td>11.939153</td>\n",
       "      <td>0.341040</td>\n",
       "    </tr>\n",
       "    <tr>\n",
       "      <th>1</th>\n",
       "      <td>2020-12-08</td>\n",
       "      <td>1199.06</td>\n",
       "      <td>94</td>\n",
       "      <td>293</td>\n",
       "      <td>12.755957</td>\n",
       "      <td>0.320819</td>\n",
       "    </tr>\n",
       "    <tr>\n",
       "      <th>2</th>\n",
       "      <td>2020-12-09</td>\n",
       "      <td>1618.66</td>\n",
       "      <td>134</td>\n",
       "      <td>465</td>\n",
       "      <td>12.079552</td>\n",
       "      <td>0.288172</td>\n",
       "    </tr>\n",
       "    <tr>\n",
       "      <th>3</th>\n",
       "      <td>2020-12-10</td>\n",
       "      <td>2258.40</td>\n",
       "      <td>160</td>\n",
       "      <td>596</td>\n",
       "      <td>14.115000</td>\n",
       "      <td>0.268456</td>\n",
       "    </tr>\n",
       "    <tr>\n",
       "      <th>4</th>\n",
       "      <td>2020-12-11</td>\n",
       "      <td>2353.24</td>\n",
       "      <td>176</td>\n",
       "      <td>685</td>\n",
       "      <td>13.370682</td>\n",
       "      <td>0.256934</td>\n",
       "    </tr>\n",
       "  </tbody>\n",
       "</table>\n",
       "</div>"
      ],
      "text/plain": [
       "        date  revenue_cumulative  purchases_cumulative  users_cumulative  \\\n",
       "0 2020-12-07              704.41                    59               173   \n",
       "1 2020-12-08             1199.06                    94               293   \n",
       "2 2020-12-09             1618.66                   134               465   \n",
       "3 2020-12-10             2258.40                   160               596   \n",
       "4 2020-12-11             2353.24                   176               685   \n",
       "\n",
       "   mean_check_cumulative  conversion_cumulative  \n",
       "0              11.939153               0.341040  \n",
       "1              12.755957               0.320819  \n",
       "2              12.079552               0.288172  \n",
       "3              14.115000               0.268456  \n",
       "4              13.370682               0.256934  "
      ]
     },
     "metadata": {},
     "output_type": "display_data"
    }
   ],
   "source": [
    "cumulative_A, cumulative_B = get_cumulative_data_AB(data)"
   ]
  },
  {
   "cell_type": "code",
   "execution_count": 51,
   "metadata": {},
   "outputs": [
    {
     "data": {
      "image/png": "[encoded data removed]",
      "text/plain": [
       "<Figure size 720x504 with 1 Axes>"
      ]
     },
     "metadata": {
      "needs_background": "light"
     },
     "output_type": "display_data"
    }
   ],
   "source": [
    "plot_AB(cumulative_A, cumulative_B, 'revenue_cumulative', title='График кумулятивной выручки по дням',\n",
    "       ylabel='Выручка, руб.')"
   ]
  },
  {
   "cell_type": "markdown",
   "metadata": {},
   "source": [
    "**Вывод:** по кумулятивной выручке контрольная группа А значительно превосходит В."
   ]
  },
  {
   "cell_type": "markdown",
   "metadata": {},
   "source": [
    "#### <a id='шаг2.2'></a>Построю график кумулятивного среднего чека по группам. Сделаю выводы и предположения."
   ]
  },
  {
   "cell_type": "code",
   "execution_count": 52,
   "metadata": {},
   "outputs": [
    {
     "data": {
      "image/png": "[encoded data removed]",
      "text/plain": [
       "<Figure size 720x504 with 1 Axes>"
      ]
     },
     "metadata": {
      "needs_background": "light"
     },
     "output_type": "display_data"
    }
   ],
   "source": [
    "plot_AB(cumulative_A, cumulative_B, 'mean_check_cumulative', title='График кумулятивного среднего чека по дням',\n",
    "       ylabel='Сумма среднего чека, руб.')"
   ]
  },
  {
   "cell_type": "markdown",
   "metadata": {},
   "source": [
    "Вывод: средний чек выровнялся на отметке 23 рубля."
   ]
  },
  {
   "cell_type": "markdown",
   "metadata": {},
   "source": [
    "#### <a id='шаг2.3'></a>Построю график относительного изменения кумулятивного среднего чека группы B к группе A"
   ]
  },
  {
   "cell_type": "code",
   "execution_count": 53,
   "metadata": {},
   "outputs": [],
   "source": [
    "def get_rel_col(A, B, col):\n",
    "    both = A[['date', col]].merge(B[['date', col]],\n",
    "                                                                 on='date', how='outer',\n",
    "                                                                 suffixes=('_A', '_B'))\n",
    "    print('Проверка на пропуски после соединения таблиц:')\n",
    "    display(both.isnull().sum())\n",
    "    rel_col_name = 'rel_' + col\n",
    "    col_A = col + '_A'\n",
    "    col_B = col + '_B'\n",
    "    both[rel_col_name] = both[col_B] / both[col_A] - 1\n",
    "    display(both.head())\n",
    "    return both"
   ]
  },
  {
   "cell_type": "code",
   "execution_count": 54,
   "metadata": {},
   "outputs": [
    {
     "name": "stdout",
     "output_type": "stream",
     "text": [
      "Проверка на пропуски после соединения таблиц:\n"
     ]
    },
    {
     "data": {
      "text/plain": [
       "date                       0\n",
       "mean_check_cumulative_A    0\n",
       "mean_check_cumulative_B    0\n",
       "dtype: int64"
      ]
     },
     "metadata": {},
     "output_type": "display_data"
    },
    {
     "data": {
      "text/html": [
       "<div>\n",
       "<style scoped>\n",
       "    .dataframe tbody tr th:only-of-type {\n",
       "        vertical-align: middle;\n",
       "    }\n",
       "\n",
       "    .dataframe tbody tr th {\n",
       "        vertical-align: top;\n",
       "    }\n",
       "\n",
       "    .dataframe thead th {\n",
       "        text-align: right;\n",
       "    }\n",
       "</style>\n",
       "<table border=\"1\" class=\"dataframe\">\n",
       "  <thead>\n",
       "    <tr style=\"text-align: right;\">\n",
       "      <th></th>\n",
       "      <th>date</th>\n",
       "      <th>mean_check_cumulative_A</th>\n",
       "      <th>mean_check_cumulative_B</th>\n",
       "      <th>rel_mean_check_cumulative</th>\n",
       "    </tr>\n",
       "  </thead>\n",
       "  <tbody>\n",
       "    <tr>\n",
       "      <th>0</th>\n",
       "      <td>2020-12-07</td>\n",
       "      <td>26.989778</td>\n",
       "      <td>11.939153</td>\n",
       "      <td>-0.557642</td>\n",
       "    </tr>\n",
       "    <tr>\n",
       "      <th>1</th>\n",
       "      <td>2020-12-08</td>\n",
       "      <td>24.319146</td>\n",
       "      <td>12.755957</td>\n",
       "      <td>-0.475477</td>\n",
       "    </tr>\n",
       "    <tr>\n",
       "      <th>2</th>\n",
       "      <td>2020-12-09</td>\n",
       "      <td>25.290677</td>\n",
       "      <td>12.079552</td>\n",
       "      <td>-0.522371</td>\n",
       "    </tr>\n",
       "    <tr>\n",
       "      <th>3</th>\n",
       "      <td>2020-12-10</td>\n",
       "      <td>26.218994</td>\n",
       "      <td>14.115000</td>\n",
       "      <td>-0.461650</td>\n",
       "    </tr>\n",
       "    <tr>\n",
       "      <th>4</th>\n",
       "      <td>2020-12-11</td>\n",
       "      <td>26.211674</td>\n",
       "      <td>13.370682</td>\n",
       "      <td>-0.489896</td>\n",
       "    </tr>\n",
       "  </tbody>\n",
       "</table>\n",
       "</div>"
      ],
      "text/plain": [
       "        date  mean_check_cumulative_A  mean_check_cumulative_B  \\\n",
       "0 2020-12-07                26.989778                11.939153   \n",
       "1 2020-12-08                24.319146                12.755957   \n",
       "2 2020-12-09                25.290677                12.079552   \n",
       "3 2020-12-10                26.218994                14.115000   \n",
       "4 2020-12-11                26.211674                13.370682   \n",
       "\n",
       "   rel_mean_check_cumulative  \n",
       "0                  -0.557642  \n",
       "1                  -0.475477  \n",
       "2                  -0.522371  \n",
       "3                  -0.461650  \n",
       "4                  -0.489896  "
      ]
     },
     "metadata": {},
     "output_type": "display_data"
    }
   ],
   "source": [
    "cumulative_both_mean_check = get_rel_col(cumulative_A, cumulative_B, 'mean_check_cumulative')"
   ]
  },
  {
   "cell_type": "code",
   "execution_count": 55,
   "metadata": {},
   "outputs": [],
   "source": [
    "def plot_rel_AB(AB, col, title='', ylabel='', second_hline=None, second_AB=None):\n",
    "    _, ax = plt.subplots(figsize=(10, 7))\n",
    "    l1, = plt.plot(AB['date'], AB[col])\n",
    "    plt.axhline(0, ls='--', color='black')\n",
    "    if type(second_AB) == pd.DataFrame:\n",
    "        l2, = plt.plot(second_AB['date'], second_AB[col], ls='--')\n",
    "        plt.legend(handles=(l1, l2), labels=('Отфильтрованные данные', 'Исходные данные'))\n",
    "    if pd.notna(second_hline):\n",
    "        plt.axhline(second_hline, ls='--', linewidth=1, color='black')\n",
    "\n",
    "    plt.xticks(rotation=45)\n",
    "    plt.title(title)\n",
    "    plt.xlabel('Дата')\n",
    "    plt.ylabel(ylabel)\n",
    "    plt.grid()\n",
    "    plt.show()"
   ]
  },
  {
   "cell_type": "code",
   "execution_count": 56,
   "metadata": {},
   "outputs": [
    {
     "data": {
      "image/png": "[encoded data removed]",
      "text/plain": [
       "<Figure size 720x504 with 1 Axes>"
      ]
     },
     "metadata": {
      "needs_background": "light"
     },
     "output_type": "display_data"
    }
   ],
   "source": [
    "plot_rel_AB(cumulative_both_mean_check, 'rel_mean_check_cumulative',\n",
    "            title='График относительного изменения кумулятивного среднего чека',\n",
    "            ylabel='Сумма кумулятивного\\nсреднего чека, руб.')"
   ]
  },
  {
   "cell_type": "markdown",
   "metadata": {},
   "source": [
    "Вывод: график к концу теста не вполне выровнялся, но скорее всего отличий по кумулятивному среднему чеку между группами не будет."
   ]
  },
  {
   "cell_type": "markdown",
   "metadata": {},
   "source": [
    "#### <a id='шаг2.4'></a>Построю график кумулятивной конверсии по группам"
   ]
  },
  {
   "cell_type": "code",
   "execution_count": 57,
   "metadata": {},
   "outputs": [
    {
     "data": {
      "image/png": "[encoded data removed]",
      "text/plain": [
       "<Figure size 720x504 with 1 Axes>"
      ]
     },
     "metadata": {
      "needs_background": "light"
     },
     "output_type": "display_data"
    }
   ],
   "source": [
    "plot_AB(cumulative_A, cumulative_B, 'conversion_cumulative', title='График кумулятивной конверсии по группам',\n",
    "       ylabel='Конверсия посетителей в покупателей')"
   ]
  },
  {
   "cell_type": "markdown",
   "metadata": {},
   "source": [
    "Вывод: видно, что накопительная конверсия начиная с 21 декабря почти выровнялась, со значением 0.31 для группы А против 0.26 для группы В."
   ]
  },
  {
   "cell_type": "markdown",
   "metadata": {},
   "source": [
    "#### <a id='шаг2.5'></a>Построю график относительного изменения кумулятивной конверсии группы B к группе A"
   ]
  },
  {
   "cell_type": "code",
   "execution_count": 58,
   "metadata": {},
   "outputs": [
    {
     "name": "stdout",
     "output_type": "stream",
     "text": [
      "Проверка на пропуски после соединения таблиц:\n"
     ]
    },
    {
     "data": {
      "text/plain": [
       "date                       0\n",
       "conversion_cumulative_A    0\n",
       "conversion_cumulative_B    0\n",
       "dtype: int64"
      ]
     },
     "metadata": {},
     "output_type": "display_data"
    },
    {
     "data": {
      "text/html": [
       "<div>\n",
       "<style scoped>\n",
       "    .dataframe tbody tr th:only-of-type {\n",
       "        vertical-align: middle;\n",
       "    }\n",
       "\n",
       "    .dataframe tbody tr th {\n",
       "        vertical-align: top;\n",
       "    }\n",
       "\n",
       "    .dataframe thead th {\n",
       "        text-align: right;\n",
       "    }\n",
       "</style>\n",
       "<table border=\"1\" class=\"dataframe\">\n",
       "  <thead>\n",
       "    <tr style=\"text-align: right;\">\n",
       "      <th></th>\n",
       "      <th>date</th>\n",
       "      <th>conversion_cumulative_A</th>\n",
       "      <th>conversion_cumulative_B</th>\n",
       "      <th>rel_conversion_cumulative</th>\n",
       "    </tr>\n",
       "  </thead>\n",
       "  <tbody>\n",
       "    <tr>\n",
       "      <th>0</th>\n",
       "      <td>2020-12-07</td>\n",
       "      <td>0.292208</td>\n",
       "      <td>0.341040</td>\n",
       "      <td>0.167116</td>\n",
       "    </tr>\n",
       "    <tr>\n",
       "      <th>1</th>\n",
       "      <td>2020-12-08</td>\n",
       "      <td>0.261146</td>\n",
       "      <td>0.320819</td>\n",
       "      <td>0.228502</td>\n",
       "    </tr>\n",
       "    <tr>\n",
       "      <th>2</th>\n",
       "      <td>2020-12-09</td>\n",
       "      <td>0.270325</td>\n",
       "      <td>0.288172</td>\n",
       "      <td>0.066020</td>\n",
       "    </tr>\n",
       "    <tr>\n",
       "      <th>3</th>\n",
       "      <td>2020-12-10</td>\n",
       "      <td>0.272451</td>\n",
       "      <td>0.268456</td>\n",
       "      <td>-0.014660</td>\n",
       "    </tr>\n",
       "    <tr>\n",
       "      <th>4</th>\n",
       "      <td>2020-12-11</td>\n",
       "      <td>0.262470</td>\n",
       "      <td>0.256934</td>\n",
       "      <td>-0.021092</td>\n",
       "    </tr>\n",
       "  </tbody>\n",
       "</table>\n",
       "</div>"
      ],
      "text/plain": [
       "        date  conversion_cumulative_A  conversion_cumulative_B  \\\n",
       "0 2020-12-07                 0.292208                 0.341040   \n",
       "1 2020-12-08                 0.261146                 0.320819   \n",
       "2 2020-12-09                 0.270325                 0.288172   \n",
       "3 2020-12-10                 0.272451                 0.268456   \n",
       "4 2020-12-11                 0.262470                 0.256934   \n",
       "\n",
       "   rel_conversion_cumulative  \n",
       "0                   0.167116  \n",
       "1                   0.228502  \n",
       "2                   0.066020  \n",
       "3                  -0.014660  \n",
       "4                  -0.021092  "
      ]
     },
     "metadata": {},
     "output_type": "display_data"
    }
   ],
   "source": [
    "cumulative_both_conv = get_rel_col(cumulative_A, cumulative_B, 'conversion_cumulative')"
   ]
  },
  {
   "cell_type": "code",
   "execution_count": 59,
   "metadata": {},
   "outputs": [
    {
     "data": {
      "image/png": "[encoded data removed]",
      "text/plain": [
       "<Figure size 720x504 with 1 Axes>"
      ]
     },
     "metadata": {
      "needs_background": "light"
     },
     "output_type": "display_data"
    }
   ],
   "source": [
    "plot_rel_AB(cumulative_both_conv, 'rel_conversion_cumulative', title='График относительного изменения кумулятивной конверсии',\n",
    "           ylabel='Относительное изменение конверсии, %', second_hline=-0.165)"
   ]
  },
  {
   "cell_type": "markdown",
   "metadata": {},
   "source": [
    "Вывод: относительное изменение кумулятивной конверсии установилось где-то на уровне -0.165, группа В проигрывает контрольной."
   ]
  },
  {
   "cell_type": "markdown",
   "metadata": {},
   "source": [
    "#### <a id='шаг2.10'></a>Посчитаю статистическую значимость различий в конверсии между группами"
   ]
  },
  {
   "cell_type": "markdown",
   "metadata": {},
   "source": [
    "Сформулирую гипотезы:\n",
    "- Н0: различий в конверсии между группами А и В нет\n",
    "- Н1: различия в конверсии есть\n",
    "\n",
    "Alpha - стандартно, 5%.\n",
    "\n",
    "Использую устойчивый к выбросам тест Манна-Уитни:"
   ]
  },
  {
   "cell_type": "code",
   "execution_count": 60,
   "metadata": {},
   "outputs": [
    {
     "name": "stdout",
     "output_type": "stream",
     "text": [
      "Конверсия в просмотры страницы товара:\n",
      "p-value: 0.028\n",
      "Относительная конверсия В/А: -0.172\n"
     ]
    }
   ],
   "source": [
    "# конверсия просмотра страницы товара\n",
    "count_by_users_a_pages = (product_pages[product_pages['group']=='A']\n",
    "                    .groupby('visitor_id', as_index=False)\n",
    "                    .agg({'event_name' : 'count'}))\n",
    "count_by_users_a_pages.columns = ['visitor_id', 'event_count']\n",
    "\n",
    "count_by_users_b_pages = (product_pages[product_pages['group']=='B']\n",
    "                    .groupby('visitor_id', as_index=False)\n",
    "                    .agg({'event_name' : 'count'}))\n",
    "count_by_users_b_pages.columns = ['visitor_id', 'event_count']\n",
    "\n",
    "sample_a_pages = (pd.concat([count_by_users_a_pages['event_count'],\n",
    "                       pd.Series(0, index=np.arange(conv_data_product_page['users_per_date_a'].sum() -\\\n",
    "                                                    len(count_by_users_a_pages['event_count'])),\n",
    "                                 name='event_count')],axis=0))\n",
    "\n",
    "sample_b_pages = (pd.concat([count_by_users_b_pages['event_count'],\n",
    "                       pd.Series(0, index=np.arange(conv_data_product_page['users_per_date_b'].sum() -\\\n",
    "                                                    len(count_by_users_b_pages['event_count'])),\n",
    "                                 name='event_count')],\n",
    "                      axis=0))\n",
    "print('Конверсия в просмотры страницы товара:')\n",
    "print(\"p-value: {0:.3f}\".format(st.mannwhitneyu(sample_a_pages, sample_b_pages)[1]))\n",
    "\n",
    "print(\"Относительная конверсия В/А: {0:.3f}\".format(sample_b_pages.mean()/sample_a_pages.mean()-1)) "
   ]
  },
  {
   "cell_type": "code",
   "execution_count": 61,
   "metadata": {},
   "outputs": [
    {
     "name": "stdout",
     "output_type": "stream",
     "text": [
      "Конверсия в переходы в корзину:\n",
      "p-value: 0.434\n",
      "Относительная конверсия В/А: -0.123\n"
     ]
    }
   ],
   "source": [
    "# конверсия в переходы в корзину\n",
    "count_by_users_a_carts = (product_carts[product_carts['group']=='A']\n",
    "                    .groupby('visitor_id', as_index=False)\n",
    "                    .agg({'event_name' : 'count'}))\n",
    "count_by_users_a_carts.columns = ['visitor_id', 'event_count']\n",
    "\n",
    "count_by_users_b_carts = (product_carts[product_carts['group']=='B']\n",
    "                    .groupby('visitor_id', as_index=False)\n",
    "                    .agg({'event_name' : 'count'}))\n",
    "count_by_users_b_carts.columns = ['visitor_id', 'event_count']\n",
    "\n",
    "sample_a_carts = (pd.concat([count_by_users_a_carts['event_count'],\n",
    "                       pd.Series(0, index=np.arange(conv_data_product_cart['users_per_date_a'].sum() -\\\n",
    "                                                    len(count_by_users_a_carts['event_count'])),\n",
    "                                 name='event_count')],axis=0))\n",
    "\n",
    "sample_b_carts = (pd.concat([count_by_users_b_carts['event_count'],\n",
    "                       pd.Series(0, index=np.arange(conv_data_product_cart['users_per_date_b'].sum() -\\\n",
    "                                                    len(count_by_users_b_carts['event_count'])),\n",
    "                                 name='event_count')],\n",
    "                      axis=0))\n",
    "print('Конверсия в переходы в корзину:')\n",
    "print(\"p-value: {0:.3f}\".format(st.mannwhitneyu(sample_a_carts, sample_b_carts)[1]))\n",
    "\n",
    "print(\"Относительная конверсия В/А: {0:.3f}\".format(sample_b_carts.mean()/sample_a_carts.mean()-1)) "
   ]
  },
  {
   "cell_type": "code",
   "execution_count": 62,
   "metadata": {},
   "outputs": [
    {
     "name": "stdout",
     "output_type": "stream",
     "text": [
      "p-value: 0.170\n",
      "Относительная конверсия В/А: -0.171\n"
     ]
    }
   ],
   "source": [
    "# отличия в количестве заказов по пользователям\n",
    "purchases_by_users_a = (purchases[purchases['group']=='A']\n",
    "                    .groupby('visitor_id', as_index=False)\n",
    "                    .agg({'transaction_id' : pd.Series.nunique}))\n",
    "purchases_by_users_a.columns = ['visitor_id', 'purchases']\n",
    "\n",
    "purchases_by_users_b = (purchases[purchases['group']=='B']\n",
    "                    .groupby('visitor_id', as_index=False)\n",
    "                    .agg({'transaction_id' : pd.Series.nunique}))\n",
    "purchases_by_users_b.columns = ['visitor_id', 'purchases']\n",
    "\n",
    "sample_a = (pd.concat([purchases_by_users_a['purchases'],\n",
    "                       pd.Series(0, index=np.arange(data['users_per_date_a'].sum() -\\\n",
    "                                                    len(purchases_by_users_a['purchases'])),\n",
    "                                 name='purchases')],axis=0))\n",
    "\n",
    "sample_b = (pd.concat([purchases_by_users_b['purchases'],\n",
    "                       pd.Series(0, index=np.arange(data['users_per_date_b'].sum() -\\\n",
    "                                                    len(purchases_by_users_b['purchases'])),\n",
    "                                 name='purchases')],\n",
    "                      axis=0))\n",
    "\n",
    "print(\"p-value: {0:.3f}\".format(st.mannwhitneyu(sample_a, sample_b)[1]))\n",
    "\n",
    "print(\"Относительная конверсия В/А: {0:.3f}\".format(sample_b.mean()/sample_a.mean()-1)) "
   ]
  },
  {
   "cell_type": "markdown",
   "metadata": {},
   "source": [
    "Вывод: статистически значимое различие в конверсии есть только по просмотру карточки товара. Если новая продуктовая воронка допустила там значительные изменения, их стоит отменить."
   ]
  },
  {
   "cell_type": "markdown",
   "metadata": {},
   "source": [
    "#### <a id='шаг2.11'></a>Посчитаю статистическую значимость различий в среднем чеке заказа между группами"
   ]
  },
  {
   "cell_type": "markdown",
   "metadata": {},
   "source": [
    "Применю так же тест, устойчивый к выбросам, Манна-Уитни.\n",
    "За нулевую гипотезу принимаю, что выборки взяты из одной генеральной совокупности, за первую - из разных.  \n",
    "alpha принимаю за 5%."
   ]
  },
  {
   "cell_type": "markdown",
   "metadata": {},
   "source": [
    "Относительные различия в среднем чеке между группами."
   ]
  },
  {
   "cell_type": "code",
   "execution_count": 63,
   "metadata": {},
   "outputs": [
    {
     "name": "stdout",
     "output_type": "stream",
     "text": [
      "p-value: 0.342\n",
      "Относительная величина различий средних чеков, В/А: -0.027\n"
     ]
    }
   ],
   "source": [
    "print(\"p-value: {0:.3f}\".format(st.mannwhitneyu(purchases[purchases['group']=='A']['revenue'], purchases[purchases['group']=='B']['revenue'])[1]))\n",
    "print(\"Относительная величина различий средних чеков, В/А: {0:.3f}\".format(purchases[purchases['group']=='B']['revenue'].mean()/purchases[purchases['group']=='A']['revenue'].mean()-1))"
   ]
  },
  {
   "cell_type": "markdown",
   "metadata": {},
   "source": [
    "Вывод: по среднему чеку значимых отличий между группами нет."
   ]
  },
  {
   "cell_type": "markdown",
   "metadata": {},
   "source": [
    "## Выводы<a id='шаг5'></a>  "
   ]
  },
  {
   "cell_type": "markdown",
   "metadata": {},
   "source": [
    "Для анализа предоставлены данные о:\n",
    "- маркетинговых событиях,\n",
    "- новых пользователях за период\n",
    "- событиях пользователей\n",
    "- группах проводимых тестов\n",
    "\n",
    "Данные предобработаны, приведены к нужному типу.\n",
    "\n",
    "Данные о событиях прерываются начиная с 30 декабря, и по 4 января данных нет. Продолжил анализ, чтобы понять, хватит ли данных для принятия решения по A/B тесту.\n",
    "\n",
    "Были отфильтрованы события, не относящиеся к тесту, проверено соответствие групп заявленным в ТЗ требованиям:\n",
    "- количество 6 тыс. пользователей в тесте достигнуто\n",
    "- 15% от новых пользователей в регионе EU - почти, достигнуто 11%.\n",
    "\n",
    "Проверено пересечение с другими тестами, доля участвующих в них для данного теста почти одинакова (около 25%) и не должна влиять на результат текущего.\n",
    "\n",
    "Изучены данные на предмет выбросов по количеству и цене покупок пользователей.\n",
    "\n",
    "Были изучены графики кумулятивных параметров, несмотря на отсутствие полных данных до 4 января 2021 года, относительная конверсия хорошо стабилизировалась и можно делать выводы по А/В тесту.\n",
    "\n",
    "При анализе конверсии на каждом этапе воронки выявлено:\n",
    "- просмотр карточки товара - есть значимые различия, **контрольная группа выигрывает**\n",
    "- просмотр корзины - нет значимых различий\n",
    "- покупка - нет значимых различий\n",
    "- средний чек - нет значимых различий\n",
    "\n",
    "Вывод: изменение интерфейса отрицательно сказалось на конверсии пользователей, конкретно - на этапе просмотра карточки товара, А/В тест признать **неудачным**."
   ]
  }
 ],
 "metadata": {
  "kernelspec": {
   "display_name": "Python 3",
   "language": "python",
   "name": "python3"
  },
  "language_info": {
   "codemirror_mode": {
    "name": "ipython",
    "version": 3
   },
   "file_extension": ".py",
   "mimetype": "text/x-python",
   "name": "python",
   "nbconvert_exporter": "python",
   "pygments_lexer": "ipython3",
   "version": "3.8.3"
  },
  "toc": {
   "base_numbering": 1,
   "nav_menu": {},
   "number_sections": true,
   "sideBar": true,
   "skip_h1_title": true,
   "title_cell": "Table of Contents",
   "title_sidebar": "Contents",
   "toc_cell": false,
   "toc_position": {},
   "toc_section_display": true,
   "toc_window_display": false
  }
 },
 "nbformat": 4,
 "nbformat_minor": 2
}
