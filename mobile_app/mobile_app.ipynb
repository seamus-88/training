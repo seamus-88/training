{
 "cells": [
  {
   "cell_type": "markdown",
   "metadata": {},
   "source": [
    "# Мобильное приложение \"Ненужные вещи\""
   ]
  },
  {
   "cell_type": "markdown",
   "metadata": {},
   "source": [
    "Задача: по поведению пользователей определить слабые места в приложении."
   ]
  },
  {
   "cell_type": "markdown",
   "metadata": {},
   "source": [
    "## Содержание\n",
    "\n",
    "- [Материалы](#шаг0.1)\n",
    "- [Предоставленные данные](#шаг0.2)\n",
    "- [Загрузка данных](#шаг0.3)\n",
    "    - [Первичный анализ](#шаг0.04)\n",
    "    - [Соответствуют ли предоставленные данные решаемой задаче?](#шаг0.05)\n",
    "- [Предобработка](#шаг2)\n",
    "    - [Соответствие типов данных](#шаг2.1)\n",
    "    - [Переименование столбцов](#шаг2.2)\n",
    "    - [Проверка на пропуски](#шаг2.3)\n",
    "    - [неверные значения](#шаг2.4)\n",
    "    - [дубликаты](#шаг2.5)\n",
    "- [Исследовательский анализ](#шаг3)\n",
    "    - [За какой период нам предоставлены данные?](#шаг3.1)\n",
    "    - [Определение средних параметров по данным](#шаг3.2)\n",
    "    - [Определение и фильтрация выбросов](#шаг3.3)\n",
    "    - [Выводы по данным](#шаг3.4)\n",
    "- [Выбор метрик](#шаг4)\n",
    "    - [Выбор способа разбиения и методов (вручную/МО).](#шаг4.1)\n",
    "    - [Создание дополнительных параметров на основе данных (для МО).](#шаг4.2)\n",
    "    - [Выбор количества групп (для МО).](#шаг4.3)\n",
    "    - [Сравнение метрик на группах](#шаг5)\n",
    "    - [Составление сводной таблицы](#шаг5.1)\n",
    "    - [Сравнительные графики](#шаг5.2)\n",
    "- [Проверка статистических гипотез](#шаг6)\n",
    "    - [Гипотеза для различных источников, из которых пользователи попали в приложение.](#шаг6.1)\n",
    "    - [Собственная гипотеза](#шаг6.2)\n",
    "    - [Выводы по гипотезам](#шаг6.3)\n",
    "- [Общие выводы](#шаг7)\n",
    "    - [Предобработка:](#шаг7.1)\n",
    "    - [Исследовательский анализ:](#шаг7.2)\n",
    "    - [Разбиение на группы](#шаг7.3)\n",
    "    - [Проверка гипотез](#шаг7.4)\n",
    "    - [Рекомендации для бизнеса](#шаг7.5)"
   ]
  },
  {
   "cell_type": "markdown",
   "metadata": {},
   "source": [
    "### Материалы<a id='шаг0.1'></a>\n",
    "**Ссылки на <a href='https://yadi.sk/i/IND21twQ3CbrzQ'>презентацию</a> и <a href='https://public.tableau.com/views/Unused_things/Final_prject_dashboard?:language=en&:display_count=y&publish=yes&:origin=viz_share_link'>дашборд</a>**"
   ]
  },
  {
   "cell_type": "markdown",
   "metadata": {},
   "source": [
    "### Предоставленные данные:<a id='шаг0.2'></a>\n",
    "\n",
    "Датасет **mobile_dataset.csv** содержит колонки:\n",
    "- `event.time` — время совершения\n",
    "- `event.name` — название события\n",
    "- `user.id` — идентификатор пользователя\n",
    "\n",
    "Датасет **mobile_sources.csv** содержит колонки:\n",
    "- `userId` — идентификатор пользователя\n",
    "- `source` — источник, с которого пользователь установил приложение\n",
    "\n",
    "Расшифровки событий:\n",
    "- `advert_open` — открытие карточки объявления\n",
    "- `photos_show` — просмотр фотографий в объявлении\n",
    "- `tips_show` — пользователь увидел рекомендованные объявления\n",
    "- `tips_click` — пользователь кликнул по рекомендованному объявлению\n",
    "- `contacts_show` и `show_contacts` — пользователь нажал на кнопку \"посмотреть номер телефона\" на карточке объявления\n",
    "- `contacts_call` — пользователь позвонил по номеру телефона на карточке объявления\n",
    "- `map` — пользователь открыл карту размещенных объявлений\n",
    "- `search_1` — `search_7` — разные события, связанные с поиском по сайту\n",
    "- `favorites_add` — добавление объявления в избранное"
   ]
  },
  {
   "cell_type": "markdown",
   "metadata": {},
   "source": [
    "### Загрузка данных<a id='шаг0.3'></a>"
   ]
  },
  {
   "cell_type": "code",
   "execution_count": 1,
   "metadata": {},
   "outputs": [],
   "source": [
    "# импорт библиотек\n",
    "import pandas as pd\n",
    "import numpy as np\n",
    "from scipy import stats as st\n",
    "import math as mth\n",
    "\n",
    "from matplotlib import pyplot as plt\n",
    "import seaborn as sns\n",
    "\n",
    "import warnings\n",
    "warnings.filterwarnings(\"ignore\")"
   ]
  },
  {
   "cell_type": "code",
   "execution_count": 2,
   "metadata": {},
   "outputs": [],
   "source": [
    "# варианты загрузки данных: локальная и через тренажер\n",
    "try:\n",
    "    data = pd.read_csv('/datasets/mobile_dataset.csv')\n",
    "    srs = pd.read_csv('/datasets/mobile_soures.csv')\n",
    "except:\n",
    "    data = pd.read_csv('datasets/mobile_dataset.csv')\n",
    "    srs = pd.read_csv('datasets/mobile_soures.csv')"
   ]
  },
  {
   "cell_type": "markdown",
   "metadata": {},
   "source": [
    "#### Первичный анализ<a id='шаг0.04'></a>"
   ]
  },
  {
   "cell_type": "markdown",
   "metadata": {},
   "source": [
    "- Лог по событиям:"
   ]
  },
  {
   "cell_type": "code",
   "execution_count": 3,
   "metadata": {},
   "outputs": [
    {
     "data": {
      "text/html": [
       "<div>\n",
       "<style scoped>\n",
       "    .dataframe tbody tr th:only-of-type {\n",
       "        vertical-align: middle;\n",
       "    }\n",
       "\n",
       "    .dataframe tbody tr th {\n",
       "        vertical-align: top;\n",
       "    }\n",
       "\n",
       "    .dataframe thead th {\n",
       "        text-align: right;\n",
       "    }\n",
       "</style>\n",
       "<table border=\"1\" class=\"dataframe\">\n",
       "  <thead>\n",
       "    <tr style=\"text-align: right;\">\n",
       "      <th></th>\n",
       "      <th>event.time</th>\n",
       "      <th>event.name</th>\n",
       "      <th>user.id</th>\n",
       "    </tr>\n",
       "  </thead>\n",
       "  <tbody>\n",
       "    <tr>\n",
       "      <th>0</th>\n",
       "      <td>2019-10-07 00:00:00.431357</td>\n",
       "      <td>advert_open</td>\n",
       "      <td>020292ab-89bc-4156-9acf-68bc2783f894</td>\n",
       "    </tr>\n",
       "    <tr>\n",
       "      <th>1</th>\n",
       "      <td>2019-10-07 00:00:01.236320</td>\n",
       "      <td>tips_show</td>\n",
       "      <td>020292ab-89bc-4156-9acf-68bc2783f894</td>\n",
       "    </tr>\n",
       "    <tr>\n",
       "      <th>2</th>\n",
       "      <td>2019-10-07 00:00:02.245341</td>\n",
       "      <td>tips_show</td>\n",
       "      <td>cf7eda61-9349-469f-ac27-e5b6f5ec475c</td>\n",
       "    </tr>\n",
       "    <tr>\n",
       "      <th>3</th>\n",
       "      <td>2019-10-07 00:00:07.039334</td>\n",
       "      <td>tips_show</td>\n",
       "      <td>020292ab-89bc-4156-9acf-68bc2783f894</td>\n",
       "    </tr>\n",
       "    <tr>\n",
       "      <th>4</th>\n",
       "      <td>2019-10-07 00:00:56.319813</td>\n",
       "      <td>advert_open</td>\n",
       "      <td>cf7eda61-9349-469f-ac27-e5b6f5ec475c</td>\n",
       "    </tr>\n",
       "  </tbody>\n",
       "</table>\n",
       "</div>"
      ],
      "text/plain": [
       "                   event.time   event.name  \\\n",
       "0  2019-10-07 00:00:00.431357  advert_open   \n",
       "1  2019-10-07 00:00:01.236320    tips_show   \n",
       "2  2019-10-07 00:00:02.245341    tips_show   \n",
       "3  2019-10-07 00:00:07.039334    tips_show   \n",
       "4  2019-10-07 00:00:56.319813  advert_open   \n",
       "\n",
       "                                user.id  \n",
       "0  020292ab-89bc-4156-9acf-68bc2783f894  \n",
       "1  020292ab-89bc-4156-9acf-68bc2783f894  \n",
       "2  cf7eda61-9349-469f-ac27-e5b6f5ec475c  \n",
       "3  020292ab-89bc-4156-9acf-68bc2783f894  \n",
       "4  cf7eda61-9349-469f-ac27-e5b6f5ec475c  "
      ]
     },
     "metadata": {},
     "output_type": "display_data"
    },
    {
     "name": "stdout",
     "output_type": "stream",
     "text": [
      "<class 'pandas.core.frame.DataFrame'>\n",
      "RangeIndex: 74197 entries, 0 to 74196\n",
      "Data columns (total 3 columns):\n",
      " #   Column      Non-Null Count  Dtype \n",
      "---  ------      --------------  ----- \n",
      " 0   event.time  74197 non-null  object\n",
      " 1   event.name  74197 non-null  object\n",
      " 2   user.id     74197 non-null  object\n",
      "dtypes: object(3)\n",
      "memory usage: 1.7+ MB\n"
     ]
    }
   ],
   "source": [
    "display(data.head())\n",
    "data.info()"
   ]
  },
  {
   "cell_type": "markdown",
   "metadata": {},
   "source": [
    "В таблице содержатся данные о событиях, совершаемых пользователями в приложении. Пропусков нет, столбец с датой требует изменения типа данных."
   ]
  },
  {
   "cell_type": "markdown",
   "metadata": {},
   "source": [
    "- Источники, по которым пользователи попали в приложение:"
   ]
  },
  {
   "cell_type": "code",
   "execution_count": 4,
   "metadata": {},
   "outputs": [
    {
     "data": {
      "text/html": [
       "<div>\n",
       "<style scoped>\n",
       "    .dataframe tbody tr th:only-of-type {\n",
       "        vertical-align: middle;\n",
       "    }\n",
       "\n",
       "    .dataframe tbody tr th {\n",
       "        vertical-align: top;\n",
       "    }\n",
       "\n",
       "    .dataframe thead th {\n",
       "        text-align: right;\n",
       "    }\n",
       "</style>\n",
       "<table border=\"1\" class=\"dataframe\">\n",
       "  <thead>\n",
       "    <tr style=\"text-align: right;\">\n",
       "      <th></th>\n",
       "      <th>userId</th>\n",
       "      <th>source</th>\n",
       "    </tr>\n",
       "  </thead>\n",
       "  <tbody>\n",
       "    <tr>\n",
       "      <th>0</th>\n",
       "      <td>020292ab-89bc-4156-9acf-68bc2783f894</td>\n",
       "      <td>other</td>\n",
       "    </tr>\n",
       "    <tr>\n",
       "      <th>1</th>\n",
       "      <td>cf7eda61-9349-469f-ac27-e5b6f5ec475c</td>\n",
       "      <td>yandex</td>\n",
       "    </tr>\n",
       "    <tr>\n",
       "      <th>2</th>\n",
       "      <td>8c356c42-3ba9-4cb6-80b8-3f868d0192c3</td>\n",
       "      <td>yandex</td>\n",
       "    </tr>\n",
       "    <tr>\n",
       "      <th>3</th>\n",
       "      <td>d9b06b47-0f36-419b-bbb0-3533e582a6cb</td>\n",
       "      <td>other</td>\n",
       "    </tr>\n",
       "    <tr>\n",
       "      <th>4</th>\n",
       "      <td>f32e1e2a-3027-4693-b793-b7b3ff274439</td>\n",
       "      <td>google</td>\n",
       "    </tr>\n",
       "  </tbody>\n",
       "</table>\n",
       "</div>"
      ],
      "text/plain": [
       "                                 userId  source\n",
       "0  020292ab-89bc-4156-9acf-68bc2783f894   other\n",
       "1  cf7eda61-9349-469f-ac27-e5b6f5ec475c  yandex\n",
       "2  8c356c42-3ba9-4cb6-80b8-3f868d0192c3  yandex\n",
       "3  d9b06b47-0f36-419b-bbb0-3533e582a6cb   other\n",
       "4  f32e1e2a-3027-4693-b793-b7b3ff274439  google"
      ]
     },
     "metadata": {},
     "output_type": "display_data"
    },
    {
     "name": "stdout",
     "output_type": "stream",
     "text": [
      "<class 'pandas.core.frame.DataFrame'>\n",
      "RangeIndex: 4293 entries, 0 to 4292\n",
      "Data columns (total 2 columns):\n",
      " #   Column  Non-Null Count  Dtype \n",
      "---  ------  --------------  ----- \n",
      " 0   userId  4293 non-null   object\n",
      " 1   source  4293 non-null   object\n",
      "dtypes: object(2)\n",
      "memory usage: 67.2+ KB\n"
     ]
    }
   ],
   "source": [
    "display(srs.head())\n",
    "srs.info()"
   ]
  },
  {
   "cell_type": "markdown",
   "metadata": {},
   "source": [
    "Во второй таблице содержится информация об источниках, из которых пользователи попали в приложение. Пропусков так же нет, нет и ошибочных типов данных."
   ]
  },
  {
   "cell_type": "markdown",
   "metadata": {},
   "source": [
    "#### Соответствуют ли предоставленные данные решаемой задаче?<a id='шаг0.05'></a>"
   ]
  },
  {
   "cell_type": "markdown",
   "metadata": {},
   "source": [
    "Да, по предоставленным данным можно проанализировать поведение пользователей."
   ]
  },
  {
   "cell_type": "markdown",
   "metadata": {},
   "source": [
    "## Шаг 1. Предобработка<a id='шаг2'></a>"
   ]
  },
  {
   "cell_type": "markdown",
   "metadata": {},
   "source": [
    "Проведу более глубокий анализ данных на предмет ошибочных значений."
   ]
  },
  {
   "cell_type": "markdown",
   "metadata": {},
   "source": [
    "#### Соответствие типов данных<a id='шаг2.1'></a>"
   ]
  },
  {
   "cell_type": "markdown",
   "metadata": {},
   "source": [
    "Исправлю тип данных даты в таблице с событиями пользователей:"
   ]
  },
  {
   "cell_type": "code",
   "execution_count": 5,
   "metadata": {},
   "outputs": [
    {
     "data": {
      "text/html": [
       "<div>\n",
       "<style scoped>\n",
       "    .dataframe tbody tr th:only-of-type {\n",
       "        vertical-align: middle;\n",
       "    }\n",
       "\n",
       "    .dataframe tbody tr th {\n",
       "        vertical-align: top;\n",
       "    }\n",
       "\n",
       "    .dataframe thead th {\n",
       "        text-align: right;\n",
       "    }\n",
       "</style>\n",
       "<table border=\"1\" class=\"dataframe\">\n",
       "  <thead>\n",
       "    <tr style=\"text-align: right;\">\n",
       "      <th></th>\n",
       "      <th>event.time</th>\n",
       "      <th>event.name</th>\n",
       "      <th>user.id</th>\n",
       "    </tr>\n",
       "  </thead>\n",
       "  <tbody>\n",
       "    <tr>\n",
       "      <th>0</th>\n",
       "      <td>2019-10-07 00:00:00.431357</td>\n",
       "      <td>advert_open</td>\n",
       "      <td>020292ab-89bc-4156-9acf-68bc2783f894</td>\n",
       "    </tr>\n",
       "    <tr>\n",
       "      <th>1</th>\n",
       "      <td>2019-10-07 00:00:01.236320</td>\n",
       "      <td>tips_show</td>\n",
       "      <td>020292ab-89bc-4156-9acf-68bc2783f894</td>\n",
       "    </tr>\n",
       "    <tr>\n",
       "      <th>2</th>\n",
       "      <td>2019-10-07 00:00:02.245341</td>\n",
       "      <td>tips_show</td>\n",
       "      <td>cf7eda61-9349-469f-ac27-e5b6f5ec475c</td>\n",
       "    </tr>\n",
       "    <tr>\n",
       "      <th>3</th>\n",
       "      <td>2019-10-07 00:00:07.039334</td>\n",
       "      <td>tips_show</td>\n",
       "      <td>020292ab-89bc-4156-9acf-68bc2783f894</td>\n",
       "    </tr>\n",
       "    <tr>\n",
       "      <th>4</th>\n",
       "      <td>2019-10-07 00:00:56.319813</td>\n",
       "      <td>advert_open</td>\n",
       "      <td>cf7eda61-9349-469f-ac27-e5b6f5ec475c</td>\n",
       "    </tr>\n",
       "  </tbody>\n",
       "</table>\n",
       "</div>"
      ],
      "text/plain": [
       "                  event.time   event.name  \\\n",
       "0 2019-10-07 00:00:00.431357  advert_open   \n",
       "1 2019-10-07 00:00:01.236320    tips_show   \n",
       "2 2019-10-07 00:00:02.245341    tips_show   \n",
       "3 2019-10-07 00:00:07.039334    tips_show   \n",
       "4 2019-10-07 00:00:56.319813  advert_open   \n",
       "\n",
       "                                user.id  \n",
       "0  020292ab-89bc-4156-9acf-68bc2783f894  \n",
       "1  020292ab-89bc-4156-9acf-68bc2783f894  \n",
       "2  cf7eda61-9349-469f-ac27-e5b6f5ec475c  \n",
       "3  020292ab-89bc-4156-9acf-68bc2783f894  \n",
       "4  cf7eda61-9349-469f-ac27-e5b6f5ec475c  "
      ]
     },
     "metadata": {},
     "output_type": "display_data"
    },
    {
     "name": "stdout",
     "output_type": "stream",
     "text": [
      "<class 'pandas.core.frame.DataFrame'>\n",
      "RangeIndex: 74197 entries, 0 to 74196\n",
      "Data columns (total 3 columns):\n",
      " #   Column      Non-Null Count  Dtype         \n",
      "---  ------      --------------  -----         \n",
      " 0   event.time  74197 non-null  datetime64[ns]\n",
      " 1   event.name  74197 non-null  object        \n",
      " 2   user.id     74197 non-null  object        \n",
      "dtypes: datetime64[ns](1), object(2)\n",
      "memory usage: 1.7+ MB\n"
     ]
    }
   ],
   "source": [
    "data['event.time'] = pd.to_datetime(data['event.time'], format='%Y-%m-%d %H:%M:%S.%f')\n",
    "display(data.head())\n",
    "data.info()"
   ]
  },
  {
   "cell_type": "markdown",
   "metadata": {},
   "source": [
    "#### Переименование столбцов<a id='шаг2.2'></a>"
   ]
  },
  {
   "cell_type": "markdown",
   "metadata": {},
   "source": [
    "Приведу названия столбцов к однообразному виду:"
   ]
  },
  {
   "cell_type": "code",
   "execution_count": 6,
   "metadata": {},
   "outputs": [
    {
     "name": "stdout",
     "output_type": "stream",
     "text": [
      "<class 'pandas.core.frame.DataFrame'>\n",
      "RangeIndex: 4293 entries, 0 to 4292\n",
      "Data columns (total 2 columns):\n",
      " #   Column       Non-Null Count  Dtype \n",
      "---  ------       --------------  ----- \n",
      " 0   user.id      4293 non-null   object\n",
      " 1   user.source  4293 non-null   object\n",
      "dtypes: object(2)\n",
      "memory usage: 67.2+ KB\n"
     ]
    }
   ],
   "source": [
    "srs = srs.rename({'userId': 'user.id', 'source': 'user.source'}, axis=1)\n",
    "srs.info()"
   ]
  },
  {
   "cell_type": "markdown",
   "metadata": {},
   "source": [
    "#### Проверка на пропуски<a id='шаг2.3'></a>"
   ]
  },
  {
   "cell_type": "markdown",
   "metadata": {},
   "source": [
    "Пропусков нет, проверил ранее."
   ]
  },
  {
   "cell_type": "markdown",
   "metadata": {},
   "source": [
    "#### Неверные значения<a id='шаг2.4'></a>"
   ]
  },
  {
   "cell_type": "markdown",
   "metadata": {},
   "source": [
    "- Таблица событий"
   ]
  },
  {
   "cell_type": "code",
   "execution_count": 7,
   "metadata": {},
   "outputs": [
    {
     "name": "stdout",
     "output_type": "stream",
     "text": [
      "<class 'pandas.core.frame.DataFrame'>\n",
      "RangeIndex: 74197 entries, 0 to 74196\n",
      "Data columns (total 3 columns):\n",
      " #   Column      Non-Null Count  Dtype         \n",
      "---  ------      --------------  -----         \n",
      " 0   event.time  74197 non-null  datetime64[ns]\n",
      " 1   event.name  74197 non-null  object        \n",
      " 2   user.id     74197 non-null  object        \n",
      "dtypes: datetime64[ns](1), object(2)\n",
      "memory usage: 1.7+ MB\n"
     ]
    }
   ],
   "source": [
    "data.info()"
   ]
  },
  {
   "cell_type": "code",
   "execution_count": 8,
   "metadata": {},
   "outputs": [
    {
     "data": {
      "text/plain": [
       "count                          74197\n",
       "unique                         74197\n",
       "top       2019-10-20 20:53:28.313292\n",
       "freq                               1\n",
       "first     2019-10-07 00:00:00.431357\n",
       "last      2019-11-03 23:58:12.532487\n",
       "Name: event.time, dtype: object"
      ]
     },
     "execution_count": 8,
     "metadata": {},
     "output_type": "execute_result"
    }
   ],
   "source": [
    "# время события\n",
    "data['event.time'].describe()"
   ]
  },
  {
   "cell_type": "markdown",
   "metadata": {},
   "source": [
    "Первое событие в базе от 7 октября, последнее - 3 ноября 2019 года, т.е. вся база охватывает промежуток чуть меньше месяца."
   ]
  },
  {
   "cell_type": "code",
   "execution_count": 9,
   "metadata": {},
   "outputs": [
    {
     "data": {
      "text/plain": [
       "tips_show        40055\n",
       "photos_show      10012\n",
       "advert_open       6164\n",
       "contacts_show     4450\n",
       "map               3881\n",
       "search_1          3506\n",
       "favorites_add     1417\n",
       "search_5          1049\n",
       "tips_click         814\n",
       "search_4           701\n",
       "contacts_call      541\n",
       "search_3           522\n",
       "search_6           460\n",
       "search_2           324\n",
       "search_7           222\n",
       "show_contacts       79\n",
       "Name: event.name, dtype: int64"
      ]
     },
     "execution_count": 9,
     "metadata": {},
     "output_type": "execute_result"
    }
   ],
   "source": [
    "# типы событий:\n",
    "data['event.name'].value_counts()"
   ]
  },
  {
   "cell_type": "markdown",
   "metadata": {},
   "source": [
    "События соответствуют представленным в задании, переименую дубликат события для показа контактов:"
   ]
  },
  {
   "cell_type": "code",
   "execution_count": 10,
   "metadata": {},
   "outputs": [
    {
     "data": {
      "text/plain": [
       "tips_show        40055\n",
       "photos_show      10012\n",
       "advert_open       6164\n",
       "contacts_show     4529\n",
       "map               3881\n",
       "search_1          3506\n",
       "favorites_add     1417\n",
       "search_5          1049\n",
       "tips_click         814\n",
       "search_4           701\n",
       "contacts_call      541\n",
       "search_3           522\n",
       "search_6           460\n",
       "search_2           324\n",
       "search_7           222\n",
       "Name: event.name, dtype: int64"
      ]
     },
     "execution_count": 10,
     "metadata": {},
     "output_type": "execute_result"
    }
   ],
   "source": [
    "data.loc[data['event.name'] == 'show_contacts', 'event.name'] = 'contacts_show'\n",
    "data['event.name'].value_counts()"
   ]
  },
  {
   "cell_type": "markdown",
   "metadata": {},
   "source": [
    "#### Дубликаты<a id='шаг2.5'></a>"
   ]
  },
  {
   "cell_type": "code",
   "execution_count": 11,
   "metadata": {},
   "outputs": [
    {
     "data": {
      "text/plain": [
       "0"
      ]
     },
     "execution_count": 11,
     "metadata": {},
     "output_type": "execute_result"
    }
   ],
   "source": [
    "data.duplicated().sum()"
   ]
  },
  {
   "cell_type": "code",
   "execution_count": 12,
   "metadata": {},
   "outputs": [
    {
     "data": {
      "text/plain": [
       "0"
      ]
     },
     "execution_count": 12,
     "metadata": {},
     "output_type": "execute_result"
    }
   ],
   "source": [
    "srs.duplicated().sum()"
   ]
  },
  {
   "cell_type": "markdown",
   "metadata": {},
   "source": [
    "Дубликаты отсутствуют."
   ]
  },
  {
   "cell_type": "markdown",
   "metadata": {},
   "source": [
    "- Таблица источников"
   ]
  },
  {
   "cell_type": "code",
   "execution_count": 13,
   "metadata": {},
   "outputs": [
    {
     "name": "stdout",
     "output_type": "stream",
     "text": [
      "<class 'pandas.core.frame.DataFrame'>\n",
      "RangeIndex: 4293 entries, 0 to 4292\n",
      "Data columns (total 2 columns):\n",
      " #   Column       Non-Null Count  Dtype \n",
      "---  ------       --------------  ----- \n",
      " 0   user.id      4293 non-null   object\n",
      " 1   user.source  4293 non-null   object\n",
      "dtypes: object(2)\n",
      "memory usage: 67.2+ KB\n"
     ]
    }
   ],
   "source": [
    "srs.info()"
   ]
  },
  {
   "cell_type": "code",
   "execution_count": 14,
   "metadata": {},
   "outputs": [
    {
     "data": {
      "text/plain": [
       "yandex    1934\n",
       "other     1230\n",
       "google    1129\n",
       "Name: user.source, dtype: int64"
      ]
     },
     "execution_count": 14,
     "metadata": {},
     "output_type": "execute_result"
    }
   ],
   "source": [
    "# типы источников\n",
    "srs['user.source'].value_counts()"
   ]
  },
  {
   "cell_type": "markdown",
   "metadata": {},
   "source": [
    "3 типа, и есть некоторый неопределенный `other`"
   ]
  },
  {
   "cell_type": "markdown",
   "metadata": {},
   "source": [
    "Проверка на наличие в таблице источников данных обо всех пользователях:\n"
   ]
  },
  {
   "cell_type": "code",
   "execution_count": 15,
   "metadata": {},
   "outputs": [
    {
     "data": {
      "text/plain": [
       "4293"
      ]
     },
     "execution_count": 15,
     "metadata": {},
     "output_type": "execute_result"
    }
   ],
   "source": [
    "# количество пользователей в таблице с событиями:\n",
    "data['user.id'].nunique()"
   ]
  },
  {
   "cell_type": "code",
   "execution_count": 16,
   "metadata": {},
   "outputs": [
    {
     "data": {
      "text/plain": [
       "4293"
      ]
     },
     "execution_count": 16,
     "metadata": {},
     "output_type": "execute_result"
    }
   ],
   "source": [
    "# количество пользователей в таблице с источниками:\n",
    "srs['user.id'].nunique()"
   ]
  },
  {
   "cell_type": "code",
   "execution_count": 17,
   "metadata": {},
   "outputs": [
    {
     "data": {
      "text/plain": [
       "[]"
      ]
     },
     "execution_count": 17,
     "metadata": {},
     "output_type": "execute_result"
    }
   ],
   "source": [
    "# количество совпадает, проверим соответствие:\n",
    "data_users = data['user.id'].unique()\n",
    "srs_users = srs['user.id'].unique()\n",
    "# добавить только тех пользователей, которых не удалось найти в таблице источников:\n",
    "[user for user in data_users if user not in srs_users]"
   ]
  },
  {
   "cell_type": "markdown",
   "metadata": {},
   "source": [
    "Данные обо всех пользователях полные."
   ]
  },
  {
   "cell_type": "markdown",
   "metadata": {},
   "source": [
    "Вывод: данные о пользователях соответвуют поставленной задаче, отсутствуют дубликаты и неверные значения. Пришлось привести дату к нужному типу (был строковый). Для удобства также были переименованы названия столбцов, дубликат события `показать контакты`."
   ]
  },
  {
   "cell_type": "markdown",
   "metadata": {},
   "source": [
    "## Шаг 2. Исследовательский анализ<a id='шаг3'></a>"
   ]
  },
  {
   "cell_type": "markdown",
   "metadata": {},
   "source": [
    "Исследую структуру предоставленных данных."
   ]
  },
  {
   "cell_type": "markdown",
   "metadata": {},
   "source": [
    "#### За какой период нам предоставлены данные?  <a id='шаг3.1'></a>"
   ]
  },
  {
   "cell_type": "code",
   "execution_count": 18,
   "metadata": {},
   "outputs": [
    {
     "name": "stdout",
     "output_type": "stream",
     "text": [
      "Данные предоставлены за период с 2019-10-07 по 2019-11-03.\n"
     ]
    }
   ],
   "source": [
    "print('Данные предоставлены за период с {} по {}.'\n",
    "      .format(data['event.time'].dt.date.min(), data['event.time'].dt.date.max()))"
   ]
  },
  {
   "cell_type": "code",
   "execution_count": 19,
   "metadata": {},
   "outputs": [],
   "source": [
    "data['event.time'] = pd.to_datetime(data['event.time'])"
   ]
  },
  {
   "cell_type": "code",
   "execution_count": 20,
   "metadata": {},
   "outputs": [
    {
     "data": {
      "text/plain": [
       "0   2019-10-07 00:00:00.431357\n",
       "1   2019-10-07 00:00:01.236320\n",
       "2   2019-10-07 00:00:02.245341\n",
       "3   2019-10-07 00:00:07.039334\n",
       "4   2019-10-07 00:00:56.319813\n",
       "Name: event.time, dtype: datetime64[ns]"
      ]
     },
     "execution_count": 20,
     "metadata": {},
     "output_type": "execute_result"
    }
   ],
   "source": [
    "data['event.time'].head()"
   ]
  },
  {
   "cell_type": "code",
   "execution_count": 21,
   "metadata": {
    "scrolled": false
   },
   "outputs": [
    {
     "data": {
      "image/png": "[encoded data removed]",
      "text/plain": [
       "<Figure size 720x288 with 1 Axes>"
      ]
     },
     "metadata": {
      "needs_background": "light"
     },
     "output_type": "display_data"
    }
   ],
   "source": [
    "# график распределения\n",
    "\n",
    "data['event.time.norm'] = data['event.time'].dt.strftime('%Y-%m-%d')\n",
    "days = data['event.time.norm'].nunique()\n",
    "fig, ax = plt.subplots(figsize=(10,4))\n",
    "sns.countplot(data['event.time.norm'], color='tab:green')\n",
    "plt.xticks(rotation=45, ha='right')\n",
    "plt.grid()\n",
    "plt.xlabel('Даты')\n",
    "plt.xticks(range(0,days,5))\n",
    "plt.ylabel('Количество событий')\n",
    "plt.show()"
   ]
  },
  {
   "cell_type": "markdown",
   "metadata": {},
   "source": [
    "Данные распределены довольно равномерно."
   ]
  },
  {
   "cell_type": "markdown",
   "metadata": {},
   "source": [
    "#### Определение средних параметров по данным  <a id='шаг3.2'></a>"
   ]
  },
  {
   "cell_type": "code",
   "execution_count": 22,
   "metadata": {},
   "outputs": [
    {
     "data": {
      "text/plain": [
       "event.name\n",
       "tips_show        14.300250\n",
       "photos_show       9.143379\n",
       "advert_open       8.207723\n",
       "contacts_show     4.616718\n",
       "search_1          4.454892\n",
       "favorites_add     4.037037\n",
       "map               2.665522\n",
       "contacts_call     2.539906\n",
       "tips_click        2.527950\n",
       "search_3          2.509615\n",
       "search_5          1.582202\n",
       "search_4          1.478903\n",
       "search_7          1.414013\n",
       "search_6          1.393939\n",
       "search_2          1.338843\n",
       "Name: event.name, dtype: float64"
      ]
     },
     "execution_count": 22,
     "metadata": {},
     "output_type": "execute_result"
    }
   ],
   "source": [
    "users_stat = data.groupby('user.id')['event.name'].value_counts(dropna=False)\n",
    "users_stat.groupby('event.name').mean().sort_values(ascending=False)"
   ]
  },
  {
   "cell_type": "markdown",
   "metadata": {},
   "source": [
    "В среднем каждый пользователь 14 раз видит рекомендованные объявления, 9 раз - фотографии в объявлении, 8 объявлений открывает. Это наиболее популярные действия для пользователей в среднем."
   ]
  },
  {
   "cell_type": "markdown",
   "metadata": {},
   "source": [
    "#### Определение и фильтрация выбросов  <a id='шаг3.3'></a>"
   ]
  },
  {
   "cell_type": "code",
   "execution_count": 23,
   "metadata": {},
   "outputs": [],
   "source": [
    "# сброс индекса\n",
    "users_stat = users_stat.rename('count').reset_index()"
   ]
  },
  {
   "cell_type": "code",
   "execution_count": 24,
   "metadata": {},
   "outputs": [],
   "source": [
    "# задание порядка - по убыванию медиан количества событий\n",
    "events_order = users_stat.groupby('event.name')['count'].median().sort_values(ascending=False).index"
   ]
  },
  {
   "cell_type": "code",
   "execution_count": 25,
   "metadata": {},
   "outputs": [
    {
     "data": {
      "image/png": "[encoded data removed]",
      "text/plain": [
       "<Figure size 1008x1008 with 2 Axes>"
      ]
     },
     "metadata": {
      "needs_background": "light"
     },
     "output_type": "display_data"
    }
   ],
   "source": [
    "fig, ax = plt.subplots(nrows=2, ncols=1, figsize=(14,14))\n",
    "ax[0].set_title('Распределение по событиям на пользователя')\n",
    "sns.boxplot(y='event.name', x='count', data=users_stat, order=events_order, ax=ax[0])\n",
    "ax[0].grid()\n",
    "sns.boxplot(y='event.name', x='count', data=users_stat, order=events_order, ax=ax[1])\n",
    "plt.xlim(-1,40)\n",
    "ax[0].set_ylabel('Тип события')\n",
    "ax[1].grid()\n",
    "plt.xlabel('Количество событий на пользователя')\n",
    "ax[1].set_ylabel('Тип события')\n",
    "plt.show()"
   ]
  },
  {
   "cell_type": "markdown",
   "metadata": {},
   "source": [
    "Есть активные пользователи, которые совершили до 350 действий. За месяц это не так много и явно меньше, чем могли бы совершить поисковые роботы или иные скрипты. Поэтому все данные оставляю."
   ]
  },
  {
   "cell_type": "markdown",
   "metadata": {},
   "source": [
    "#### Общие выводы по данным<a id='шаг3.4'></a>"
   ]
  },
  {
   "cell_type": "markdown",
   "metadata": {},
   "source": [
    "Данные предоставлены почти за месяц, с 7 октября 2019 по 3 ноября 2019 включительно. События по датам распределены достаточно равномерно, следовательно, нет проблем с потерей данных.\n",
    "Пользователей больше привлекают рекомендованные объявления (14 в среднем) и фотографии в объявлениях (9 в среднем на пользователя).  \n",
    "Карты показываются в среднем менее 3 раз на пользователя."
   ]
  },
  {
   "cell_type": "markdown",
   "metadata": {},
   "source": [
    "## Шаг 3. Выбор метрик<a id='шаг4'></a>"
   ]
  },
  {
   "cell_type": "markdown",
   "metadata": {},
   "source": [
    "#### Выбор способа разбиения и методов (вручную/МО).  <a id='шаг4.1'></a>"
   ]
  },
  {
   "cell_type": "markdown",
   "metadata": {},
   "source": [
    "Буду смотреть итоговые метрики вручную в разрезе всех действий пользователей. Чтобы не влияли выбросы, буду использовать медианные значения для разделения.\n",
    "\n",
    "### Определение метрик\n",
    "#### 1. retention rate\n",
    "На данном сокращенном наборе данных (менее месяца) полноценно посчитать `retention rate` не представляется возможным, использую упрощённую метрику - возврат пользователя через неделю."
   ]
  },
  {
   "cell_type": "code",
   "execution_count": 26,
   "metadata": {},
   "outputs": [],
   "source": [
    "def is_returned_rate(sessions_data):\n",
    "    \"\"\"\n",
    "    Функция определяет, совершал ли пользователь хотя бы одно событие через неделю после первого\n",
    "    \n",
    "    Передаваемые данные - массив из нескольких таблиц для сравнения\n",
    "    \"\"\"\n",
    "    ar = []\n",
    "    for i, d in enumerate(sessions_data):\n",
    "        # предварительная сортировка по пользователям и времени для корректного измерения времени от предыдущего события\n",
    "        d = d.sort_values(by=['user.id', 'event.time'])\n",
    "        g = d.groupby('user.id') # вспомогательная группировка\n",
    "\n",
    "        # добавляю колонку со временем первого события пользователя\n",
    "        d = d.merge(g['event.time'].min().rename('first_user_time'), left_on='user.id', right_index=True)\n",
    "\n",
    "        # колонка со временем для каждого пользователя, прошедшего со времени его первого события\n",
    "        d['user_time'] = d['event.time'] - d['first_user_time']\n",
    "\n",
    "        # минимальное время для первого события пользователя для того, чтобы можно было\n",
    "        # узнать, вернулся ли он через неделю (+1 день запаса)\n",
    "        min_first_user_time = data['event.time'].max() - pd.Timedelta('8 days')\n",
    "\n",
    "        # отсекаю пользователей, по которым невозможно сказать, пришли ли они через неделю:\n",
    "        ret_data = d[d['first_user_time'] < min_first_user_time]\n",
    "\n",
    "        # процент пользователей, посетивших приложение спустя неделю или более\n",
    "        ar.append(np.mean(ret_data.groupby(['user.id'])['user_time'].max() > '7 days'))\n",
    "    return ar"
   ]
  },
  {
   "cell_type": "markdown",
   "metadata": {},
   "source": [
    "#### 2. время, проведённое в приложении. "
   ]
  },
  {
   "cell_type": "markdown",
   "metadata": {},
   "source": [
    "Приму за сессию время = 30 минутам."
   ]
  },
  {
   "cell_type": "code",
   "execution_count": 27,
   "metadata": {},
   "outputs": [],
   "source": [
    "# НУМЕРАЦИЯ СЕССИЙ ДЛЯ ПОЛЬЗОВАТЕЛЕЙ\n",
    "data['prev_event_time'] = data.sort_values(by=['user.id','event.time']).groupby('user.id')['event.time'].shift(1)\n",
    "\n",
    "# измерение временной задержки от предыдущего действия\n",
    "data['time_lag'] = (data['event.time'] - data['prev_event_time'])\n",
    "\n",
    "g = data.groupby('user.id')\n",
    "# нумерация сессий: определение, больше ли задержка 30 минут, и если да, то прибавление 1 к номеру сессии\n",
    "data['session'] = g['time_lag'].apply(lambda x: (x > '30 minutes').cumsum())"
   ]
  },
  {
   "cell_type": "code",
   "execution_count": 28,
   "metadata": {},
   "outputs": [],
   "source": [
    "def get_user_total_time_table(sessions_data):\n",
    "    \"\"\"\n",
    "    Вспомогательная функция для определения суммарного пользовательского времени в приложении для сессий = 30 минут.\n",
    "    \"\"\"\n",
    "\n",
    "    # группировка по пользователям и по их сессиям\n",
    "    gs = sessions_data.groupby(['user.id','session'])\n",
    "    \n",
    "    # определение длины каждой сессии и суммирование для каждого пользователя\n",
    "    users_sessions_total_time = (gs['event.time'].max() - gs['event.time'].min()).sum(level='user.id')\n",
    "    return users_sessions_total_time"
   ]
  },
  {
   "cell_type": "code",
   "execution_count": 29,
   "metadata": {},
   "outputs": [],
   "source": [
    "def get_user_total_time(sessions_data):\n",
    "    \"\"\"Определение медианного времени пользователя в приложении\n",
    "    \n",
    "    Передаваемые данные - массив из нескольких таблиц для сравнения\n",
    "    \"\"\"\n",
    "    ar = []\n",
    "    for i, d in enumerate(sessions_data):\n",
    "        time_table = get_user_total_time_table(d)\n",
    "#         sns.distplot(time_table)\n",
    "#         print('Медианное время пользователей в {} группе: {:.1f}'.format(i+1, time_table.median().seconds / 60))\n",
    "#     plt.show()\n",
    "        ar.append(time_table.median().seconds / 60)\n",
    "    return ar"
   ]
  },
  {
   "cell_type": "markdown",
   "metadata": {},
   "source": [
    "#### 3. частота действий"
   ]
  },
  {
   "cell_type": "code",
   "execution_count": 30,
   "metadata": {},
   "outputs": [],
   "source": [
    "def get_freq(sessions_data):\n",
    "    \"\"\"Определение медианной частоты действий пользователя в приложении\n",
    "    \n",
    "    Передаваемые данные - массив из нескольких таблиц для сравнения\n",
    "    \"\"\"\n",
    "    ar = []\n",
    "    for i, d in enumerate(sessions_data):\n",
    "        time_table = get_user_total_time_table(d)\n",
    "\n",
    "        users_sessions_freq = time_table.to_frame('events.time')\n",
    "        users_sessions_freq['user.events'] = data.groupby('user.id')['event.name'].count()\n",
    "        users_sessions_freq['frequency'] = users_sessions_freq['events.time'] / users_sessions_freq['user.events']\n",
    "#         sns.distplot(users_sessions_freq['frequency'])\n",
    "#         print('Для {} набора данных медианная частота действий пользователей: {:.1f} минут'\n",
    "#           .format(i+1, users_sessions_freq['frequency'].median().seconds / 60))\n",
    "        ar.append(3600 / users_sessions_freq['frequency'].median().seconds)\n",
    "#     plt.show()\n",
    "    return ar"
   ]
  },
  {
   "cell_type": "code",
   "execution_count": 31,
   "metadata": {},
   "outputs": [],
   "source": [
    "def count_successes_trials(target_data):\n",
    "    # дополнительный столбец с проверкой на целевое действие\n",
    "    target_data['is_target'] = target_data['event.name'] == 'contacts_show'\n",
    "    # если у пользователя есть хотя бы одно целевое действие - он идёт в зачёт, а потом считается среднее\n",
    "#         print('Для {} набора данных конверсия в просмотр контактов: {:.2%}'.format(i+1, d.groupby('user.id')['is_target'].any().mean()))\n",
    "    users_sessions = target_data.groupby(['user.id','session'])['is_target'].count()\n",
    "#         количество целевых событий пользователя (не более одного за сессию):\n",
    "    users_targets = target_data.groupby(['user.id','session'])['is_target'].any()\n",
    "    return (users_targets, users_sessions)"
   ]
  },
  {
   "cell_type": "code",
   "execution_count": 32,
   "metadata": {},
   "outputs": [],
   "source": [
    "# 4. конверсия в целевое действие — просмотр контактов.\n",
    "def target_conversion(target_data):\n",
    "    \"\"\"Определение итоговой конверсии в целевое действие \"просмотр контактов\"\n",
    "    \n",
    "    Передаваемые данные - массив из нескольких таблиц для сравнения\n",
    "    \"\"\"\n",
    "    ar = []\n",
    "    for i, d in enumerate(target_data):\n",
    "        (users_targets, users_sessions) = count_successes_trials(d)\n",
    "        target_conv_stat = users_targets / users_sessions\n",
    "#         итоговая метрика как усреднение данных сначала по пользователям, а потом и в целом\n",
    "        target_conv = target_conv_stat.groupby('user.id').mean().mean()\n",
    "        ar.append(target_conv)\n",
    "    return ar"
   ]
  },
  {
   "cell_type": "markdown",
   "metadata": {},
   "source": [
    "### Сравнение метрик на группах<a id='шаг5'></a>"
   ]
  },
  {
   "cell_type": "markdown",
   "metadata": {},
   "source": [
    "#### Разбиваю пользователей вручную по каждому событию (много/мало) относительно медианы, т.к. есть много очень больших \"хвостов\" измеряемых величин:"
   ]
  },
  {
   "cell_type": "code",
   "execution_count": 33,
   "metadata": {},
   "outputs": [
    {
     "data": {
      "text/html": [
       "<div>\n",
       "<style scoped>\n",
       "    .dataframe tbody tr th:only-of-type {\n",
       "        vertical-align: middle;\n",
       "    }\n",
       "\n",
       "    .dataframe tbody tr th {\n",
       "        vertical-align: top;\n",
       "    }\n",
       "\n",
       "    .dataframe thead th {\n",
       "        text-align: right;\n",
       "    }\n",
       "</style>\n",
       "<table border=\"1\" class=\"dataframe\">\n",
       "  <thead>\n",
       "    <tr style=\"text-align: right;\">\n",
       "      <th></th>\n",
       "      <th>user.id</th>\n",
       "      <th>event.name</th>\n",
       "      <th>count</th>\n",
       "    </tr>\n",
       "  </thead>\n",
       "  <tbody>\n",
       "    <tr>\n",
       "      <th>0</th>\n",
       "      <td>0001b1d5-b74a-4cbf-aeb0-7df5947bf349</td>\n",
       "      <td>map</td>\n",
       "      <td>6</td>\n",
       "    </tr>\n",
       "    <tr>\n",
       "      <th>1</th>\n",
       "      <td>0001b1d5-b74a-4cbf-aeb0-7df5947bf349</td>\n",
       "      <td>tips_show</td>\n",
       "      <td>29</td>\n",
       "    </tr>\n",
       "    <tr>\n",
       "      <th>2</th>\n",
       "      <td>00157779-810c-4498-9e05-a1e9e3cedf93</td>\n",
       "      <td>advert_open</td>\n",
       "      <td>2</td>\n",
       "    </tr>\n",
       "    <tr>\n",
       "      <th>3</th>\n",
       "      <td>00157779-810c-4498-9e05-a1e9e3cedf93</td>\n",
       "      <td>contacts_call</td>\n",
       "      <td>5</td>\n",
       "    </tr>\n",
       "    <tr>\n",
       "      <th>4</th>\n",
       "      <td>00157779-810c-4498-9e05-a1e9e3cedf93</td>\n",
       "      <td>contacts_show</td>\n",
       "      <td>11</td>\n",
       "    </tr>\n",
       "  </tbody>\n",
       "</table>\n",
       "</div>"
      ],
      "text/plain": [
       "                                user.id     event.name  count\n",
       "0  0001b1d5-b74a-4cbf-aeb0-7df5947bf349            map      6\n",
       "1  0001b1d5-b74a-4cbf-aeb0-7df5947bf349      tips_show     29\n",
       "2  00157779-810c-4498-9e05-a1e9e3cedf93    advert_open      2\n",
       "3  00157779-810c-4498-9e05-a1e9e3cedf93  contacts_call      5\n",
       "4  00157779-810c-4498-9e05-a1e9e3cedf93  contacts_show     11"
      ]
     },
     "execution_count": 33,
     "metadata": {},
     "output_type": "execute_result"
    }
   ],
   "source": [
    "events_data = data.groupby(['user.id','event.name'])['event.name'].count().rename('count').reset_index()\n",
    "events_data.head()"
   ]
  },
  {
   "cell_type": "code",
   "execution_count": 34,
   "metadata": {},
   "outputs": [
    {
     "data": {
      "text/plain": [
       "{'advert_open': 4,\n",
       " 'contacts_call': 2,\n",
       " 'contacts_show': 2,\n",
       " 'favorites_add': 2,\n",
       " 'map': 1,\n",
       " 'photos_show': 5,\n",
       " 'search_1': 3,\n",
       " 'search_2': 1,\n",
       " 'search_3': 2,\n",
       " 'search_4': 1,\n",
       " 'search_5': 1,\n",
       " 'search_6': 1,\n",
       " 'search_7': 1,\n",
       " 'tips_click': 1,\n",
       " 'tips_show': 8}"
      ]
     },
     "execution_count": 34,
     "metadata": {},
     "output_type": "execute_result"
    }
   ],
   "source": [
    "events_dict = events_data.groupby('event.name')['count'].median().to_dict()\n",
    "events_dict"
   ]
  },
  {
   "cell_type": "markdown",
   "metadata": {},
   "source": [
    "#### Составление сводной таблицы  <a id='шаг5.1'></a>"
   ]
  },
  {
   "cell_type": "code",
   "execution_count": 35,
   "metadata": {
    "scrolled": false
   },
   "outputs": [
    {
     "name": "stdout",
     "output_type": "stream",
     "text": [
      "Подсчет статистики для advert_open...\n",
      "Подсчет статистики для favorites_add...\n",
      "Подсчет статистики для map...\n",
      "Подсчет статистики для photos_show...\n",
      "Подсчет статистики для search_1...\n",
      "Подсчет статистики для search_2...\n",
      "Подсчет статистики для search_3...\n",
      "Подсчет статистики для search_4...\n",
      "Подсчет статистики для search_5...\n",
      "Подсчет статистики для search_6...\n",
      "Подсчет статистики для search_7...\n",
      "Подсчет статистики для tips_click...\n",
      "Подсчет статистики для tips_show...\n"
     ]
    },
    {
     "data": {
      "text/html": [
       "<div>\n",
       "<style scoped>\n",
       "    .dataframe tbody tr th:only-of-type {\n",
       "        vertical-align: middle;\n",
       "    }\n",
       "\n",
       "    .dataframe tbody tr th {\n",
       "        vertical-align: top;\n",
       "    }\n",
       "\n",
       "    .dataframe thead th {\n",
       "        text-align: right;\n",
       "    }\n",
       "</style>\n",
       "<table border=\"1\" class=\"dataframe\">\n",
       "  <thead>\n",
       "    <tr style=\"text-align: right;\">\n",
       "      <th></th>\n",
       "      <th>events</th>\n",
       "      <th>sets</th>\n",
       "      <th>returned_rate</th>\n",
       "      <th>total_time_median</th>\n",
       "      <th>frequency_median</th>\n",
       "      <th>target_conversion</th>\n",
       "    </tr>\n",
       "  </thead>\n",
       "  <tbody>\n",
       "    <tr>\n",
       "      <th>0</th>\n",
       "      <td>advert_open</td>\n",
       "      <td>low</td>\n",
       "      <td>0.188679</td>\n",
       "      <td>12.483333</td>\n",
       "      <td>48.648649</td>\n",
       "      <td>0.014282</td>\n",
       "    </tr>\n",
       "    <tr>\n",
       "      <th>1</th>\n",
       "      <td>advert_open</td>\n",
       "      <td>high</td>\n",
       "      <td>0.192636</td>\n",
       "      <td>15.400000</td>\n",
       "      <td>41.379310</td>\n",
       "      <td>0.036399</td>\n",
       "    </tr>\n",
       "    <tr>\n",
       "      <th>2</th>\n",
       "      <td>favorites_add</td>\n",
       "      <td>low</td>\n",
       "      <td>0.345455</td>\n",
       "      <td>21.700000</td>\n",
       "      <td>37.894737</td>\n",
       "      <td>0.052492</td>\n",
       "    </tr>\n",
       "    <tr>\n",
       "      <th>3</th>\n",
       "      <td>favorites_add</td>\n",
       "      <td>high</td>\n",
       "      <td>0.184057</td>\n",
       "      <td>14.800000</td>\n",
       "      <td>42.352941</td>\n",
       "      <td>0.033357</td>\n",
       "    </tr>\n",
       "    <tr>\n",
       "      <th>4</th>\n",
       "      <td>map</td>\n",
       "      <td>low</td>\n",
       "      <td>0.135823</td>\n",
       "      <td>13.950000</td>\n",
       "      <td>45.569620</td>\n",
       "      <td>0.017512</td>\n",
       "    </tr>\n",
       "    <tr>\n",
       "      <th>5</th>\n",
       "      <td>map</td>\n",
       "      <td>high</td>\n",
       "      <td>0.204733</td>\n",
       "      <td>15.366667</td>\n",
       "      <td>41.379310</td>\n",
       "      <td>0.037805</td>\n",
       "    </tr>\n",
       "    <tr>\n",
       "      <th>6</th>\n",
       "      <td>photos_show</td>\n",
       "      <td>low</td>\n",
       "      <td>0.162896</td>\n",
       "      <td>8.900000</td>\n",
       "      <td>42.857143</td>\n",
       "      <td>0.065556</td>\n",
       "    </tr>\n",
       "    <tr>\n",
       "      <th>7</th>\n",
       "      <td>photos_show</td>\n",
       "      <td>high</td>\n",
       "      <td>0.196867</td>\n",
       "      <td>16.366667</td>\n",
       "      <td>41.860465</td>\n",
       "      <td>0.029248</td>\n",
       "    </tr>\n",
       "    <tr>\n",
       "      <th>8</th>\n",
       "      <td>search_1</td>\n",
       "      <td>low</td>\n",
       "      <td>0.171429</td>\n",
       "      <td>12.916667</td>\n",
       "      <td>38.297872</td>\n",
       "      <td>0.055831</td>\n",
       "    </tr>\n",
       "    <tr>\n",
       "      <th>9</th>\n",
       "      <td>search_1</td>\n",
       "      <td>high</td>\n",
       "      <td>0.194760</td>\n",
       "      <td>15.366667</td>\n",
       "      <td>42.352941</td>\n",
       "      <td>0.031763</td>\n",
       "    </tr>\n",
       "    <tr>\n",
       "      <th>10</th>\n",
       "      <td>search_2</td>\n",
       "      <td>low</td>\n",
       "      <td>0.238710</td>\n",
       "      <td>16.550000</td>\n",
       "      <td>58.064516</td>\n",
       "      <td>0.015369</td>\n",
       "    </tr>\n",
       "    <tr>\n",
       "      <th>11</th>\n",
       "      <td>search_2</td>\n",
       "      <td>high</td>\n",
       "      <td>0.189922</td>\n",
       "      <td>15.000000</td>\n",
       "      <td>41.379310</td>\n",
       "      <td>0.035193</td>\n",
       "    </tr>\n",
       "    <tr>\n",
       "      <th>12</th>\n",
       "      <td>search_3</td>\n",
       "      <td>low</td>\n",
       "      <td>0.254717</td>\n",
       "      <td>21.850000</td>\n",
       "      <td>56.250000</td>\n",
       "      <td>0.006237</td>\n",
       "    </tr>\n",
       "    <tr>\n",
       "      <th>13</th>\n",
       "      <td>search_3</td>\n",
       "      <td>high</td>\n",
       "      <td>0.190143</td>\n",
       "      <td>14.966667</td>\n",
       "      <td>41.379310</td>\n",
       "      <td>0.035285</td>\n",
       "    </tr>\n",
       "    <tr>\n",
       "      <th>14</th>\n",
       "      <td>search_4</td>\n",
       "      <td>low</td>\n",
       "      <td>0.188153</td>\n",
       "      <td>15.233333</td>\n",
       "      <td>51.428571</td>\n",
       "      <td>0.011547</td>\n",
       "    </tr>\n",
       "    <tr>\n",
       "      <th>15</th>\n",
       "      <td>search_4</td>\n",
       "      <td>high</td>\n",
       "      <td>0.192645</td>\n",
       "      <td>15.000000</td>\n",
       "      <td>41.379310</td>\n",
       "      <td>0.036475</td>\n",
       "    </tr>\n",
       "    <tr>\n",
       "      <th>16</th>\n",
       "      <td>search_5</td>\n",
       "      <td>low</td>\n",
       "      <td>0.172702</td>\n",
       "      <td>13.200000</td>\n",
       "      <td>53.731343</td>\n",
       "      <td>0.013567</td>\n",
       "    </tr>\n",
       "    <tr>\n",
       "      <th>17</th>\n",
       "      <td>search_5</td>\n",
       "      <td>high</td>\n",
       "      <td>0.194675</td>\n",
       "      <td>15.383333</td>\n",
       "      <td>41.379310</td>\n",
       "      <td>0.036919</td>\n",
       "    </tr>\n",
       "    <tr>\n",
       "      <th>18</th>\n",
       "      <td>search_6</td>\n",
       "      <td>low</td>\n",
       "      <td>0.195980</td>\n",
       "      <td>12.566667</td>\n",
       "      <td>55.384615</td>\n",
       "      <td>0.008316</td>\n",
       "    </tr>\n",
       "    <tr>\n",
       "      <th>19</th>\n",
       "      <td>search_6</td>\n",
       "      <td>high</td>\n",
       "      <td>0.192005</td>\n",
       "      <td>15.266667</td>\n",
       "      <td>41.379310</td>\n",
       "      <td>0.035986</td>\n",
       "    </tr>\n",
       "    <tr>\n",
       "      <th>20</th>\n",
       "      <td>search_7</td>\n",
       "      <td>low</td>\n",
       "      <td>0.233333</td>\n",
       "      <td>14.216667</td>\n",
       "      <td>54.545455</td>\n",
       "      <td>0.024827</td>\n",
       "    </tr>\n",
       "    <tr>\n",
       "      <th>21</th>\n",
       "      <td>search_7</td>\n",
       "      <td>high</td>\n",
       "      <td>0.191079</td>\n",
       "      <td>15.116667</td>\n",
       "      <td>41.860465</td>\n",
       "      <td>0.034588</td>\n",
       "    </tr>\n",
       "    <tr>\n",
       "      <th>22</th>\n",
       "      <td>tips_click</td>\n",
       "      <td>low</td>\n",
       "      <td>0.295082</td>\n",
       "      <td>27.500000</td>\n",
       "      <td>36.000000</td>\n",
       "      <td>0.018171</td>\n",
       "    </tr>\n",
       "    <tr>\n",
       "      <th>23</th>\n",
       "      <td>tips_click</td>\n",
       "      <td>high</td>\n",
       "      <td>0.188239</td>\n",
       "      <td>14.550000</td>\n",
       "      <td>42.352941</td>\n",
       "      <td>0.034934</td>\n",
       "    </tr>\n",
       "    <tr>\n",
       "      <th>24</th>\n",
       "      <td>tips_show</td>\n",
       "      <td>low</td>\n",
       "      <td>0.084532</td>\n",
       "      <td>8.466667</td>\n",
       "      <td>47.368421</td>\n",
       "      <td>0.022888</td>\n",
       "    </tr>\n",
       "    <tr>\n",
       "      <th>25</th>\n",
       "      <td>tips_show</td>\n",
       "      <td>high</td>\n",
       "      <td>0.248247</td>\n",
       "      <td>22.500000</td>\n",
       "      <td>40.000000</td>\n",
       "      <td>0.040622</td>\n",
       "    </tr>\n",
       "  </tbody>\n",
       "</table>\n",
       "</div>"
      ],
      "text/plain": [
       "           events  sets  returned_rate  total_time_median  frequency_median  \\\n",
       "0     advert_open   low       0.188679          12.483333         48.648649   \n",
       "1     advert_open  high       0.192636          15.400000         41.379310   \n",
       "2   favorites_add   low       0.345455          21.700000         37.894737   \n",
       "3   favorites_add  high       0.184057          14.800000         42.352941   \n",
       "4             map   low       0.135823          13.950000         45.569620   \n",
       "5             map  high       0.204733          15.366667         41.379310   \n",
       "6     photos_show   low       0.162896           8.900000         42.857143   \n",
       "7     photos_show  high       0.196867          16.366667         41.860465   \n",
       "8        search_1   low       0.171429          12.916667         38.297872   \n",
       "9        search_1  high       0.194760          15.366667         42.352941   \n",
       "10       search_2   low       0.238710          16.550000         58.064516   \n",
       "11       search_2  high       0.189922          15.000000         41.379310   \n",
       "12       search_3   low       0.254717          21.850000         56.250000   \n",
       "13       search_3  high       0.190143          14.966667         41.379310   \n",
       "14       search_4   low       0.188153          15.233333         51.428571   \n",
       "15       search_4  high       0.192645          15.000000         41.379310   \n",
       "16       search_5   low       0.172702          13.200000         53.731343   \n",
       "17       search_5  high       0.194675          15.383333         41.379310   \n",
       "18       search_6   low       0.195980          12.566667         55.384615   \n",
       "19       search_6  high       0.192005          15.266667         41.379310   \n",
       "20       search_7   low       0.233333          14.216667         54.545455   \n",
       "21       search_7  high       0.191079          15.116667         41.860465   \n",
       "22     tips_click   low       0.295082          27.500000         36.000000   \n",
       "23     tips_click  high       0.188239          14.550000         42.352941   \n",
       "24      tips_show   low       0.084532           8.466667         47.368421   \n",
       "25      tips_show  high       0.248247          22.500000         40.000000   \n",
       "\n",
       "    target_conversion  \n",
       "0            0.014282  \n",
       "1            0.036399  \n",
       "2            0.052492  \n",
       "3            0.033357  \n",
       "4            0.017512  \n",
       "5            0.037805  \n",
       "6            0.065556  \n",
       "7            0.029248  \n",
       "8            0.055831  \n",
       "9            0.031763  \n",
       "10           0.015369  \n",
       "11           0.035193  \n",
       "12           0.006237  \n",
       "13           0.035285  \n",
       "14           0.011547  \n",
       "15           0.036475  \n",
       "16           0.013567  \n",
       "17           0.036919  \n",
       "18           0.008316  \n",
       "19           0.035986  \n",
       "20           0.024827  \n",
       "21           0.034588  \n",
       "22           0.018171  \n",
       "23           0.034934  \n",
       "24           0.022888  \n",
       "25           0.040622  "
      ]
     },
     "execution_count": 35,
     "metadata": {},
     "output_type": "execute_result"
    }
   ],
   "source": [
    "ev_list = events_dict\n",
    "# удаление целевых событий из признаков для сравнения\n",
    "ev_list.pop('contacts_show', None)\n",
    "ev_list.pop('contacts_call', None)\n",
    "\n",
    "pivot = pd.DataFrame(columns=[\n",
    "    'events',\n",
    "    'sets',\n",
    "    'returned_rate',\n",
    "    'total_time_median',\n",
    "    'frequency_median',\n",
    "    'target_conversion'\n",
    "])\n",
    "\n",
    "for i, ev in enumerate(ev_list):\n",
    "#     делю исходные данные на 2 части - пользователи, которые\n",
    "#     совершали медианное количество действий данного типа или меньше, и - больше\n",
    "    print('Подсчет статистики для ' + ev + '...')\n",
    "#     список пользователей, совершивших событий меньше или равно медианному:\n",
    "    users_list_low = events_data[(events_data['event.name'] == ev)&\n",
    "                                 (events_data['count'] <= events_dict[ev])]['user.id'].unique()\n",
    "    data_low = data[data['user.id'].isin(users_list_low)]\n",
    "    data_high = data[~data['user.id'].isin(users_list_low)]\n",
    "#     подсчет значений метрик через соответствующие функции\n",
    "    irr = is_returned_rate([data_low, data_high])\n",
    "    utt = get_user_total_time([data_low, data_high])\n",
    "    fr = get_freq([data_low, data_high])\n",
    "    tc = target_conversion([data_low, data_high])\n",
    "    \n",
    "#     сводная таблица - для каждого типа событий создается 2 строки:\n",
    "#     для пользователей, часто совершавших действие (больше медианного) и меньше\n",
    "#     вначале тип метрики и группа (редко/часто), потом значения метрик\n",
    "    pivot.loc[i*2] =   [ev,'low',irr[0],utt[0],fr[0],tc[0]] # четные строки - пользователи, редко совершавшие данные события\n",
    "    pivot.loc[i*2+1] = [ev,'high',irr[1],utt[1],fr[1],tc[1]] # нечетные - часто\n",
    "pivot"
   ]
  },
  {
   "cell_type": "code",
   "execution_count": 36,
   "metadata": {},
   "outputs": [
    {
     "data": {
      "text/html": [
       "<div>\n",
       "<style scoped>\n",
       "    .dataframe tbody tr th:only-of-type {\n",
       "        vertical-align: middle;\n",
       "    }\n",
       "\n",
       "    .dataframe tbody tr th {\n",
       "        vertical-align: top;\n",
       "    }\n",
       "\n",
       "    .dataframe thead th {\n",
       "        text-align: right;\n",
       "    }\n",
       "</style>\n",
       "<table border=\"1\" class=\"dataframe\">\n",
       "  <thead>\n",
       "    <tr style=\"text-align: right;\">\n",
       "      <th></th>\n",
       "      <th>events</th>\n",
       "      <th>sets</th>\n",
       "      <th>metrics</th>\n",
       "      <th>value</th>\n",
       "    </tr>\n",
       "  </thead>\n",
       "  <tbody>\n",
       "    <tr>\n",
       "      <th>0</th>\n",
       "      <td>advert_open</td>\n",
       "      <td>low</td>\n",
       "      <td>returned_rate</td>\n",
       "      <td>0.188679</td>\n",
       "    </tr>\n",
       "    <tr>\n",
       "      <th>1</th>\n",
       "      <td>advert_open</td>\n",
       "      <td>low</td>\n",
       "      <td>total_time_median</td>\n",
       "      <td>12.483333</td>\n",
       "    </tr>\n",
       "    <tr>\n",
       "      <th>2</th>\n",
       "      <td>advert_open</td>\n",
       "      <td>low</td>\n",
       "      <td>frequency_median</td>\n",
       "      <td>48.648649</td>\n",
       "    </tr>\n",
       "    <tr>\n",
       "      <th>3</th>\n",
       "      <td>advert_open</td>\n",
       "      <td>low</td>\n",
       "      <td>target_conversion</td>\n",
       "      <td>0.014282</td>\n",
       "    </tr>\n",
       "    <tr>\n",
       "      <th>4</th>\n",
       "      <td>advert_open</td>\n",
       "      <td>high</td>\n",
       "      <td>returned_rate</td>\n",
       "      <td>0.192636</td>\n",
       "    </tr>\n",
       "  </tbody>\n",
       "</table>\n",
       "</div>"
      ],
      "text/plain": [
       "        events  sets            metrics      value\n",
       "0  advert_open   low      returned_rate   0.188679\n",
       "1  advert_open   low  total_time_median  12.483333\n",
       "2  advert_open   low   frequency_median  48.648649\n",
       "3  advert_open   low  target_conversion   0.014282\n",
       "4  advert_open  high      returned_rate   0.192636"
      ]
     },
     "execution_count": 36,
     "metadata": {},
     "output_type": "execute_result"
    }
   ],
   "source": [
    "# приведение к вертикальному виду\n",
    "pivot = pivot.set_index(['events', 'sets']).stack().reset_index().rename({'level_2':'metrics',0:'value'},axis=1)\n",
    "pivot.head()"
   ]
  },
  {
   "cell_type": "markdown",
   "metadata": {},
   "source": [
    "#### Сравнительные графики  <a id='шаг5.2'></a>"
   ]
  },
  {
   "cell_type": "code",
   "execution_count": 37,
   "metadata": {
    "scrolled": false
   },
   "outputs": [
    {
     "name": "stdout",
     "output_type": "stream",
     "text": [
      "returned_rate\n"
     ]
    },
    {
     "data": {
      "text/html": [
       "<div>\n",
       "<style scoped>\n",
       "    .dataframe tbody tr th:only-of-type {\n",
       "        vertical-align: middle;\n",
       "    }\n",
       "\n",
       "    .dataframe tbody tr th {\n",
       "        vertical-align: top;\n",
       "    }\n",
       "\n",
       "    .dataframe thead th {\n",
       "        text-align: right;\n",
       "    }\n",
       "</style>\n",
       "<table border=\"1\" class=\"dataframe\">\n",
       "  <thead>\n",
       "    <tr style=\"text-align: right;\">\n",
       "      <th>sets</th>\n",
       "      <th>high</th>\n",
       "      <th>low</th>\n",
       "    </tr>\n",
       "    <tr>\n",
       "      <th>events</th>\n",
       "      <th></th>\n",
       "      <th></th>\n",
       "    </tr>\n",
       "  </thead>\n",
       "  <tbody>\n",
       "    <tr>\n",
       "      <th>favorites_add</th>\n",
       "      <td>0.184057</td>\n",
       "      <td>0.345455</td>\n",
       "    </tr>\n",
       "    <tr>\n",
       "      <th>tips_click</th>\n",
       "      <td>0.188239</td>\n",
       "      <td>0.295082</td>\n",
       "    </tr>\n",
       "    <tr>\n",
       "      <th>search_3</th>\n",
       "      <td>0.190143</td>\n",
       "      <td>0.254717</td>\n",
       "    </tr>\n",
       "    <tr>\n",
       "      <th>search_2</th>\n",
       "      <td>0.189922</td>\n",
       "      <td>0.238710</td>\n",
       "    </tr>\n",
       "    <tr>\n",
       "      <th>search_7</th>\n",
       "      <td>0.191079</td>\n",
       "      <td>0.233333</td>\n",
       "    </tr>\n",
       "    <tr>\n",
       "      <th>search_6</th>\n",
       "      <td>0.192005</td>\n",
       "      <td>0.195980</td>\n",
       "    </tr>\n",
       "    <tr>\n",
       "      <th>advert_open</th>\n",
       "      <td>0.192636</td>\n",
       "      <td>0.188679</td>\n",
       "    </tr>\n",
       "    <tr>\n",
       "      <th>search_4</th>\n",
       "      <td>0.192645</td>\n",
       "      <td>0.188153</td>\n",
       "    </tr>\n",
       "    <tr>\n",
       "      <th>search_5</th>\n",
       "      <td>0.194675</td>\n",
       "      <td>0.172702</td>\n",
       "    </tr>\n",
       "    <tr>\n",
       "      <th>search_1</th>\n",
       "      <td>0.194760</td>\n",
       "      <td>0.171429</td>\n",
       "    </tr>\n",
       "    <tr>\n",
       "      <th>photos_show</th>\n",
       "      <td>0.196867</td>\n",
       "      <td>0.162896</td>\n",
       "    </tr>\n",
       "    <tr>\n",
       "      <th>map</th>\n",
       "      <td>0.204733</td>\n",
       "      <td>0.135823</td>\n",
       "    </tr>\n",
       "    <tr>\n",
       "      <th>tips_show</th>\n",
       "      <td>0.248247</td>\n",
       "      <td>0.084532</td>\n",
       "    </tr>\n",
       "  </tbody>\n",
       "</table>\n",
       "</div>"
      ],
      "text/plain": [
       "sets               high       low\n",
       "events                           \n",
       "favorites_add  0.184057  0.345455\n",
       "tips_click     0.188239  0.295082\n",
       "search_3       0.190143  0.254717\n",
       "search_2       0.189922  0.238710\n",
       "search_7       0.191079  0.233333\n",
       "search_6       0.192005  0.195980\n",
       "advert_open    0.192636  0.188679\n",
       "search_4       0.192645  0.188153\n",
       "search_5       0.194675  0.172702\n",
       "search_1       0.194760  0.171429\n",
       "photos_show    0.196867  0.162896\n",
       "map            0.204733  0.135823\n",
       "tips_show      0.248247  0.084532"
      ]
     },
     "metadata": {},
     "output_type": "display_data"
    },
    {
     "data": {
      "image/png": "[encoded data removed]",
      "text/plain": [
       "<Figure size 864x432 with 1 Axes>"
      ]
     },
     "metadata": {
      "needs_background": "light"
     },
     "output_type": "display_data"
    },
    {
     "name": "stdout",
     "output_type": "stream",
     "text": [
      "total_time_median\n"
     ]
    },
    {
     "data": {
      "text/html": [
       "<div>\n",
       "<style scoped>\n",
       "    .dataframe tbody tr th:only-of-type {\n",
       "        vertical-align: middle;\n",
       "    }\n",
       "\n",
       "    .dataframe tbody tr th {\n",
       "        vertical-align: top;\n",
       "    }\n",
       "\n",
       "    .dataframe thead th {\n",
       "        text-align: right;\n",
       "    }\n",
       "</style>\n",
       "<table border=\"1\" class=\"dataframe\">\n",
       "  <thead>\n",
       "    <tr style=\"text-align: right;\">\n",
       "      <th>sets</th>\n",
       "      <th>high</th>\n",
       "      <th>low</th>\n",
       "    </tr>\n",
       "    <tr>\n",
       "      <th>events</th>\n",
       "      <th></th>\n",
       "      <th></th>\n",
       "    </tr>\n",
       "  </thead>\n",
       "  <tbody>\n",
       "    <tr>\n",
       "      <th>tips_click</th>\n",
       "      <td>14.550000</td>\n",
       "      <td>27.500000</td>\n",
       "    </tr>\n",
       "    <tr>\n",
       "      <th>favorites_add</th>\n",
       "      <td>14.800000</td>\n",
       "      <td>21.700000</td>\n",
       "    </tr>\n",
       "    <tr>\n",
       "      <th>search_3</th>\n",
       "      <td>14.966667</td>\n",
       "      <td>21.850000</td>\n",
       "    </tr>\n",
       "    <tr>\n",
       "      <th>search_2</th>\n",
       "      <td>15.000000</td>\n",
       "      <td>16.550000</td>\n",
       "    </tr>\n",
       "    <tr>\n",
       "      <th>search_4</th>\n",
       "      <td>15.000000</td>\n",
       "      <td>15.233333</td>\n",
       "    </tr>\n",
       "    <tr>\n",
       "      <th>search_7</th>\n",
       "      <td>15.116667</td>\n",
       "      <td>14.216667</td>\n",
       "    </tr>\n",
       "    <tr>\n",
       "      <th>map</th>\n",
       "      <td>15.366667</td>\n",
       "      <td>13.950000</td>\n",
       "    </tr>\n",
       "    <tr>\n",
       "      <th>search_5</th>\n",
       "      <td>15.383333</td>\n",
       "      <td>13.200000</td>\n",
       "    </tr>\n",
       "    <tr>\n",
       "      <th>search_1</th>\n",
       "      <td>15.366667</td>\n",
       "      <td>12.916667</td>\n",
       "    </tr>\n",
       "    <tr>\n",
       "      <th>search_6</th>\n",
       "      <td>15.266667</td>\n",
       "      <td>12.566667</td>\n",
       "    </tr>\n",
       "    <tr>\n",
       "      <th>advert_open</th>\n",
       "      <td>15.400000</td>\n",
       "      <td>12.483333</td>\n",
       "    </tr>\n",
       "    <tr>\n",
       "      <th>photos_show</th>\n",
       "      <td>16.366667</td>\n",
       "      <td>8.900000</td>\n",
       "    </tr>\n",
       "    <tr>\n",
       "      <th>tips_show</th>\n",
       "      <td>22.500000</td>\n",
       "      <td>8.466667</td>\n",
       "    </tr>\n",
       "  </tbody>\n",
       "</table>\n",
       "</div>"
      ],
      "text/plain": [
       "sets                high        low\n",
       "events                             \n",
       "tips_click     14.550000  27.500000\n",
       "favorites_add  14.800000  21.700000\n",
       "search_3       14.966667  21.850000\n",
       "search_2       15.000000  16.550000\n",
       "search_4       15.000000  15.233333\n",
       "search_7       15.116667  14.216667\n",
       "map            15.366667  13.950000\n",
       "search_5       15.383333  13.200000\n",
       "search_1       15.366667  12.916667\n",
       "search_6       15.266667  12.566667\n",
       "advert_open    15.400000  12.483333\n",
       "photos_show    16.366667   8.900000\n",
       "tips_show      22.500000   8.466667"
      ]
     },
     "metadata": {},
     "output_type": "display_data"
    },
    {
     "data": {
      "image/png": "[encoded data removed]",
      "text/plain": [
       "<Figure size 864x432 with 1 Axes>"
      ]
     },
     "metadata": {
      "needs_background": "light"
     },
     "output_type": "display_data"
    },
    {
     "name": "stdout",
     "output_type": "stream",
     "text": [
      "frequency_median\n"
     ]
    },
    {
     "data": {
      "text/html": [
       "<div>\n",
       "<style scoped>\n",
       "    .dataframe tbody tr th:only-of-type {\n",
       "        vertical-align: middle;\n",
       "    }\n",
       "\n",
       "    .dataframe tbody tr th {\n",
       "        vertical-align: top;\n",
       "    }\n",
       "\n",
       "    .dataframe thead th {\n",
       "        text-align: right;\n",
       "    }\n",
       "</style>\n",
       "<table border=\"1\" class=\"dataframe\">\n",
       "  <thead>\n",
       "    <tr style=\"text-align: right;\">\n",
       "      <th>sets</th>\n",
       "      <th>high</th>\n",
       "      <th>low</th>\n",
       "    </tr>\n",
       "    <tr>\n",
       "      <th>events</th>\n",
       "      <th></th>\n",
       "      <th></th>\n",
       "    </tr>\n",
       "  </thead>\n",
       "  <tbody>\n",
       "    <tr>\n",
       "      <th>search_2</th>\n",
       "      <td>41.379310</td>\n",
       "      <td>58.064516</td>\n",
       "    </tr>\n",
       "    <tr>\n",
       "      <th>search_3</th>\n",
       "      <td>41.379310</td>\n",
       "      <td>56.250000</td>\n",
       "    </tr>\n",
       "    <tr>\n",
       "      <th>search_6</th>\n",
       "      <td>41.379310</td>\n",
       "      <td>55.384615</td>\n",
       "    </tr>\n",
       "    <tr>\n",
       "      <th>search_7</th>\n",
       "      <td>41.860465</td>\n",
       "      <td>54.545455</td>\n",
       "    </tr>\n",
       "    <tr>\n",
       "      <th>search_5</th>\n",
       "      <td>41.379310</td>\n",
       "      <td>53.731343</td>\n",
       "    </tr>\n",
       "    <tr>\n",
       "      <th>search_4</th>\n",
       "      <td>41.379310</td>\n",
       "      <td>51.428571</td>\n",
       "    </tr>\n",
       "    <tr>\n",
       "      <th>tips_show</th>\n",
       "      <td>40.000000</td>\n",
       "      <td>47.368421</td>\n",
       "    </tr>\n",
       "    <tr>\n",
       "      <th>advert_open</th>\n",
       "      <td>41.379310</td>\n",
       "      <td>48.648649</td>\n",
       "    </tr>\n",
       "    <tr>\n",
       "      <th>map</th>\n",
       "      <td>41.379310</td>\n",
       "      <td>45.569620</td>\n",
       "    </tr>\n",
       "    <tr>\n",
       "      <th>photos_show</th>\n",
       "      <td>41.860465</td>\n",
       "      <td>42.857143</td>\n",
       "    </tr>\n",
       "    <tr>\n",
       "      <th>search_1</th>\n",
       "      <td>42.352941</td>\n",
       "      <td>38.297872</td>\n",
       "    </tr>\n",
       "    <tr>\n",
       "      <th>favorites_add</th>\n",
       "      <td>42.352941</td>\n",
       "      <td>37.894737</td>\n",
       "    </tr>\n",
       "    <tr>\n",
       "      <th>tips_click</th>\n",
       "      <td>42.352941</td>\n",
       "      <td>36.000000</td>\n",
       "    </tr>\n",
       "  </tbody>\n",
       "</table>\n",
       "</div>"
      ],
      "text/plain": [
       "sets                high        low\n",
       "events                             \n",
       "search_2       41.379310  58.064516\n",
       "search_3       41.379310  56.250000\n",
       "search_6       41.379310  55.384615\n",
       "search_7       41.860465  54.545455\n",
       "search_5       41.379310  53.731343\n",
       "search_4       41.379310  51.428571\n",
       "tips_show      40.000000  47.368421\n",
       "advert_open    41.379310  48.648649\n",
       "map            41.379310  45.569620\n",
       "photos_show    41.860465  42.857143\n",
       "search_1       42.352941  38.297872\n",
       "favorites_add  42.352941  37.894737\n",
       "tips_click     42.352941  36.000000"
      ]
     },
     "metadata": {},
     "output_type": "display_data"
    },
    {
     "data": {
      "image/png": "[encoded data removed]",
      "text/plain": [
       "<Figure size 864x432 with 1 Axes>"
      ]
     },
     "metadata": {
      "needs_background": "light"
     },
     "output_type": "display_data"
    },
    {
     "name": "stdout",
     "output_type": "stream",
     "text": [
      "target_conversion\n"
     ]
    },
    {
     "data": {
      "text/html": [
       "<div>\n",
       "<style scoped>\n",
       "    .dataframe tbody tr th:only-of-type {\n",
       "        vertical-align: middle;\n",
       "    }\n",
       "\n",
       "    .dataframe tbody tr th {\n",
       "        vertical-align: top;\n",
       "    }\n",
       "\n",
       "    .dataframe thead th {\n",
       "        text-align: right;\n",
       "    }\n",
       "</style>\n",
       "<table border=\"1\" class=\"dataframe\">\n",
       "  <thead>\n",
       "    <tr style=\"text-align: right;\">\n",
       "      <th>sets</th>\n",
       "      <th>high</th>\n",
       "      <th>low</th>\n",
       "    </tr>\n",
       "    <tr>\n",
       "      <th>events</th>\n",
       "      <th></th>\n",
       "      <th></th>\n",
       "    </tr>\n",
       "  </thead>\n",
       "  <tbody>\n",
       "    <tr>\n",
       "      <th>photos_show</th>\n",
       "      <td>0.029248</td>\n",
       "      <td>0.065556</td>\n",
       "    </tr>\n",
       "    <tr>\n",
       "      <th>search_1</th>\n",
       "      <td>0.031763</td>\n",
       "      <td>0.055831</td>\n",
       "    </tr>\n",
       "    <tr>\n",
       "      <th>favorites_add</th>\n",
       "      <td>0.033357</td>\n",
       "      <td>0.052492</td>\n",
       "    </tr>\n",
       "    <tr>\n",
       "      <th>search_7</th>\n",
       "      <td>0.034588</td>\n",
       "      <td>0.024827</td>\n",
       "    </tr>\n",
       "    <tr>\n",
       "      <th>tips_show</th>\n",
       "      <td>0.040622</td>\n",
       "      <td>0.022888</td>\n",
       "    </tr>\n",
       "    <tr>\n",
       "      <th>tips_click</th>\n",
       "      <td>0.034934</td>\n",
       "      <td>0.018171</td>\n",
       "    </tr>\n",
       "    <tr>\n",
       "      <th>map</th>\n",
       "      <td>0.037805</td>\n",
       "      <td>0.017512</td>\n",
       "    </tr>\n",
       "    <tr>\n",
       "      <th>search_2</th>\n",
       "      <td>0.035193</td>\n",
       "      <td>0.015369</td>\n",
       "    </tr>\n",
       "    <tr>\n",
       "      <th>advert_open</th>\n",
       "      <td>0.036399</td>\n",
       "      <td>0.014282</td>\n",
       "    </tr>\n",
       "    <tr>\n",
       "      <th>search_5</th>\n",
       "      <td>0.036919</td>\n",
       "      <td>0.013567</td>\n",
       "    </tr>\n",
       "    <tr>\n",
       "      <th>search_4</th>\n",
       "      <td>0.036475</td>\n",
       "      <td>0.011547</td>\n",
       "    </tr>\n",
       "    <tr>\n",
       "      <th>search_6</th>\n",
       "      <td>0.035986</td>\n",
       "      <td>0.008316</td>\n",
       "    </tr>\n",
       "    <tr>\n",
       "      <th>search_3</th>\n",
       "      <td>0.035285</td>\n",
       "      <td>0.006237</td>\n",
       "    </tr>\n",
       "  </tbody>\n",
       "</table>\n",
       "</div>"
      ],
      "text/plain": [
       "sets               high       low\n",
       "events                           \n",
       "photos_show    0.029248  0.065556\n",
       "search_1       0.031763  0.055831\n",
       "favorites_add  0.033357  0.052492\n",
       "search_7       0.034588  0.024827\n",
       "tips_show      0.040622  0.022888\n",
       "tips_click     0.034934  0.018171\n",
       "map            0.037805  0.017512\n",
       "search_2       0.035193  0.015369\n",
       "advert_open    0.036399  0.014282\n",
       "search_5       0.036919  0.013567\n",
       "search_4       0.036475  0.011547\n",
       "search_6       0.035986  0.008316\n",
       "search_3       0.035285  0.006237"
      ]
     },
     "metadata": {},
     "output_type": "display_data"
    },
    {
     "data": {
      "image/png": "[encoded data removed]",
      "text/plain": [
       "<Figure size 864x432 with 1 Axes>"
      ]
     },
     "metadata": {
      "needs_background": "light"
     },
     "output_type": "display_data"
    }
   ],
   "source": [
    "pivot_rel = (pivot\n",
    ".groupby(['metrics','events'])\n",
    ".apply(lambda x: x['value'].iloc[1] / x['value'].iloc[0] - 1)\n",
    ".rename('rel')\n",
    ".reset_index()\n",
    ".sort_values(by='rel')\n",
    ")\n",
    "\n",
    "palette = sns.color_palette('deep')\n",
    "\n",
    "# сравнение групп пользователей по каждой метрике\n",
    "for m in ['returned_rate', 'total_time_median', 'frequency_median', 'target_conversion']:\n",
    "    print(m)\n",
    "    metrics_df = pivot_rel[pivot_rel['metrics'] == m]\n",
    "    piv = pivot[pivot['metrics'] == m].pivot_table(index='events',\n",
    "                                                   columns='sets',\n",
    "                                                   values='value',\n",
    "                                                   aggfunc='sum')\\\n",
    "    .reindex(metrics_df['events'].tolist())\n",
    "    display(piv)\n",
    "#     условное форматирование\n",
    "    colors_list = ['tab:grey' if abs(rel) < 0.1 else\n",
    "                   (palette[3] if rel < 0 else palette[2])\n",
    "                   for rel in metrics_df['rel']]\n",
    "    \n",
    "    fig, ax = plt.subplots(figsize=(12,6))\n",
    "    sns.barplot(y='events', x='rel', data=pivot_rel[pivot_rel['metrics'] == m], palette=colors_list)\n",
    "    plt.title('Рейтинг событий по метрике {}\\n\\\n",
    "    от самого неэффективного к самому полезному'.format(m))\n",
    "    plt.ylabel('События')\n",
    "    plt.xlabel('Отношение метрик групп')\n",
    "    plt.grid()\n",
    "    plt.show()"
   ]
  },
  {
   "cell_type": "markdown",
   "metadata": {},
   "source": [
    "Выводы: в большинстве случаев нельзя однозначно сказать, что что-то в приложении работает не так. \n",
    "\n",
    "Хуже всего возвращаются (через неделю) пользователи, которые:\n",
    "- чаще добавляли предложения в избранное\n",
    "    - возможно, они нашли то, что искали, но не решились сразу купить. Это не говорит об их недовольстве функционалом приложения.\n",
    "- чаще кликали на предлагаемую рекламу\n",
    "    - возможно, тоже находили что нужно в рекламе\n",
    "- пользовались поиском 3, 2, 7\n",
    "    - поиск позволял находить нужное\n",
    "\n",
    "Меньше всего проводят времени в приложении:\n",
    "- те, кто чаще кликали на предлагаемую рекламу,\n",
    "- чаще добавляли предложения в избранное,\n",
    "    - откладывали на будущее, интервал наблюдения слишком мал\n",
    "- пользовались поиском 3\n",
    "    - возможно, он работает даже лучше других поисков\n",
    "\n",
    "Реже всего пользуются, если:\n",
    "- чаще пользовались поиском 2,3,6,7,5,4\n",
    "    - быстро находили нужное?\n",
    "- им показывали предложения\n",
    "    - то, что нужно?\n",
    "- они открывали рекламу\n",
    "\n",
    "Меньше всего целевая конверсия у тех, кто:\n",
    "- смотрел фото\n",
    "- пользовался поиском 1\n",
    "- добавлял объявления в избранное\n",
    "\n",
    "Довольно странной является работа поиска 1, который в отличие от других приводит к проигрышу в конверсии в целевые действия. Стоит так же проверить корректность отображения фотографий и возможность вернуться в приложение после просмотра рекламы."
   ]
  },
  {
   "cell_type": "markdown",
   "metadata": {},
   "source": [
    "## Шаг 4. Проверка статистических гипотез<a id='шаг6'></a>"
   ]
  },
  {
   "cell_type": "markdown",
   "metadata": {},
   "source": [
    "### Гипотеза для различных источников, из которых пользователи попали в приложение.<a id='шаг6.1'></a>\n",
    "- H0 конверсия пользователей из `yandex` и `google` не различается\n",
    "- H1: различается  "
   ]
  },
  {
   "cell_type": "markdown",
   "metadata": {},
   "source": [
    "Уровень критической статистической значимости p возьму за 5%."
   ]
  },
  {
   "cell_type": "markdown",
   "metadata": {},
   "source": [
    "Определение, было ли целевое действие - просмотр контактов?"
   ]
  },
  {
   "cell_type": "code",
   "execution_count": 38,
   "metadata": {},
   "outputs": [
    {
     "name": "stdout",
     "output_type": "stream",
     "text": [
      "Процент пользователей, которые совершили целевое действие, в целом: 22.85%\n"
     ]
    }
   ],
   "source": [
    "users_targets = data[data['event.name'] == 'contacts_show'].groupby('user.id')['event.name'].count().reset_index()\n",
    "print('Процент пользователей, которые совершили целевое действие, в целом: {:.2%}'.format(users_targets.shape[0] / data_users.shape[0]))"
   ]
  },
  {
   "cell_type": "code",
   "execution_count": 39,
   "metadata": {},
   "outputs": [
    {
     "data": {
      "text/plain": [
       "user.source\n",
       "google    0.243578\n",
       "other     0.185366\n",
       "yandex    0.247156\n",
       "Name: event.name, dtype: float64"
      ]
     },
     "execution_count": 39,
     "metadata": {},
     "output_type": "execute_result"
    }
   ],
   "source": [
    "# посчитаю процент пользователей по источникам в отдельности:\n",
    "users_ts = users_targets.merge(srs, left_on='user.id', right_on='user.id', how='right')\n",
    "users_ts = users_ts.fillna(0)\n",
    "users_ts.loc[users_ts['event.name'] > 1, 'event.name'] = 1\n",
    "users_ts.groupby('user.source')['event.name'].mean()"
   ]
  },
  {
   "cell_type": "markdown",
   "metadata": {},
   "source": [
    "Как видно, Яндекс и Гугл практически не отличаются друг от друга по конверсии, проседает относительно них \"другой\" источник. Проверю, есть ли отличия с т.з. статистики. Использую метод для сравнения долей:"
   ]
  },
  {
   "cell_type": "markdown",
   "metadata": {},
   "source": [
    "##### Проверка гипотезы  "
   ]
  },
  {
   "cell_type": "markdown",
   "metadata": {},
   "source": [
    "Подсчет нужной статистики для сравнения долей:"
   ]
  },
  {
   "cell_type": "code",
   "execution_count": 40,
   "metadata": {},
   "outputs": [
    {
     "name": "stdout",
     "output_type": "stream",
     "text": [
      "Яндекс: пользователей 1934, посмотрели контакты 478.0\n",
      "Гугл: пользователей 1129, посмотрели контакты 275.0\n"
     ]
    }
   ],
   "source": [
    "yand_sc = users_ts[users_ts['user.source'] == 'yandex']['event.name'].sum()\n",
    "yand_tr = users_ts[users_ts['user.source'] == 'yandex'].shape[0]\n",
    "goo_sc = users_ts[users_ts['user.source'] == 'google']['event.name'].sum()\n",
    "goo_tr = users_ts[users_ts['user.source'] == 'google'].shape[0]\n",
    "print('Яндекс: пользователей {}, посмотрели контакты {}'.format(yand_tr, yand_sc))\n",
    "print('Гугл: пользователей {}, посмотрели контакты {}'.format(goo_tr, goo_sc))"
   ]
  },
  {
   "cell_type": "code",
   "execution_count": 41,
   "metadata": {},
   "outputs": [
    {
     "name": "stdout",
     "output_type": "stream",
     "text": [
      "p-значение:  0.8244316027993777\n",
      "Не получилось отвергнуть нулевую гипотезу, нет оснований считать доли разными\n"
     ]
    }
   ],
   "source": [
    "def frac_compare(successes, trials, alpha=0.05):\n",
    "\n",
    "    # пропорция успехов в первой группе:\n",
    "    p1 = successes[0]/trials[0]\n",
    "\n",
    "    # пропорция успехов во второй группе:\n",
    "    p2 = successes[1]/trials[1]\n",
    "\n",
    "    # пропорция успехов в комбинированном датасете:\n",
    "    p_combined = (successes[0] + successes[1]) / (trials[0] + trials[1])\n",
    "\n",
    "    # разница пропорций в датасетах\n",
    "    difference = p1 - p2\n",
    "\n",
    "    # считаем статистику в ст.отклонениях стандартного нормального распределения\n",
    "    z_value = difference / mth.sqrt(p_combined * (1 - p_combined) * (1/trials[0] + 1/trials[1]))\n",
    "\n",
    "    # задаем стандартное нормальное распределение (среднее 0, ст.отклонение 1)\n",
    "    distr = st.norm(0, 1) \n",
    "\n",
    "    p_value = (1 - distr.cdf(abs(z_value))) * 2\n",
    "\n",
    "    print('p-значение: ', p_value)\n",
    "\n",
    "    if (p_value < alpha):\n",
    "        print(\"Отвергаем нулевую гипотезу: между долями есть значимая разница\")\n",
    "    else:\n",
    "        print(\"Не получилось отвергнуть нулевую гипотезу, нет оснований считать доли разными\")\n",
    "\n",
    "alpha = .05 # критический уровень статистической значимости\n",
    "successes = np.array([yand_sc, goo_sc])\n",
    "trials = np.array([yand_tr, goo_tr])\n",
    "frac_compare(successes, trials, alpha)"
   ]
  },
  {
   "cell_type": "markdown",
   "metadata": {},
   "source": [
    "### Собственная гипотеза.<a id='шаг6.2'></a>\n",
    "- Конверсия пользователей по источникам `Яндекс` и `другое` различаются\n",
    "- Не различаются  \n",
    "\n",
    "Уровень критической статистической значимости p возьму за 5%."
   ]
  },
  {
   "cell_type": "markdown",
   "metadata": {},
   "source": [
    "##### Проверка гипотезы  "
   ]
  },
  {
   "cell_type": "code",
   "execution_count": 42,
   "metadata": {},
   "outputs": [
    {
     "name": "stdout",
     "output_type": "stream",
     "text": [
      "Яндекс: пользователей 1934, посмотрели контакты 478.0\n",
      "Другое: пользователей 1230, посмотрели контакты 228.0\n"
     ]
    }
   ],
   "source": [
    "yand_sc = users_ts[users_ts['user.source'] == 'yandex']['event.name'].sum()\n",
    "yand_tr = users_ts[users_ts['user.source'] == 'yandex'].shape[0]\n",
    "oth_sc = users_ts[users_ts['user.source'] == 'other']['event.name'].sum()\n",
    "oth_tr = users_ts[users_ts['user.source'] == 'other'].shape[0]\n",
    "print('Яндекс: пользователей {}, посмотрели контакты {}'.format(yand_tr, yand_sc))\n",
    "print('Другое: пользователей {}, посмотрели контакты {}'.format(oth_tr, oth_sc))"
   ]
  },
  {
   "cell_type": "code",
   "execution_count": 43,
   "metadata": {},
   "outputs": [
    {
     "name": "stdout",
     "output_type": "stream",
     "text": [
      "p-значение:  4.7142597613403225e-05\n",
      "Отвергаем нулевую гипотезу: между долями есть значимая разница\n"
     ]
    }
   ],
   "source": [
    "alpha = .05 # критический уровень статистической значимости\n",
    "successes = np.array([yand_sc, oth_sc])\n",
    "trials = np.array([yand_tr, oth_tr])\n",
    "\n",
    "frac_compare(successes, trials, alpha)"
   ]
  },
  {
   "cell_type": "markdown",
   "metadata": {},
   "source": [
    "#### Выводы  по гипотезам<a id='шаг6.3'></a>"
   ]
  },
  {
   "cell_type": "markdown",
   "metadata": {},
   "source": [
    "Между долями пользователей, которые приходят из разных источников, нет статистически значимой разницы в конверсии в целевое действие `посмотреть контакты` между Яндексом и Гуглом, но есть - между Яндексом и другими источниками - у Яндекса значимо больше (более 24%)."
   ]
  },
  {
   "cell_type": "markdown",
   "metadata": {},
   "source": [
    "## Шаг 5. Выводы<a id='шаг7'></a>"
   ]
  },
  {
   "cell_type": "markdown",
   "metadata": {},
   "source": [
    "#### Предобработка:<a id='шаг7.1'></a>\n",
    "Данные о пользователях соответвуют поставленной задаче, отсутствуют дубликаты и неверные значения. Пришлось привести дату к нужному типу (был строковый). Для удобства также были переименованы названия столбцов, дубликат события `показать контакты`.\n",
    "\n",
    "#### Исследовательский анализ:<a id='шаг7.2'></a>\n",
    "Данные предоставлены почти за месяц, с 7 октября 2019 по 3 ноября 2019 включительно. События по датам распределены достаточно равномерно, следовательно, нет проблем с потерей данных. Пользователей больше привлекают рекомендованные объявления (14 в среднем) и фотографии в объявлениях (9 в среднем на пользователя).\n",
    "Карты показываются в среднем менее 3 раз на пользователя.\n",
    "\n",
    "#### Разбиение на группы<a id='шаг7.3'></a>\n",
    "В большинстве случаев нельзя однозначно сказать, что что-то в приложении работает не так. \n",
    "\n",
    "Хуже всего возвращаются (через неделю) пользователи, которые:\n",
    "- чаще добавляли предложения в избранное\n",
    "    - возможно, они нашли то, что искали, но не решились сразу купить. Это не говорит об их недовольстве функционалом приложения.\n",
    "- чаще кликали на предлагаемую рекламу\n",
    "    - возможно, тоже находили что нужно в рекламе\n",
    "- пользовались поиском 3, 2, 7\n",
    "    - поиск позволял находить нужное\n",
    "\n",
    "Меньше всего проводят времени в приложении:\n",
    "- те, кто чаще кликали на предлагаемую рекламу,\n",
    "- чаще добавляли предложения в избранное,\n",
    "    - откладывали на будущее?, интервал наблюдения слишком мал\n",
    "- пользовались поиском 3\n",
    "    - возможно, он работает даже лучше других поисков\n",
    "\n",
    "Реже всего пользуются, если:\n",
    "- чаще пользовались поиском 2,3,6,7,5,4\n",
    "    - быстро находили нужное?\n",
    "- им показывали предложения\n",
    "    - то, что нужно?\n",
    "- они открывали рекламу\n",
    "\n",
    "Меньше всего целевая конверсия у тех, кто:\n",
    "- смотрел фото\n",
    "- пользовался поиском 1\n",
    "- добавлял объявления в избранное\n",
    "\n",
    "#### Проверка гипотез<a id='шаг7.4'></a>\n",
    "Между долями пользователей, которые приходят из разных источников, нет статистически значимой разницы в конверсии в целевое действие посмотреть контакты между Яндексом и Гуглом, но есть - между Яндексом и другими источниками - у Яндекса значимо больше (более 24%).\n",
    "\n",
    "#### Рекомендации для бизнеса<a id='шаг7.5'></a>\n",
    "- Довольно странной является работа **поиска 1**, который в отличие от других приводит к проигрышу в конверсии в целевые действия.\n",
    "- Стоит так же проверить **корректность отображения фотографий** и возможность вернуться в приложение после просмотра **рекламы**.\n",
    "- Пользователи, которые добавили что-то в **избранное** и не заходят - возможно, забыли и им стоит **напомнить** про их выбор?\n",
    "- Использовать продвижение в **Яндексе** и **Гугле**, т.к. они приводят более лояльную аудиторию."
   ]
  }
 ],
 "metadata": {
  "kernelspec": {
   "display_name": "Python 3",
   "language": "python",
   "name": "python3"
  },
  "language_info": {
   "codemirror_mode": {
    "name": "ipython",
    "version": 3
   },
   "file_extension": ".py",
   "mimetype": "text/x-python",
   "name": "python",
   "nbconvert_exporter": "python",
   "pygments_lexer": "ipython3",
   "version": "3.8.3"
  },
  "toc": {
   "base_numbering": 1,
   "nav_menu": {},
   "number_sections": true,
   "sideBar": true,
   "skip_h1_title": true,
   "title_cell": "Table of Contents",
   "title_sidebar": "Contents",
   "toc_cell": false,
   "toc_position": {},
   "toc_section_display": true,
   "toc_window_display": false
  }
 },
 "nbformat": 4,
 "nbformat_minor": 4
}
