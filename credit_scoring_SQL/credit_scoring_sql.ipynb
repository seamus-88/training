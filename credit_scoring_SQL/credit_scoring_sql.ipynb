{
 "cells": [
  {
   "cell_type": "markdown",
   "metadata": {},
   "source": [
    "## Исследование надёжности заёмщиков (SQL)\n",
    "\n",
    "Задача: предварительный анализ данных о клиентах банка для настройки программы кредитного скоринга. Решить задачу с помощью SQL."
   ]
  },
  {
   "cell_type": "markdown",
   "metadata": {},
   "source": [
    "### <a id='step1'></a>Шаг 1. Открою файл с данными и изучу общую информацию"
   ]
  },
  {
   "cell_type": "code",
   "execution_count": 1,
   "metadata": {},
   "outputs": [],
   "source": [
    "import pandas as pd\n",
    "\n",
    "import sqlite3\n",
    "import matplotlib.pyplot as plt\n",
    "\n",
    "data_credit = pd.read_csv('datasets/data.csv')"
   ]
  },
  {
   "cell_type": "code",
   "execution_count": 2,
   "metadata": {
    "scrolled": true
   },
   "outputs": [
    {
     "name": "stdout",
     "output_type": "stream",
     "text": [
      "<class 'pandas.core.frame.DataFrame'>\n",
      "RangeIndex: 21525 entries, 0 to 21524\n",
      "Data columns (total 12 columns):\n",
      " #   Column            Non-Null Count  Dtype  \n",
      "---  ------            --------------  -----  \n",
      " 0   children          21525 non-null  int64  \n",
      " 1   days_employed     19351 non-null  float64\n",
      " 2   dob_years         21525 non-null  int64  \n",
      " 3   education         21525 non-null  object \n",
      " 4   education_id      21525 non-null  int64  \n",
      " 5   family_status     21525 non-null  object \n",
      " 6   family_status_id  21525 non-null  int64  \n",
      " 7   gender            21525 non-null  object \n",
      " 8   income_type       21525 non-null  object \n",
      " 9   debt              21525 non-null  int64  \n",
      " 10  total_income      19351 non-null  float64\n",
      " 11  purpose           21525 non-null  object \n",
      "dtypes: float64(2), int64(5), object(5)\n",
      "memory usage: 2.0+ MB\n"
     ]
    }
   ],
   "source": [
    "data_credit.info()"
   ]
  },
  {
   "cell_type": "code",
   "execution_count": 3,
   "metadata": {},
   "outputs": [
    {
     "data": {
      "text/html": [
       "<div>\n",
       "<style scoped>\n",
       "    .dataframe tbody tr th:only-of-type {\n",
       "        vertical-align: middle;\n",
       "    }\n",
       "\n",
       "    .dataframe tbody tr th {\n",
       "        vertical-align: top;\n",
       "    }\n",
       "\n",
       "    .dataframe thead th {\n",
       "        text-align: right;\n",
       "    }\n",
       "</style>\n",
       "<table border=\"1\" class=\"dataframe\">\n",
       "  <thead>\n",
       "    <tr style=\"text-align: right;\">\n",
       "      <th></th>\n",
       "      <th>children</th>\n",
       "      <th>days_employed</th>\n",
       "      <th>dob_years</th>\n",
       "      <th>education</th>\n",
       "      <th>education_id</th>\n",
       "      <th>family_status</th>\n",
       "      <th>family_status_id</th>\n",
       "      <th>gender</th>\n",
       "      <th>income_type</th>\n",
       "      <th>debt</th>\n",
       "      <th>total_income</th>\n",
       "      <th>purpose</th>\n",
       "    </tr>\n",
       "  </thead>\n",
       "  <tbody>\n",
       "    <tr>\n",
       "      <th>0</th>\n",
       "      <td>1</td>\n",
       "      <td>-8437.673028</td>\n",
       "      <td>42</td>\n",
       "      <td>высшее</td>\n",
       "      <td>0</td>\n",
       "      <td>женат / замужем</td>\n",
       "      <td>0</td>\n",
       "      <td>F</td>\n",
       "      <td>сотрудник</td>\n",
       "      <td>0</td>\n",
       "      <td>253875.639453</td>\n",
       "      <td>покупка жилья</td>\n",
       "    </tr>\n",
       "    <tr>\n",
       "      <th>1</th>\n",
       "      <td>1</td>\n",
       "      <td>-4024.803754</td>\n",
       "      <td>36</td>\n",
       "      <td>среднее</td>\n",
       "      <td>1</td>\n",
       "      <td>женат / замужем</td>\n",
       "      <td>0</td>\n",
       "      <td>F</td>\n",
       "      <td>сотрудник</td>\n",
       "      <td>0</td>\n",
       "      <td>112080.014102</td>\n",
       "      <td>приобретение автомобиля</td>\n",
       "    </tr>\n",
       "    <tr>\n",
       "      <th>2</th>\n",
       "      <td>0</td>\n",
       "      <td>-5623.422610</td>\n",
       "      <td>33</td>\n",
       "      <td>Среднее</td>\n",
       "      <td>1</td>\n",
       "      <td>женат / замужем</td>\n",
       "      <td>0</td>\n",
       "      <td>M</td>\n",
       "      <td>сотрудник</td>\n",
       "      <td>0</td>\n",
       "      <td>145885.952297</td>\n",
       "      <td>покупка жилья</td>\n",
       "    </tr>\n",
       "    <tr>\n",
       "      <th>3</th>\n",
       "      <td>3</td>\n",
       "      <td>-4124.747207</td>\n",
       "      <td>32</td>\n",
       "      <td>среднее</td>\n",
       "      <td>1</td>\n",
       "      <td>женат / замужем</td>\n",
       "      <td>0</td>\n",
       "      <td>M</td>\n",
       "      <td>сотрудник</td>\n",
       "      <td>0</td>\n",
       "      <td>267628.550329</td>\n",
       "      <td>дополнительное образование</td>\n",
       "    </tr>\n",
       "    <tr>\n",
       "      <th>4</th>\n",
       "      <td>0</td>\n",
       "      <td>340266.072047</td>\n",
       "      <td>53</td>\n",
       "      <td>среднее</td>\n",
       "      <td>1</td>\n",
       "      <td>гражданский брак</td>\n",
       "      <td>1</td>\n",
       "      <td>F</td>\n",
       "      <td>пенсионер</td>\n",
       "      <td>0</td>\n",
       "      <td>158616.077870</td>\n",
       "      <td>сыграть свадьбу</td>\n",
       "    </tr>\n",
       "  </tbody>\n",
       "</table>\n",
       "</div>"
      ],
      "text/plain": [
       "   children  days_employed  dob_years education  education_id  \\\n",
       "0         1   -8437.673028         42    высшее             0   \n",
       "1         1   -4024.803754         36   среднее             1   \n",
       "2         0   -5623.422610         33   Среднее             1   \n",
       "3         3   -4124.747207         32   среднее             1   \n",
       "4         0  340266.072047         53   среднее             1   \n",
       "\n",
       "      family_status  family_status_id gender income_type  debt   total_income  \\\n",
       "0   женат / замужем                 0      F   сотрудник     0  253875.639453   \n",
       "1   женат / замужем                 0      F   сотрудник     0  112080.014102   \n",
       "2   женат / замужем                 0      M   сотрудник     0  145885.952297   \n",
       "3   женат / замужем                 0      M   сотрудник     0  267628.550329   \n",
       "4  гражданский брак                 1      F   пенсионер     0  158616.077870   \n",
       "\n",
       "                      purpose  \n",
       "0               покупка жилья  \n",
       "1     приобретение автомобиля  \n",
       "2               покупка жилья  \n",
       "3  дополнительное образование  \n",
       "4             сыграть свадьбу  "
      ]
     },
     "execution_count": 3,
     "metadata": {},
     "output_type": "execute_result"
    }
   ],
   "source": [
    "data_credit.head()"
   ]
  },
  {
   "cell_type": "markdown",
   "metadata": {},
   "source": [
    "**Первоначальные выводы**: Таблица содержит 12 столбцов, и более 20 тыс. строк, достаточное количество для получения довольно достоверных статистических выводов.\n",
    "\n",
    "2 столбца (*отработанные дни и суммарный доход*) - имеют более 2 тыс. null элементов."
   ]
  },
  {
   "cell_type": "markdown",
   "metadata": {},
   "source": [
    "### Шаг 2. Ответы на вопросы<a id='step3'></a>"
   ]
  },
  {
   "cell_type": "markdown",
   "metadata": {},
   "source": [
    "Создам базу данных и загружу в неё таблицу."
   ]
  },
  {
   "cell_type": "code",
   "execution_count": 113,
   "metadata": {},
   "outputs": [],
   "source": [
    "conn = sqlite3.connect('db')\n",
    "cur = conn.cursor()"
   ]
  },
  {
   "cell_type": "code",
   "execution_count": 114,
   "metadata": {},
   "outputs": [],
   "source": [
    "data_credit.to_sql('data_credit', con=conn, index=False, if_exists='replace')"
   ]
  },
  {
   "cell_type": "code",
   "execution_count": 115,
   "metadata": {},
   "outputs": [],
   "source": [
    "# тестовый запрос\n",
    "query = '''\n",
    "select * from data_credit limit 10'''"
   ]
  },
  {
   "cell_type": "code",
   "execution_count": 116,
   "metadata": {},
   "outputs": [],
   "source": [
    "def select(sql):\n",
    "  return pd.read_sql(sql,conn)"
   ]
  },
  {
   "cell_type": "code",
   "execution_count": 117,
   "metadata": {
    "scrolled": true
   },
   "outputs": [
    {
     "data": {
      "text/html": [
       "<div>\n",
       "<style scoped>\n",
       "    .dataframe tbody tr th:only-of-type {\n",
       "        vertical-align: middle;\n",
       "    }\n",
       "\n",
       "    .dataframe tbody tr th {\n",
       "        vertical-align: top;\n",
       "    }\n",
       "\n",
       "    .dataframe thead th {\n",
       "        text-align: right;\n",
       "    }\n",
       "</style>\n",
       "<table border=\"1\" class=\"dataframe\">\n",
       "  <thead>\n",
       "    <tr style=\"text-align: right;\">\n",
       "      <th></th>\n",
       "      <th>children</th>\n",
       "      <th>days_employed</th>\n",
       "      <th>dob_years</th>\n",
       "      <th>education</th>\n",
       "      <th>education_id</th>\n",
       "      <th>family_status</th>\n",
       "      <th>family_status_id</th>\n",
       "      <th>gender</th>\n",
       "      <th>income_type</th>\n",
       "      <th>debt</th>\n",
       "      <th>total_income</th>\n",
       "      <th>purpose</th>\n",
       "      <th>wrong_values</th>\n",
       "      <th>days_category</th>\n",
       "      <th>purpose_category</th>\n",
       "      <th>children_category</th>\n",
       "      <th>work_category</th>\n",
       "      <th>age_category</th>\n",
       "      <th>income_level</th>\n",
       "      <th>have_family</th>\n",
       "    </tr>\n",
       "  </thead>\n",
       "  <tbody>\n",
       "    <tr>\n",
       "      <th>0</th>\n",
       "      <td>1</td>\n",
       "      <td>-8437.673028</td>\n",
       "      <td>42</td>\n",
       "      <td>высшее</td>\n",
       "      <td>0</td>\n",
       "      <td>женат / замужем</td>\n",
       "      <td>0</td>\n",
       "      <td>f</td>\n",
       "      <td>сотрудник</td>\n",
       "      <td>0</td>\n",
       "      <td>253875.639453</td>\n",
       "      <td>покупка жилья</td>\n",
       "      <td>0</td>\n",
       "      <td>меньше 0</td>\n",
       "      <td>1. недвижимость</td>\n",
       "      <td>2. один ребёнок</td>\n",
       "      <td>подчиненные (бизнес)</td>\n",
       "      <td>до 45 лет</td>\n",
       "      <td>5. высокий</td>\n",
       "      <td>есть семья</td>\n",
       "    </tr>\n",
       "    <tr>\n",
       "      <th>1</th>\n",
       "      <td>1</td>\n",
       "      <td>-4024.803754</td>\n",
       "      <td>36</td>\n",
       "      <td>среднее</td>\n",
       "      <td>1</td>\n",
       "      <td>женат / замужем</td>\n",
       "      <td>0</td>\n",
       "      <td>f</td>\n",
       "      <td>сотрудник</td>\n",
       "      <td>0</td>\n",
       "      <td>112080.014102</td>\n",
       "      <td>приобретение автомобиля</td>\n",
       "      <td>0</td>\n",
       "      <td>меньше 0</td>\n",
       "      <td>2. автомобиль</td>\n",
       "      <td>2. один ребёнок</td>\n",
       "      <td>подчиненные (бизнес)</td>\n",
       "      <td>до 45 лет</td>\n",
       "      <td>3. средний</td>\n",
       "      <td>есть семья</td>\n",
       "    </tr>\n",
       "    <tr>\n",
       "      <th>2</th>\n",
       "      <td>0</td>\n",
       "      <td>-5623.422610</td>\n",
       "      <td>33</td>\n",
       "      <td>среднее</td>\n",
       "      <td>1</td>\n",
       "      <td>женат / замужем</td>\n",
       "      <td>0</td>\n",
       "      <td>m</td>\n",
       "      <td>сотрудник</td>\n",
       "      <td>0</td>\n",
       "      <td>145885.952297</td>\n",
       "      <td>покупка жилья</td>\n",
       "      <td>0</td>\n",
       "      <td>меньше 0</td>\n",
       "      <td>1. недвижимость</td>\n",
       "      <td>1. нет детей</td>\n",
       "      <td>подчиненные (бизнес)</td>\n",
       "      <td>до 45 лет</td>\n",
       "      <td>3. средний</td>\n",
       "      <td>есть семья</td>\n",
       "    </tr>\n",
       "    <tr>\n",
       "      <th>3</th>\n",
       "      <td>3</td>\n",
       "      <td>-4124.747207</td>\n",
       "      <td>32</td>\n",
       "      <td>среднее</td>\n",
       "      <td>1</td>\n",
       "      <td>женат / замужем</td>\n",
       "      <td>0</td>\n",
       "      <td>m</td>\n",
       "      <td>сотрудник</td>\n",
       "      <td>0</td>\n",
       "      <td>267628.550329</td>\n",
       "      <td>дополнительное образование</td>\n",
       "      <td>0</td>\n",
       "      <td>меньше 0</td>\n",
       "      <td>4. образование</td>\n",
       "      <td>3. два и более детей</td>\n",
       "      <td>подчиненные (бизнес)</td>\n",
       "      <td>до 45 лет</td>\n",
       "      <td>5. высокий</td>\n",
       "      <td>есть семья</td>\n",
       "    </tr>\n",
       "    <tr>\n",
       "      <th>4</th>\n",
       "      <td>0</td>\n",
       "      <td>340266.072047</td>\n",
       "      <td>53</td>\n",
       "      <td>среднее</td>\n",
       "      <td>1</td>\n",
       "      <td>гражданский брак</td>\n",
       "      <td>1</td>\n",
       "      <td>f</td>\n",
       "      <td>пенсионер</td>\n",
       "      <td>0</td>\n",
       "      <td>158616.077870</td>\n",
       "      <td>сыграть свадьбу</td>\n",
       "      <td>0</td>\n",
       "      <td>больше 0</td>\n",
       "      <td>3. свадьба</td>\n",
       "      <td>1. нет детей</td>\n",
       "      <td>безработные</td>\n",
       "      <td>пенсионеры</td>\n",
       "      <td>4. выше среднего</td>\n",
       "      <td>есть семья</td>\n",
       "    </tr>\n",
       "    <tr>\n",
       "      <th>5</th>\n",
       "      <td>0</td>\n",
       "      <td>-926.185831</td>\n",
       "      <td>27</td>\n",
       "      <td>высшее</td>\n",
       "      <td>0</td>\n",
       "      <td>гражданский брак</td>\n",
       "      <td>1</td>\n",
       "      <td>m</td>\n",
       "      <td>компаньон</td>\n",
       "      <td>0</td>\n",
       "      <td>255763.565419</td>\n",
       "      <td>покупка жилья</td>\n",
       "      <td>0</td>\n",
       "      <td>меньше 0</td>\n",
       "      <td>1. недвижимость</td>\n",
       "      <td>1. нет детей</td>\n",
       "      <td>свой бизнес</td>\n",
       "      <td>до 45 лет</td>\n",
       "      <td>5. высокий</td>\n",
       "      <td>есть семья</td>\n",
       "    </tr>\n",
       "    <tr>\n",
       "      <th>6</th>\n",
       "      <td>0</td>\n",
       "      <td>-2879.202052</td>\n",
       "      <td>43</td>\n",
       "      <td>высшее</td>\n",
       "      <td>0</td>\n",
       "      <td>женат / замужем</td>\n",
       "      <td>0</td>\n",
       "      <td>f</td>\n",
       "      <td>компаньон</td>\n",
       "      <td>0</td>\n",
       "      <td>240525.971920</td>\n",
       "      <td>операции с жильем</td>\n",
       "      <td>0</td>\n",
       "      <td>меньше 0</td>\n",
       "      <td>1. недвижимость</td>\n",
       "      <td>1. нет детей</td>\n",
       "      <td>свой бизнес</td>\n",
       "      <td>до 45 лет</td>\n",
       "      <td>5. высокий</td>\n",
       "      <td>есть семья</td>\n",
       "    </tr>\n",
       "    <tr>\n",
       "      <th>7</th>\n",
       "      <td>0</td>\n",
       "      <td>-152.779569</td>\n",
       "      <td>50</td>\n",
       "      <td>среднее</td>\n",
       "      <td>1</td>\n",
       "      <td>женат / замужем</td>\n",
       "      <td>0</td>\n",
       "      <td>m</td>\n",
       "      <td>сотрудник</td>\n",
       "      <td>0</td>\n",
       "      <td>135823.934197</td>\n",
       "      <td>образование</td>\n",
       "      <td>0</td>\n",
       "      <td>меньше 0</td>\n",
       "      <td>4. образование</td>\n",
       "      <td>1. нет детей</td>\n",
       "      <td>подчиненные (бизнес)</td>\n",
       "      <td>после 45 лет</td>\n",
       "      <td>3. средний</td>\n",
       "      <td>есть семья</td>\n",
       "    </tr>\n",
       "    <tr>\n",
       "      <th>8</th>\n",
       "      <td>2</td>\n",
       "      <td>-6929.865299</td>\n",
       "      <td>35</td>\n",
       "      <td>высшее</td>\n",
       "      <td>0</td>\n",
       "      <td>гражданский брак</td>\n",
       "      <td>1</td>\n",
       "      <td>f</td>\n",
       "      <td>сотрудник</td>\n",
       "      <td>0</td>\n",
       "      <td>95856.832424</td>\n",
       "      <td>на проведение свадьбы</td>\n",
       "      <td>0</td>\n",
       "      <td>меньше 0</td>\n",
       "      <td>3. свадьба</td>\n",
       "      <td>3. два и более детей</td>\n",
       "      <td>подчиненные (бизнес)</td>\n",
       "      <td>до 45 лет</td>\n",
       "      <td>2. низкий</td>\n",
       "      <td>есть семья</td>\n",
       "    </tr>\n",
       "    <tr>\n",
       "      <th>9</th>\n",
       "      <td>0</td>\n",
       "      <td>-2188.756445</td>\n",
       "      <td>41</td>\n",
       "      <td>среднее</td>\n",
       "      <td>1</td>\n",
       "      <td>женат / замужем</td>\n",
       "      <td>0</td>\n",
       "      <td>m</td>\n",
       "      <td>сотрудник</td>\n",
       "      <td>0</td>\n",
       "      <td>144425.938277</td>\n",
       "      <td>покупка жилья для семьи</td>\n",
       "      <td>0</td>\n",
       "      <td>меньше 0</td>\n",
       "      <td>1. недвижимость</td>\n",
       "      <td>1. нет детей</td>\n",
       "      <td>подчиненные (бизнес)</td>\n",
       "      <td>до 45 лет</td>\n",
       "      <td>3. средний</td>\n",
       "      <td>есть семья</td>\n",
       "    </tr>\n",
       "  </tbody>\n",
       "</table>\n",
       "</div>"
      ],
      "text/plain": [
       "   children  days_employed  dob_years education  education_id  \\\n",
       "0         1   -8437.673028         42    высшее             0   \n",
       "1         1   -4024.803754         36   среднее             1   \n",
       "2         0   -5623.422610         33   среднее             1   \n",
       "3         3   -4124.747207         32   среднее             1   \n",
       "4         0  340266.072047         53   среднее             1   \n",
       "5         0    -926.185831         27    высшее             0   \n",
       "6         0   -2879.202052         43    высшее             0   \n",
       "7         0    -152.779569         50   среднее             1   \n",
       "8         2   -6929.865299         35    высшее             0   \n",
       "9         0   -2188.756445         41   среднее             1   \n",
       "\n",
       "      family_status  family_status_id gender income_type  debt   total_income  \\\n",
       "0   женат / замужем                 0      f   сотрудник     0  253875.639453   \n",
       "1   женат / замужем                 0      f   сотрудник     0  112080.014102   \n",
       "2   женат / замужем                 0      m   сотрудник     0  145885.952297   \n",
       "3   женат / замужем                 0      m   сотрудник     0  267628.550329   \n",
       "4  гражданский брак                 1      f   пенсионер     0  158616.077870   \n",
       "5  гражданский брак                 1      m   компаньон     0  255763.565419   \n",
       "6   женат / замужем                 0      f   компаньон     0  240525.971920   \n",
       "7   женат / замужем                 0      m   сотрудник     0  135823.934197   \n",
       "8  гражданский брак                 1      f   сотрудник     0   95856.832424   \n",
       "9   женат / замужем                 0      m   сотрудник     0  144425.938277   \n",
       "\n",
       "                      purpose  wrong_values days_category purpose_category  \\\n",
       "0               покупка жилья             0      меньше 0  1. недвижимость   \n",
       "1     приобретение автомобиля             0      меньше 0    2. автомобиль   \n",
       "2               покупка жилья             0      меньше 0  1. недвижимость   \n",
       "3  дополнительное образование             0      меньше 0   4. образование   \n",
       "4             сыграть свадьбу             0      больше 0       3. свадьба   \n",
       "5               покупка жилья             0      меньше 0  1. недвижимость   \n",
       "6           операции с жильем             0      меньше 0  1. недвижимость   \n",
       "7                 образование             0      меньше 0   4. образование   \n",
       "8       на проведение свадьбы             0      меньше 0       3. свадьба   \n",
       "9     покупка жилья для семьи             0      меньше 0  1. недвижимость   \n",
       "\n",
       "      children_category         work_category  age_category      income_level  \\\n",
       "0       2. один ребёнок  подчиненные (бизнес)     до 45 лет        5. высокий   \n",
       "1       2. один ребёнок  подчиненные (бизнес)     до 45 лет        3. средний   \n",
       "2          1. нет детей  подчиненные (бизнес)     до 45 лет        3. средний   \n",
       "3  3. два и более детей  подчиненные (бизнес)     до 45 лет        5. высокий   \n",
       "4          1. нет детей           безработные    пенсионеры  4. выше среднего   \n",
       "5          1. нет детей           свой бизнес     до 45 лет        5. высокий   \n",
       "6          1. нет детей           свой бизнес     до 45 лет        5. высокий   \n",
       "7          1. нет детей  подчиненные (бизнес)  после 45 лет        3. средний   \n",
       "8  3. два и более детей  подчиненные (бизнес)     до 45 лет         2. низкий   \n",
       "9          1. нет детей  подчиненные (бизнес)     до 45 лет        3. средний   \n",
       "\n",
       "  have_family  \n",
       "0  есть семья  \n",
       "1  есть семья  \n",
       "2  есть семья  \n",
       "3  есть семья  \n",
       "4  есть семья  \n",
       "5  есть семья  \n",
       "6  есть семья  \n",
       "7  есть семья  \n",
       "8  есть семья  \n",
       "9  есть семья  "
      ]
     },
     "execution_count": 117,
     "metadata": {},
     "output_type": "execute_result"
    }
   ],
   "source": [
    "select(query)"
   ]
  },
  {
   "cell_type": "markdown",
   "metadata": {},
   "source": [
    "#### Есть ли зависимость между наличием детей и возвратом кредита в срок?<a id='step3.1'></a>\n",
    "\n",
    "Сгруппируем таблицу по ранее добавленным категориям детей. Все некорректные значения из столбца удалены, поэтому дополнительных фильтров не нужно."
   ]
  },
  {
   "cell_type": "code",
   "execution_count": 118,
   "metadata": {},
   "outputs": [
    {
     "data": {
      "text/html": [
       "<div>\n",
       "<style scoped>\n",
       "    .dataframe tbody tr th:only-of-type {\n",
       "        vertical-align: middle;\n",
       "    }\n",
       "\n",
       "    .dataframe tbody tr th {\n",
       "        vertical-align: top;\n",
       "    }\n",
       "\n",
       "    .dataframe thead th {\n",
       "        text-align: right;\n",
       "    }\n",
       "</style>\n",
       "<table border=\"1\" class=\"dataframe\">\n",
       "  <thead>\n",
       "    <tr style=\"text-align: right;\">\n",
       "      <th></th>\n",
       "      <th>children_category</th>\n",
       "      <th>debt_percent</th>\n",
       "      <th>how_many_people</th>\n",
       "    </tr>\n",
       "  </thead>\n",
       "  <tbody>\n",
       "    <tr>\n",
       "      <th>0</th>\n",
       "      <td>1. нет детей</td>\n",
       "      <td>0.075458</td>\n",
       "      <td>14021</td>\n",
       "    </tr>\n",
       "    <tr>\n",
       "      <th>1</th>\n",
       "      <td>2. один ребёнок</td>\n",
       "      <td>0.092028</td>\n",
       "      <td>4792</td>\n",
       "    </tr>\n",
       "    <tr>\n",
       "      <th>2</th>\n",
       "      <td>3. два и более детей</td>\n",
       "      <td>0.093091</td>\n",
       "      <td>2417</td>\n",
       "    </tr>\n",
       "  </tbody>\n",
       "</table>\n",
       "</div>"
      ],
      "text/plain": [
       "      children_category  debt_percent  how_many_people\n",
       "0          1. нет детей      0.075458            14021\n",
       "1       2. один ребёнок      0.092028             4792\n",
       "2  3. два и более детей      0.093091             2417"
      ]
     },
     "metadata": {},
     "output_type": "display_data"
    },
    {
     "name": "stdout",
     "output_type": "stream",
     "text": [
      "Разница по проценту задолженности между категориями: 1.76%\n"
     ]
    },
    {
     "data": {
      "image/png": "[encoded data removed]",
      "text/plain": [
       "<Figure size 432x288 with 1 Axes>"
      ]
     },
     "metadata": {
      "needs_background": "light"
     },
     "output_type": "display_data"
    }
   ],
   "source": [
    "query = \"\"\"\n",
    "select children_category, AVG(t.debt) as debt_percent,\n",
    "COUNT(t.debt) as how_many_people from data_credit t group by children_category\"\"\"\n",
    "t = select(query)\n",
    "display(t)\n",
    "print('Разница по проценту задолженности между категориями: {:.2%}'.format(t.debt_percent.max() - t.debt_percent.min()))\n",
    "t.plot(kind='bar', x='children_category', y='debt_percent', grid=True, rot=45)\n",
    "plt.title('Процент возврата по кредиту в зависимости от\\nколичества детей')\n",
    "plt.xticks(ha='right')\n",
    "plt.ylabel('Процент возврата')\n",
    "plt.show()"
   ]
  },
  {
   "cell_type": "markdown",
   "metadata": {},
   "source": [
    "#### Вывод"
   ]
  },
  {
   "cell_type": "markdown",
   "metadata": {},
   "source": [
    "Зависимость есть (чем больше детей, тем больше вероятность задолженности), но разница менее чем в 2% при более чем 90% возврата в обоих случаях - незначительна. Если для бизнеса эта разница существенна, требуется дополнительная статистическая оценка."
   ]
  },
  {
   "cell_type": "markdown",
   "metadata": {},
   "source": [
    "#### Есть ли зависимость между семейным положением и возвратом кредита в срок?<a id='step3.2'></a>"
   ]
  },
  {
   "cell_type": "code",
   "execution_count": 119,
   "metadata": {},
   "outputs": [
    {
     "data": {
      "text/html": [
       "<div>\n",
       "<style scoped>\n",
       "    .dataframe tbody tr th:only-of-type {\n",
       "        vertical-align: middle;\n",
       "    }\n",
       "\n",
       "    .dataframe tbody tr th {\n",
       "        vertical-align: top;\n",
       "    }\n",
       "\n",
       "    .dataframe thead th {\n",
       "        text-align: right;\n",
       "    }\n",
       "</style>\n",
       "<table border=\"1\" class=\"dataframe\">\n",
       "  <thead>\n",
       "    <tr style=\"text-align: right;\">\n",
       "      <th></th>\n",
       "      <th>have_family</th>\n",
       "      <th>debt_percent</th>\n",
       "      <th>how_many_people</th>\n",
       "    </tr>\n",
       "  </thead>\n",
       "  <tbody>\n",
       "    <tr>\n",
       "      <th>0</th>\n",
       "      <td>есть семья</td>\n",
       "      <td>0.080000</td>\n",
       "      <td>16325</td>\n",
       "    </tr>\n",
       "    <tr>\n",
       "      <th>1</th>\n",
       "      <td>нет семьи</td>\n",
       "      <td>0.085219</td>\n",
       "      <td>4905</td>\n",
       "    </tr>\n",
       "  </tbody>\n",
       "</table>\n",
       "</div>"
      ],
      "text/plain": [
       "  have_family  debt_percent  how_many_people\n",
       "0  есть семья      0.080000            16325\n",
       "1   нет семьи      0.085219             4905"
      ]
     },
     "metadata": {},
     "output_type": "display_data"
    },
    {
     "name": "stdout",
     "output_type": "stream",
     "text": [
      "Разница по проценту задолженности между категориями: 0.52%\n"
     ]
    },
    {
     "data": {
      "image/png": "[encoded data removed]",
      "text/plain": [
       "<Figure size 432x288 with 1 Axes>"
      ]
     },
     "metadata": {
      "needs_background": "light"
     },
     "output_type": "display_data"
    }
   ],
   "source": [
    "query = \"\"\"\n",
    "select\n",
    "have_family,\n",
    "avg(t.debt) as debt_percent,\n",
    "count(t.debt) as how_many_people\n",
    "from data_credit t\n",
    "group by have_family\"\"\"\n",
    "t = select(query)\n",
    "display(t)\n",
    "print('Разница по проценту задолженности между категориями: {:.2%}'.format(t.debt_percent.max() - t.debt_percent.min()))\n",
    "t.plot(kind='bar', x='have_family', y='debt_percent', grid=True, rot=45)\n",
    "plt.title('Процент возврата по кредиту в зависимости от\\nсемейного положения')\n",
    "plt.xticks(ha='right')\n",
    "plt.ylabel('Процент возврата')\n",
    "plt.show()"
   ]
  },
  {
   "cell_type": "markdown",
   "metadata": {},
   "source": [
    "#### Вывод"
   ]
  },
  {
   "cell_type": "markdown",
   "metadata": {},
   "source": [
    "Разница ещё меньше, менее 1%, и опять же несопоставима с более чем 90% возвратами. Зависимость незначительна."
   ]
  },
  {
   "cell_type": "markdown",
   "metadata": {},
   "source": [
    "#### Есть ли зависимость между уровнем дохода и возвратом кредита в срок?<a id='step3.3'></a>\n",
    "\n",
    "Исключим оставленные в таблице **неверные** данные из выборки, а далее по аналогии."
   ]
  },
  {
   "cell_type": "code",
   "execution_count": 120,
   "metadata": {},
   "outputs": [
    {
     "data": {
      "text/html": [
       "<div>\n",
       "<style scoped>\n",
       "    .dataframe tbody tr th:only-of-type {\n",
       "        vertical-align: middle;\n",
       "    }\n",
       "\n",
       "    .dataframe tbody tr th {\n",
       "        vertical-align: top;\n",
       "    }\n",
       "\n",
       "    .dataframe thead th {\n",
       "        text-align: right;\n",
       "    }\n",
       "</style>\n",
       "<table border=\"1\" class=\"dataframe\">\n",
       "  <thead>\n",
       "    <tr style=\"text-align: right;\">\n",
       "      <th></th>\n",
       "      <th>income_level</th>\n",
       "      <th>debt_percent</th>\n",
       "      <th>how_many_people</th>\n",
       "    </tr>\n",
       "  </thead>\n",
       "  <tbody>\n",
       "    <tr>\n",
       "      <th>0</th>\n",
       "      <td>2. низкий</td>\n",
       "      <td>0.079846</td>\n",
       "      <td>4421</td>\n",
       "    </tr>\n",
       "    <tr>\n",
       "      <th>1</th>\n",
       "      <td>3. средний</td>\n",
       "      <td>0.088269</td>\n",
       "      <td>6922</td>\n",
       "    </tr>\n",
       "    <tr>\n",
       "      <th>2</th>\n",
       "      <td>4. выше среднего</td>\n",
       "      <td>0.083645</td>\n",
       "      <td>4818</td>\n",
       "    </tr>\n",
       "    <tr>\n",
       "      <th>3</th>\n",
       "      <td>5. высокий</td>\n",
       "      <td>0.070442</td>\n",
       "      <td>5068</td>\n",
       "    </tr>\n",
       "  </tbody>\n",
       "</table>\n",
       "</div>"
      ],
      "text/plain": [
       "       income_level  debt_percent  how_many_people\n",
       "0         2. низкий      0.079846             4421\n",
       "1        3. средний      0.088269             6922\n",
       "2  4. выше среднего      0.083645             4818\n",
       "3        5. высокий      0.070442             5068"
      ]
     },
     "metadata": {},
     "output_type": "display_data"
    },
    {
     "name": "stdout",
     "output_type": "stream",
     "text": [
      "Разница по проценту задолженности между категориями: 1.78%\n"
     ]
    },
    {
     "data": {
      "image/png": "[encoded data removed]",
      "text/plain": [
       "<Figure size 432x288 with 1 Axes>"
      ]
     },
     "metadata": {
      "needs_background": "light"
     },
     "output_type": "display_data"
    }
   ],
   "source": [
    "t = select('''\n",
    "select\n",
    "t.income_level,\n",
    "avg(t.debt) as debt_percent,\n",
    "count(t.debt) as how_many_people\n",
    "from data_credit t\n",
    "where income_level is not NULL\n",
    "group by income_level\n",
    "''')\n",
    "display(t)\n",
    "print('Разница по проценту задолженности между категориями: {:.2%}'.format(t.debt_percent.max() - t.debt_percent.min()))\n",
    "t.plot(kind='bar', x='income_level', y='debt_percent', grid=True, rot=45)\n",
    "plt.title('Процент возврата по кредиту в зависимости от\\nуровня дохода')\n",
    "plt.xticks(ha='right')\n",
    "plt.ylabel('Процент возврата')\n",
    "plt.show()"
   ]
  },
  {
   "cell_type": "markdown",
   "metadata": {},
   "source": [
    "#### Вывод"
   ]
  },
  {
   "cell_type": "markdown",
   "metadata": {},
   "source": [
    "Высокий уровень дохода предсказуемо показал большую вероятность возврата кредита в срок, однако *средний* доход и *выше среднего* показали бОльшой процент задержек по возврату, нежели *низкий*, так что об однозначной зависимости сказать нельзя.\n",
    "\n",
    "Различия в вероятности возврата кредита менее чем в 2% несопоставимо малы по сравнению с более чем 90% возврата у всех категорий, так что ей можно пренебречь. Однако если для бизнеса эта разница существенна, требуется дополнительная статистическая оценка."
   ]
  },
  {
   "cell_type": "markdown",
   "metadata": {},
   "source": [
    "#### Как разные цели кредита влияют на его возврат в срок?<a id='step3.4'></a>"
   ]
  },
  {
   "cell_type": "code",
   "execution_count": 121,
   "metadata": {},
   "outputs": [
    {
     "data": {
      "text/html": [
       "<div>\n",
       "<style scoped>\n",
       "    .dataframe tbody tr th:only-of-type {\n",
       "        vertical-align: middle;\n",
       "    }\n",
       "\n",
       "    .dataframe tbody tr th {\n",
       "        vertical-align: top;\n",
       "    }\n",
       "\n",
       "    .dataframe thead th {\n",
       "        text-align: right;\n",
       "    }\n",
       "</style>\n",
       "<table border=\"1\" class=\"dataframe\">\n",
       "  <thead>\n",
       "    <tr style=\"text-align: right;\">\n",
       "      <th></th>\n",
       "      <th>purpose_category</th>\n",
       "      <th>debt_percent</th>\n",
       "      <th>how_many_people</th>\n",
       "    </tr>\n",
       "  </thead>\n",
       "  <tbody>\n",
       "    <tr>\n",
       "      <th>0</th>\n",
       "      <td>1. недвижимость</td>\n",
       "      <td>0.072596</td>\n",
       "      <td>10703</td>\n",
       "    </tr>\n",
       "    <tr>\n",
       "      <th>1</th>\n",
       "      <td>2. автомобиль</td>\n",
       "      <td>0.093236</td>\n",
       "      <td>4258</td>\n",
       "    </tr>\n",
       "    <tr>\n",
       "      <th>2</th>\n",
       "      <td>3. свадьба</td>\n",
       "      <td>0.078730</td>\n",
       "      <td>2299</td>\n",
       "    </tr>\n",
       "    <tr>\n",
       "      <th>3</th>\n",
       "      <td>4. образование</td>\n",
       "      <td>0.092947</td>\n",
       "      <td>3970</td>\n",
       "    </tr>\n",
       "  </tbody>\n",
       "</table>\n",
       "</div>"
      ],
      "text/plain": [
       "  purpose_category  debt_percent  how_many_people\n",
       "0  1. недвижимость      0.072596            10703\n",
       "1    2. автомобиль      0.093236             4258\n",
       "2       3. свадьба      0.078730             2299\n",
       "3   4. образование      0.092947             3970"
      ]
     },
     "metadata": {},
     "output_type": "display_data"
    },
    {
     "name": "stdout",
     "output_type": "stream",
     "text": [
      "Разница по проценту задолженности между категориями: 2.06%\n"
     ]
    },
    {
     "data": {
      "image/png": "[encoded data removed]",
      "text/plain": [
       "<Figure size 432x288 with 1 Axes>"
      ]
     },
     "metadata": {
      "needs_background": "light"
     },
     "output_type": "display_data"
    }
   ],
   "source": [
    "t = select('''\n",
    "select\n",
    "purpose_category,\n",
    "avg(debt) as debt_percent,\n",
    "count(debt) as how_many_people\n",
    "from data_credit t\n",
    "group by t.purpose_category''')\n",
    "display(t)\n",
    "print('Разница по проценту задолженности между категориями: {:.2%}'.format(t.debt_percent.max() - t.debt_percent.min()))\n",
    "t.plot(kind='bar', x='purpose_category', y='debt_percent', grid=True, rot=45)\n",
    "plt.title('Процент возврата по кредиту в зависимости от\\nцелей кредита')\n",
    "plt.xticks(ha='right')\n",
    "plt.ylabel('Процент возврата')\n",
    "plt.show()"
   ]
  },
  {
   "cell_type": "markdown",
   "metadata": {},
   "source": [
    "#### Вывод"
   ]
  },
  {
   "cell_type": "markdown",
   "metadata": {},
   "source": [
    "2% разницы несопоставимо малы по сравнению с 90% возврата, так что ей можно пренебречь, как и в предыдущих случаях. Если для бизнеса эта разница существенна, требуется дополнительная статистическая оценка."
   ]
  },
  {
   "cell_type": "markdown",
   "metadata": {},
   "source": [
    "### Шаг 4. Общий вывод<a id='step4'></a>"
   ]
  },
  {
   "cell_type": "markdown",
   "metadata": {},
   "source": [
    "##### Выводы\n",
    "При проверках возврата кредита в срок контролировалось достаточное количество людей в каждой категории, позволяющее повысить точность оценки, и для удобства данные переводились в проценты с перепроверкой соотношений.\n",
    "\n",
    "Все проверки показали, что разница в 2% или менее (меньше всего проявились различия в зависимости от наличия/отсутствия семьи) между проверяемыми категориями несопоставимо мала по сравнению с более 90% возвратов кредита в срок, поэтому какие-либо выводы исходя из текущих данных и исследований делать преждевременно. Если для бизнеса **значительна эта разница**, нужно проводить более глубокую статистическую (*разброс значений*, оценка *погрешности* и т.п.) оценка для определения достоверности результатов.\n",
    "\n",
    "Особенно информативной она будет для оценки *случайности противоречивости* результатов для 4 категорий по *уровню дохода*. Может быть, разброс значений, а следовательно, и *погрешность* измерений оказались чуть больше 2% разброса по среднему в данном случае, а следовательно, зависимость есть?\n",
    "\n",
    "Поэтому *без более глубокой статистической оценки* (величина разброса и т.п.) или анализа нескольких выборок, нельзя утверждать, будет ли эта тенденция повторяться от выборки к выборке или совершенно случайна."
   ]
  }
 ],
 "metadata": {
  "kernelspec": {
   "display_name": "Python 3",
   "language": "python",
   "name": "python3"
  },
  "language_info": {
   "codemirror_mode": {
    "name": "ipython",
    "version": 3
   },
   "file_extension": ".py",
   "mimetype": "text/x-python",
   "name": "python",
   "nbconvert_exporter": "python",
   "pygments_lexer": "ipython3",
   "version": "3.8.3"
  }
 },
 "nbformat": 4,
 "nbformat_minor": 2
}
